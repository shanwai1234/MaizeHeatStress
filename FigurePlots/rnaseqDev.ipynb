{
 "cells": [
  {
   "cell_type": "markdown",
   "metadata": {},
   "source": [
    "## RNASeq Development"
   ]
  },
  {
   "cell_type": "code",
   "execution_count": 1,
   "metadata": {},
   "outputs": [],
   "source": [
    "import os\n",
    "import subprocess\n",
    "import re\n",
    "import logging\n",
    "from collections import defaultdict\n",
    "from datetime import datetime\n",
    "import tempfile\n",
    "import pickle\n",
    "from glob import glob"
   ]
  },
  {
   "cell_type": "code",
   "execution_count": 2,
   "metadata": {},
   "outputs": [],
   "source": [
    "from importlib import reload\n",
    "import dogma.dna.define\n",
    "import dogma.utils\n",
    "reload(dogma.dna.define)\n",
    "from dogma.dna.define import Region, Sequence, GeneSpace, Transcript\n",
    "reload(dogma.utils)\n",
    "from dogma.utils import ngsUtils, configUtils\n",
    "#reload(ngsUtils)\n"
   ]
  },
  {
   "cell_type": "code",
   "execution_count": 3,
   "metadata": {},
   "outputs": [],
   "source": [
    "import pandas as pd\n",
    "import numpy as np\n",
    "import pybedtools\n",
    "from pybedtools import BedTool\n",
    "import pysam"
   ]
  },
  {
   "cell_type": "markdown",
   "metadata": {},
   "source": [
    "## Major Steps in the Pipeline\n",
    "- Prepare Inputs / Configurations\n",
    "    - Samples with BAM path \n",
    "    - Gene name\n",
    "    - Output directory\n",
    "- Generate bwa index for each isoform of a given gene\n",
    "- Subset reads from BAM file(s) for a given gene region\n",
    "    - Determine the genome build of BAM files to define region to subset reads\n",
    "    - Use Sambamba/BedTools to extract paired end FASTQ reads in a region\n",
    "    - Assign sample name to each FASTQ read\n",
    "- Generate batches of FASTQ reads \n",
    "- Process each batch in the following way\n",
    "    - Align paired-end FASTQ reads against all the isoforms of a gene using bwa aln\n",
    "    - Parse BAM files to assign each read to one of the isoforms and mark for suitable variant call i.e. SNV/InDel/SV/ITD etc.\n",
    "- Organize parsed output in sample- and isoform-wise manner\n",
    "- Variant calling\n",
    "- Annotations w.r.t. assigned isoforms "
   ]
  },
  {
   "cell_type": "markdown",
   "metadata": {},
   "source": [
    "## Functions"
   ]
  },
  {
   "cell_type": "code",
   "execution_count": 4,
   "metadata": {},
   "outputs": [],
   "source": [
    "def prepareSampleNameMap(sampleFile: os.path, wdir: os.path, projectid: str) -> pd.DataFrame:\n",
    "    \"\"\"Prepare sample map to hold short SIDs\"\"\"\n",
    "    sampleDf = pd.read_csv(sampleFile, sep=\"\\t\", header=None, names=['Sample', 'BAM'])\n",
    "    sampleDf['SID'] = [f'S{i}' for i, _ in enumerate(sampleDf['Sample'], 1)]\n",
    "    ofn = os.path.join(wdir, projectid + '_SampleMap.tsv')\n",
    "    sampleDf.to_csv(ofn, sep=\"\\t\", index=False)\n",
    "    return sampleDf"
   ]
  },
  {
   "cell_type": "code",
   "execution_count": 5,
   "metadata": {},
   "outputs": [],
   "source": [
    "def prepareSampleConfig(sampleName: str, bamPath: os.path) -> dict:\n",
    "    sampleConfig = {}\n",
    "    sampleConfig['SID'] = sampleName\n",
    "    sampleConfig['BAM'] = os.path.abspath(bamPath)\n",
    "    sampleConfig['Genome'] = ngsUtils.aa06_determine_genome_build_of_bam(bamPath)\n",
    "    chrTag = ngsUtils.aa05_does_bam_file_have_chr_tag(bamPath)\n",
    "    if not chrTag:\n",
    "        sampleConfig['removeChrPrefix'] = True\n",
    "    else:\n",
    "        sampleConfig['removeChrPrefix'] = False\n",
    "    return sampleConfig"
   ]
  },
  {
   "cell_type": "code",
   "execution_count": 6,
   "metadata": {},
   "outputs": [],
   "source": [
    "def extractGeneReadsFromBAM(bam: os.path, sampleName: str, outDir: os.path, geneConfigs:configUtils.GeneConfig, suffix='') -> list:\n",
    "    \"\"\"\n",
    "    Extract paired end FASTQ reads from the BAM file for a given gene specified in geneConfigs\n",
    "    \"\"\"\n",
    "    genome = ngsUtils.aa06_determine_genome_build_of_bam(bam)\n",
    "    chrTag = ngsUtils.aa05_does_bam_file_have_chr_tag(bam)\n",
    "    geneBedFname = os.path.join(outDir, geneConfigs.gene + f\".gene.{genome}.bed\")\n",
    "    geneBamFname = os.path.join(outDir, geneConfigs.project + '_' + geneConfigs.gene + f\"_{sampleName}_{suffix}.gene.{genome}\")\n",
    "    if not chrTag:\n",
    "        bedFile = Region.convertRegionListToBed(geneConfigs.confDict[genome]['GeneRegions'], ofn=geneBedFname, removeChrPrefix=True)\n",
    "    else:\n",
    "        bedFile = Region.convertRegionListToBed(geneConfigs.confDict[genome]['GeneRegions'], ofn=geneBedFname, removeChrPrefix=False)\n",
    "    #fastqFiles = ngsUtils.ba03_slice_bam_2_fastq(bam, bedFile, geneBamFname)\n",
    "    fastqFiles = ngsUtils.ba14_slice_bam_2_fastq_withSampleHeader(bam, bedFile, geneBamFname, sampleName)\n",
    "    return fastqFiles"
   ]
  },
  {
   "cell_type": "code",
   "execution_count": 7,
   "metadata": {},
   "outputs": [],
   "source": [
    "def extractReadnameRecordFromBAM(\n",
    "        readname: str, bam: os.path,\n",
    "        sambambaPath: os.path\n",
    "):\n",
    "    extractCmd = f\"{sambambaPath} view -F \\\" read_name == '{readname}' \\\" {bam}\"\n",
    "    process = subprocess.run([extractCmd], capture_output=True, text=True, shell=True)\n",
    "    #print(process.returncode)\n",
    "    columns=['qname', 'flag', 'rname', 'pos', 'mapq', 'cigar', 'rnext', 'pnext', 'tlen', 'seq', 'qual']\n",
    "    if process.returncode == 0 and process.stdout != '':\n",
    "        return pd.DataFrame(\n",
    "            [record.split(\"\\t\")[0:11] for record in process.stdout.split(\"\\n\")[:-1]],\n",
    "            columns=columns\n",
    "        )\n",
    "    else:\n",
    "        return pd.DataFrame(columns=columns)"
   ]
  },
  {
   "cell_type": "code",
   "execution_count": 8,
   "metadata": {},
   "outputs": [],
   "source": [
    "def extractReadnameRecordFromIsoformBAMs(\n",
    "        readname: str, bamList: list, geneConfigs: configUtils.GeneConfig\n",
    "):\n",
    "    #def mergeBatchBamFiles(bamBatchDict: dict, geneConfigs: configUtils.GeneConfig):\n",
    "    \"\"\"\n",
    "    Extract BAM records for given readname from all the isoforms in a given list of BAM file\n",
    "    readname: read ID\n",
    "    bamList: Lists of BAM files for all isoforms in a given batch.\n",
    "    \"\"\"\n",
    "    readMappingDfs = []\n",
    "    for bam in bamList:\n",
    "        isoformDf = extractReadnameRecordFromBAM(readname, bam=bam, sambambaPath=geneConfigs.apps['sambamba'])\n",
    "        readMappingDfs.append(isoformDf)\n",
    "    return pd.concat(readMappingDfs).reset_index(drop=True)"
   ]
  },
  {
   "cell_type": "code",
   "execution_count": 9,
   "metadata": {},
   "outputs": [],
   "source": [
    "def postProcessReadMappingDf(readIsoformMappingDf:pd.DataFrame):\n",
    "    pass"
   ]
  },
  {
   "cell_type": "code",
   "execution_count": 10,
   "metadata": {},
   "outputs": [],
   "source": [
    "def assignReadIsoform(readIsoformMappingDf: pd.DataFrame):\n",
    "    \"\"\"\n",
    "    Assign read to a specific isoform\n",
    "    readIsoformMappingDf: A dataframe of BAM records from gene isoforms for a single read id. \n",
    "    \"\"\"\n",
    "    pass"
   ]
  },
  {
   "cell_type": "code",
   "execution_count": 11,
   "metadata": {},
   "outputs": [],
   "source": [
    "def concatFastqBatches(outdir, r1Pattern: str, r2Pattern: str, fq1: str, fq2: str) -> list:\n",
    "    cmd1 = [\"find\", outdir, \"-type f -name\", r1Pattern, \"-exec cat {} + >\", fq1]\n",
    "    cmd2 = [\"find\", outdir, \"-type f -name\", r2Pattern, \"-exec cat {} + >\", fq2]\n",
    "    #find /dir/to/search/ -type f -name \"FILE-TO-FIND-Regex\" -exec rm {} \\;\n",
    "    # find . -type f -name \"TARGETAML_NRAS*prebatch_1.gene.*.R1.fastq.gz\" -exec cat {} + > file1.gz\n",
    "\n",
    "    # find filename -name '*.txt' -print0 | sort -z | xargs -0 cat  > combined.txt\n",
    "    cmd1 = [\"find\", outdir, \"-type f -name\", r1Pattern, \"-print0 | sort -z | xargs -0 cat >\", fq1]\n",
    "    cmd2 = [\"find\", outdir, \"-type f -name\", r2Pattern, \"-print0 | sort -z | xargs -0 cat >\", fq2]\n",
    "\n",
    "    cmd3 = [\"find\", outdir, \"-type f -name\", r1Pattern, \"-exec rm {} \\;\"]\n",
    "    cmd4 = [\"find\", outdir, \"-type f -name\", r2Pattern, \"-exec rm {} \\;\"]\n",
    "\n",
    "    os.system(\" \".join(cmd1))\n",
    "    os.system(\" \".join(cmd2))\n",
    "    os.system(\" \".join(cmd3))\n",
    "    os.system(\" \".join(cmd4))\n",
    "\n",
    "    return [fq1, fq2]"
   ]
  },
  {
   "cell_type": "code",
   "execution_count": 12,
   "metadata": {},
   "outputs": [],
   "source": [
    "def extractReadNamesFromFASTQ(r1Fqs: list, geneConfigs: configUtils.GeneConfig):\n",
    "    \"\"\"\n",
    "    Extract readnames per FASTQ batch\n",
    "    \"\"\"\n",
    "    getReadsIDsJobDict = {}\n",
    "    batchIDs = []\n",
    "    readNameFiles = []\n",
    "    seqkit = geneConfigs.apps['seqkit']\n",
    "    for fq1 in r1Fqs:\n",
    "        batch = os.path.basename(fq1).split(\".\")[-3]\n",
    "        batchIDs.append(batch)\n",
    "        jobNameRead = f'{geneConfigs.project}_{geneConfigs.gene}_{batch}_readnames'\n",
    "        outReadFn = os.path.join(geneConfigs.WDIR, jobNameRead)\n",
    "        readNameFiles.append(outReadFn)\n",
    "        extractReadIn = os.path.join(geneConfigs.WDIR, f'{geneConfigs.project}_{geneConfigs.gene}_raw.R1.{batch}.fastq.gz')\n",
    "        readExtractCmd = f'\"{seqkit} fx2tab -n {extractReadIn} > {outReadFn}\"'\n",
    "        getReadsIDsJobDict[jobNameRead] = readExtractCmd\n",
    "    readNamejobStatus = ngsUtils.submitAndMonitorJobs(\n",
    "        getReadsIDsJobDict, wdir=geneConfigs.WDIR, jobDescription=\"Extract readnames from the FASTQ batches\"\n",
    "    )\n",
    "    if readNamejobStatus[0]:\n",
    "        return readNameFiles, batchIDs\n",
    "    else:\n",
    "        return False, False"
   ]
  },
  {
   "cell_type": "code",
   "execution_count": 13,
   "metadata": {},
   "outputs": [],
   "source": [
    "def mapFastqReadsSinglePair(\n",
    "        bwaIndex: os.path,\n",
    "        fq1: os.path,\n",
    "        fq2: os.path,\n",
    "        outdir: os.path,\n",
    "        prefix: str,\n",
    "        threads: int = 4,\n",
    "\n",
    "):\n",
    "    mappingScript = \"/research_jude/rgs01_jude/groups/xmagrp/projects/AMLRelapse/xmagrp/CohortTracker/dev/rnaseq/rnaseq/mapReads.py\"\n",
    "    mappingJobDict = {}\n",
    "    mapCmd = f\"python {mappingScript} -index {bwaIndex} -fq1 {fq1} -fq2 {fq2} -prefix {prefix} -threads {threads}\"\n",
    "    mappingJobDict[prefix] = mapCmd\n",
    "\n",
    "    mapJobStatus = ngsUtils.submitAndMonitorJobs(mappingJobDict, wdir=outdir, jobDescription=f\"Map reads against {bwaIndex}\")\n",
    "    if mapJobStatus[0]:\n",
    "          return os.path.join(outdir, prefix + \".bam\")\n",
    "    else:\n",
    "      return False"
   ]
  },
  {
   "cell_type": "code",
   "execution_count": 14,
   "metadata": {},
   "outputs": [],
   "source": [
    "def subsetFastqByReadNames(\n",
    "        readsToExtract: os.path, \n",
    "        batchFq1: os.path, batchFq2: os.path, outSuffix: str,\n",
    "        outdir: os.path\n",
    "):\n",
    "    r1File = os.path.join(outdir, outSuffix + \"_rest.R1.fastq.gz\")\n",
    "    r2File = os.path.join(outdir, outSuffix + \"_rest.R2.fastq.gz\")\n",
    "    seqkit = \"/research/rgs01/applications/hpcf/authorized_apps/rhel7_apps/seqkit/vendor/2.1.0/seqkit\"\n",
    "    extractFqCmd1 = f\"{seqkit} grep -n -f {readsToExtract} -o {r1File} {batchFq1}\"\n",
    "    r1Pstatus = subprocess.call([extractFqCmd1], shell=True)\n",
    "    extractFqCmd2 = f\"{seqkit} grep -n -f {readsToExtract} -o {r2File} {batchFq2}\"\n",
    "    r2Pstatus = subprocess.call([extractFqCmd2], shell=True)\n",
    "    if (r1Pstatus + r2Pstatus) == 0:\n",
    "        return r1File, r2File\n",
    "    else:\n",
    "        print(\"Something went wrong while extracting unmatched reads from the FASTQ file\")\n",
    "        return False, False\n"
   ]
  },
  {
   "cell_type": "code",
   "execution_count": 15,
   "metadata": {},
   "outputs": [],
   "source": [
    "def parsePerfectMappedReads(\n",
    "        bam: os.path, outSuffix: str, outdir: os.path, mappingQuality: int = 55\n",
    "):\n",
    "    outBamfile = os.path.join(outdir, outSuffix + '.bam')\n",
    "    extractMatchedReadsBamCmd = f'sambamba view -f bam -o {outBamfile} -F \" mapping_quality >= {mappingQuality} and cigar =~ /^\\d+M$/ \" {bam} '\n",
    "    print(extractMatchedReadsBamCmd)\n",
    "    extractMatchedReadsBamCmdStatus = subprocess.call([extractMatchedReadsBamCmd], shell=True)\n",
    "    \n",
    "    if extractMatchedReadsBamCmdStatus == 0:\n",
    "        unMatchedRestReadsFile = os.path.join(outdir, outSuffix + \"_UNMATCHED_READNAMES\")\n",
    "        extractUnMatchedReadIDsCmd = f'sambamba view -F \" not ( mapping_quality >= {mappingQuality} and cigar =~ /^\\d+M$/ ) \" {bam} | cut -f1 | sort | uniq > {unMatchedRestReadsFile}'\n",
    "        extractUnMatchedReadIDsCmdStatus = subprocess.call([extractUnMatchedReadIDsCmd], shell=True)\n",
    "        if extractUnMatchedReadIDsCmdStatus == 0:\n",
    "            extractMatchedSingleReadIDsCmd_p1 = f'sambamba view -F \" not ( mapping_quality >= {mappingQuality} and cigar =~ /^\\d+M$/ ) \" {bam} | cut -f1 | sort | uniq -c '\n",
    "            extractMatchedSingleReadIDsCmd_p2 = f\" | awk -F '[[:space:]]+' '{{if ( $2 == 1 ) print $3}}' >> {unMatchedRestReadsFile}\"\n",
    "            extractMatchedSingleReadIDsCmdStatus = subprocess.call([extractMatchedSingleReadIDsCmd_p1, extractMatchedSingleReadIDsCmd_p2], shell=True)\n",
    "            if extractMatchedSingleReadIDsCmdStatus == 0:\n",
    "                return outBamfile, unMatchedRestReadsFile\n",
    "        else:\n",
    "            print(f\"Something went wrong while parsing perfectly matched reads from {bam}\")\n",
    "    else:\n",
    "        return False, False"
   ]
  },
  {
   "cell_type": "code",
   "execution_count": 16,
   "metadata": {},
   "outputs": [],
   "source": [
    "def processFastqBatchForIsoforms(batchFq1, batchFq2, orderedIsoforms, geneConfigs):\n",
    "    readsToExtract = None\n",
    "    iterationNum = 0\n",
    "    batchIsoBams = []\n",
    "    batchID = os.path.basename(batchFq1).split(\".\")[-3]\n",
    "    for isoform in orderedIsoforms:\n",
    "        print(f\"Iteration: {iterationNum}\")\n",
    "        isoformName = \"_\".join(os.path.basename(isoform).replace(\".fa\", \"\").split(\"_\")[2:])\n",
    "        outSuffix = f\"{geneConfigs.project}_{geneConfigs.gene}_{isoformName}_{batchID}\"\n",
    "        if (readsToExtract is None) and (iterationNum == 0):\n",
    "            fq1 = batchFq1\n",
    "            fq2 = batchFq2\n",
    "            \n",
    "        else:\n",
    "            print(\"In subsetting FASTQ step\")\n",
    "            fq1, fq2 = subsetFastqByReadNames(readsToExtract, batchFq1, batchFq2, outSuffix, outdir=geneConfigs.WDIR)\n",
    "        print(\"Mapping reads\")\n",
    "        isoformBam = mapFastqReadsSinglePair(\n",
    "            bwaIndex=isoform, fq1=fq1, fq2=fq2, outdir= geneConfigs.WDIR,\n",
    "            prefix=outSuffix\n",
    "        )\n",
    "        print(isoformBam)\n",
    "        outSuffix = outSuffix + f\"_MATCHEDREADS_{iterationNum}\"\n",
    "        if isoformBam:\n",
    "            print(isoformBam, outSuffix)\n",
    "            outBamfile, unMatchedRestReadsFile = parsePerfectMappedReads(isoformBam, outdir=geneConfigs.WDIR, outSuffix=outSuffix)\n",
    "            batchIsoBams.append(outBamfile)\n",
    "            readsToExtract = unMatchedRestReadsFile\n",
    "        iterationNum += 1            \n",
    "    return batchIsoBams"
   ]
  },
  {
   "cell_type": "code",
   "execution_count": 17,
   "metadata": {},
   "outputs": [],
   "source": [
    "def batchWisePerfectMatchedBAMs(\n",
    "        splitFq1: list, splitFq2: list, geneConfigs: configUtils.GeneConfig\n",
    "):\n",
    "    \"\"\"\n",
    "    Submit parallel jobs to generate perfectly matched reads BAM files per isoform per FASTQ batch\n",
    "    \"\"\"\n",
    "    batchJobsDict = {}\n",
    "    matchedBams = False\n",
    "    completeBams = False\n",
    "    pickleFile = geneConfigs.configPickle\n",
    "    mapQ = geneConfigs.confDict['PARAMETERS']['mapq']\n",
    "    genome = geneConfigs.confDict['PARAMETERS']['mapgenome']\n",
    "    for batch in range(len(splitFq1)):\n",
    "        scriptName = \"/research_jude/rgs01_jude/groups/xmagrp/projects/AMLRelapse/xmagrp/CohortTracker/dev/rnaseq/rnaseq/mapReadsInIsoformOrder.py\"\n",
    "        cmd = f\"python {scriptName} -fq1 {splitFq1[batch]} -fq2 {splitFq2[batch]} -genome {genome} -pickelfile {pickleFile} -mapQ {mapQ}\"\n",
    "        jobName = f\"Processing_FASTQ_Batch_{batch + 1}_for_all_Isforms\"\n",
    "        batchJobsDict[jobName] = cmd\n",
    "    batchJobStatus = ngsUtils.submitAndMonitorJobs(\n",
    "        jobDict=batchJobsDict, wdir=geneConfigs.WDIR, \n",
    "        jobDescription=\"Map FASTQ Batches in order of isoforms to subset perfectly matched reads for counting\"\n",
    "    )\n",
    "\n",
    "    if batchJobStatus[0]:\n",
    "\n",
    "        matchedBams = {}\n",
    "        completeBams = {}\n",
    "        for fq in splitFq1:\n",
    "            i = 0\n",
    "            batchID = os.path.basename(fq).split(\".\")[-3]\n",
    "            for bwaIndex in geneConfigs.confDict[genome]['bwaIndices']:\n",
    "                isoformName = \"_\".join(os.path.basename(bwaIndex).replace(\".fa\", \"\").split(\"_\")[2:])\n",
    "                outSuffixCompleteBam = f\"{geneConfigs.project}_{geneConfigs.gene}_{isoformName}_{batchID}.bam\"\n",
    "                if isoformName not in list(matchedBams.keys()):\n",
    "                    matchedBams[isoformName] = []\n",
    "                if isoformName not in list(completeBams.keys()):\n",
    "                    completeBams[isoformName] = []\n",
    "                outSuffixMatched = f\"{geneConfigs.project}_{geneConfigs.gene}_{isoformName}_{batchID}_MATCHEDREADS_{i}.bam\"\n",
    "                matchedBams[isoformName].append(os.path.join(f\"{geneConfigs.WDIR}\", outSuffixMatched))\n",
    "                completeBams[isoformName].append(os.path.join(f\"{geneConfigs.WDIR}\", outSuffixCompleteBam))\n",
    "                i += 1\n",
    "\n",
    "    return batchJobStatus, completeBams, matchedBams\n",
    "    "
   ]
  },
  {
   "cell_type": "code",
   "execution_count": 18,
   "metadata": {},
   "outputs": [],
   "source": [
    "def alleleCountingForPerfectMatchedBAMs(\n",
    "        matchedBams: dict, geneConfigs: configUtils.GeneConfig\n",
    "):\n",
    "    \"\"\"\n",
    "    Submit parallel jobs for allele counting in perfectly matched BAMs per isoform batch\n",
    "    \"\"\"\n",
    "    countJobsDict = {}\n",
    "    countDict = {}\n",
    "    errDict = {}\n",
    "    pickleFile = geneConfigs.configPickle\n",
    "    qcut = geneConfigs.confDict['PARAMETERS']['qcut'] \n",
    "    mapq = geneConfigs.confDict['PARAMETERS']['mapq']\n",
    "    trimlen = geneConfigs.confDict['PARAMETERS']['trimlen']\n",
    "    minReadBQ = geneConfigs.confDict['PARAMETERS']['minreadbq']\n",
    "    fcut = geneConfigs.confDict['PARAMETERS']['minreadfcut']\n",
    "    minReadDepth = geneConfigs.confDict['PARAMETERS']['mindepth']\n",
    "    sampleNameInReads = geneConfigs.confDict['PARAMETERS']['samplenameinreads']\n",
    "    \n",
    "    for isoform in matchedBams.keys():\n",
    "        for bam in matchedBams[isoform]:\n",
    "            scriptName = \"/research_jude/rgs01_jude/groups/xmagrp/projects/AMLRelapse/xmagrp/CohortTracker/dev/rnaseq/rnaseq/alleleCounting.py\"\n",
    "            jobName = os.path.basename(bam).replace(\".bam\", \".count\")\n",
    "            ofn = os.path.join(geneConfigs.WDIR, jobName)\n",
    "            cmd = f\"python {scriptName} -bam {bam} -ofn {ofn} -qcut {qcut} -mapq {mapq} -trimlen {trimlen} -minReadBQ {minReadBQ} -fcut {fcut} -minReadDepth 0 -sampleNameInReads {sampleNameInReads}\"\n",
    "            countJobsDict[jobName] = cmd\n",
    "\n",
    "    countJobStatus = ngsUtils.submitAndMonitorJobs(\n",
    "        jobDict=countJobsDict, wdir=geneConfigs.WDIR, \n",
    "        jobDescription=\"Counting alleles in perfectly matched BAMs in batch-wise manner\"\n",
    "    )\n",
    "\n",
    "    if countJobStatus[0]:\n",
    "\n",
    "        countDict = {}\n",
    "        errDict = {}\n",
    "        for isoform in matchedBams.keys():\n",
    "            for bam in matchedBams[isoform]:\n",
    "                countfile = os.path.join(geneConfigs.WDIR, os.path.basename(bam).replace(\".bam\", \".count\"))\n",
    "                errfile = countfile + '_err'\n",
    "                \n",
    "                if isoform not in list(countDict.keys()):\n",
    "                    countDict[isoform] = [countfile]\n",
    "                    errDict[isoform] = [errfile]\n",
    "                else:\n",
    "                    countDict[isoform].append(countfile)\n",
    "                    errDict[isoform].append(errfile)\n",
    "\n",
    "    return countJobStatus, countDict, errDict\n",
    "    "
   ]
  },
  {
   "cell_type": "code",
   "execution_count": 19,
   "metadata": {},
   "outputs": [],
   "source": [
    "def splitFastq(\n",
    "        fq1: os.path, fq2: os.path, \n",
    "        batchSize: int,\n",
    "        outdir: os.path,\n",
    "        jobName: str,\n",
    "        seqkit: os.path,\n",
    "        threads: int = 1,\n",
    "        local: bool = False\n",
    "):\n",
    "    splitFq1 = []\n",
    "    splitFq2 = []\n",
    "    splitCommand = f\"{seqkit} split2 -s {batchSize} -1 {fq1} -2 {fq2} -j {threads} -O {outdir}\"\n",
    "    if local:\n",
    "        os.system(splitCommand)\n",
    "        return jobName\n",
    "    else:\n",
    "        jobDict = {jobName : splitCommand}\n",
    "        splitJobDict = ngsUtils.submitJobs(jobDict, wdir=outdir)\n",
    "        print(f\"Submitted a job to split FASTQ file\")\n",
    "        splitJobStatus = ngsUtils.aa08_job_manager_succeeded(\n",
    "            splitJobDict, only_check_finish=False, initial_sleep_sec=10, wait_sec=5, outpath=outdir\n",
    "        )\n",
    "        if splitJobStatus[0]:\n",
    "            print(f\"Successfully completed job to split FASTQ file\")\n",
    "            projectGene = \"_\".join(jobName.split(\"_\")[0:2])\n",
    "            filePattern1 = f'{projectGene}_raw.R1.part_*.fastq.gz'\n",
    "            filePattern2 = f'{projectGene}_raw.R2.part_*.fastq.gz'\n",
    "            splitFq1 = sorted(glob(os.path.join(outdir, filePattern1)))\n",
    "            splitFq2 = sorted(glob(os.path.join(outdir, filePattern2)))\n",
    "            return splitFq1, splitFq2\n",
    "        else:\n",
    "            print(f\"Failure in job to split FASTQ file\")\n",
    "        return splitFq1, splitFq2"
   ]
  },
  {
   "cell_type": "code",
   "execution_count": 20,
   "metadata": {},
   "outputs": [],
   "source": [
    "def mergeBatchBamFiles(bamBatchDict: dict, geneConfigs: configUtils.GeneConfig):\n",
    "    \"\"\"\n",
    "    # NOT TO BE USED: MERGING AFFECT REFENAMES\n",
    "    Merge batches of BAM files\n",
    "    bamBatchDict: Batch names are keys and values are lists of BAM files for all isoforms.\n",
    "    Also submit jobs to extract reads names per batch\n",
    "    \"\"\"\n",
    "    mergeBamJobDict = {}\n",
    "    getReadsIDsJobDict = {}\n",
    "    mergedBams = []\n",
    "    seqkit = \"/research/rgs01/applications/hpcf/authorized_apps/rhel7_apps/seqkit/vendor/2.1.0/seqkit\"\n",
    "    for batch in bamBatchDict.keys():\n",
    "        jobName = f'{geneConfigs.project}_{geneConfigs.gene}_merged_{batch}.bam'\n",
    "        \n",
    "        outBam = os.path.join(geneConfigs.WDIR, jobName)\n",
    "        mergedBams.append(outBam)\n",
    "        batchBams = ' '.join(bamBatchDict[batch])\n",
    "        mergeCmd = f\"{geneConfigs.apps['sambamba']} merge {outBam} {batchBams}\"\n",
    "        indexCmd =  f\"{geneConfigs.apps['sambamba']} index {outBam}\"\n",
    "        cmd = f'\"{mergeCmd} && {indexCmd}\"'\n",
    "        mergeBamJobDict[jobName] = cmd\n",
    "        \n",
    "        jobNameRead = f'{geneConfigs.project}_{geneConfigs.gene}_{batch}_readnames'\n",
    "        outReadFn = os.path.join(geneConfigs.WDIR, jobNameRead)\n",
    "        extractReadIn = os.path.join(geneConfigs.WDIR, f'{geneConfigs.project}_{geneConfigs.gene}_raw.R1.{batch}.fastq.gz')\n",
    "        readExtractCmd = f'\"{seqkit} fx2tab -n {extractReadIn} > {outReadFn}\"'\n",
    "        getReadsIDsJobDict[jobNameRead] = readExtractCmd\n",
    "    \n",
    "    mergeJobDict = ngsUtils.submitJobs(mergeBamJobDict, wdir=geneConfigs.WDIR)\n",
    "    print(f\"Submitted {len(mergeJobDict)} jobs to merge isoforms specific BAMs per batch\")\n",
    "    readNamesJobDict = ngsUtils.submitJobs(getReadsIDsJobDict, wdir=geneConfigs.WDIR)\n",
    "    print(f\"Submitted {len(readNamesJobDict)} jobs to extract readnames per batch\")\n",
    "    mergeJobStatus = ngsUtils.aa08_job_manager_succeeded(\n",
    "        mergeJobDict, only_check_finish=False, initial_sleep_sec=10, wait_sec=5, outpath=geneConfigs.WDIR\n",
    "    )\n",
    "    if mergeJobStatus[0]:\n",
    "        print(f\"Successfully completed {len(mergeJobDict)} jobs to merge isoforms specific BAMs per batch\")\n",
    "        return mergedBams, readNamesJobDict\n",
    "    else:\n",
    "        print(f\"Failure in jobs to merge isoforms specific BAMs per batch\")\n",
    "    return mergedBams, readNamesJobDict"
   ]
  },
  {
   "cell_type": "code",
   "execution_count": 21,
   "metadata": {},
   "outputs": [],
   "source": [
    "def mapFastqReadsMultiplePairs(\n",
    "        bwaIndices: list,\n",
    "        fq1: list,\n",
    "        fq2: list,\n",
    "        outdir: os.path,\n",
    "        threads: int = 4,\n",
    "\n",
    "):\n",
    "    mappingScript = \"/research_jude/rgs01_jude/groups/xmagrp/projects/AMLRelapse/xmagrp/CohortTracker/dev/rnaseq/rnaseq/mapReads.py\"\n",
    "    mappingJobDict = {}\n",
    "    for i in range(len(fq1)):\n",
    "        r1 = fq1[i]\n",
    "        r2 = fq2[i]\n",
    "        for index in bwaIndices:\n",
    "            batchPrefix = os.path.basename(r1).replace(\".R1.\", \".\").replace(\".fastq.gz\", \"\")\n",
    "            isoform = \"_\".join(os.path.basename(index).replace(\".fa\", \"\").split(\"_\")[2:])\n",
    "            prefix = batchPrefix + \"_isoform_\" + isoform\n",
    "            mapCmd = f\"python {mappingScript} -index {index} -fq1 {r1} -fq2 {r2} -prefix {prefix} -threads {threads}\"\n",
    "            mappingJobDict[prefix] = mapCmd\n",
    "    submitJobDict = submitJobs(mappingJobDict, wdir=outdir)\n",
    "    mapJobStatus = ngsUtils.aa08_job_manager_succeeded(submitJobDict, only_check_finish=True, initial_sleep_sec=5, wait_sec=3, outpath=outdir)\n",
    "    print(f\"Submiited {len(mappingJobDict)} jobs for mapping raw batches of reads\")\n",
    "    if mapJobStatus[0]:\n",
    "          print(f\"Successfully completed {len(mappingJobDict)} jobs for mapping raw batches of reads\")\n",
    "    else:\n",
    "          print(f\"Failure in {len(mappingJobDict)} jobs for mapping raw batches of reads\")\n",
    "    return mapJobStatus"
   ]
  },
  {
   "cell_type": "code",
   "execution_count": 22,
   "metadata": {},
   "outputs": [],
   "source": [
    "def extractFastqsFromSampleBatches(\n",
    "      sampleDf: pd.DataFrame,\n",
    "      geneConfigs: configUtils.GeneConfig,\n",
    "      batches: int,\n",
    "      geneConfigPickleFile: os.path,\n",
    "):\n",
    "      totalSamples = 0\n",
    "      batchSizes = []\n",
    "      #batchDfs = []\n",
    "      batchNums = 1\n",
    "      batchFastqR1List = []\n",
    "      batchFastqR2List = []\n",
    "      batchfiles = []\n",
    "      fqExtractionBatchCmdsDict = {}\n",
    "      for batch in np.array_split(sampleDf, batches):\n",
    "          #batchDfs.append(batch)\n",
    "          batchSize = batch.shape[0]\n",
    "          batchSizes.append(batchSize)\n",
    "          totalSamples += batchSize\n",
    "          batchFq1 = os.path.join(geneConfigs.WDIR, f\"{geneConfigs.project}_{geneConfigs.gene}_batch_{batchNums}.R1.fastq.gz\")\n",
    "          batchFq2 = os.path.join(geneConfigs.WDIR, f\"{geneConfigs.project}_{geneConfigs.gene}_batch_{batchNums}.R2.fastq.gz\")\n",
    "          batchFastqR1List.append(batchFq1)\n",
    "          batchFastqR2List.append(batchFq2)\n",
    "          batchofn = os.path.join(geneConfigs.WDIR, f\"{geneConfigs.project}_fastqExtraction_{batchNums}.tsv\")\n",
    "          batch.to_csv(batchofn, sep=\"\\t\", index=False)\n",
    "          batchfiles.append(batchofn)\n",
    "          script = \"/research_jude/rgs01_jude/groups/xmagrp/projects/AMLRelapse/xmagrp/CohortTracker/dev/rnaseq/rnaseq/extractGeneFastqs.py\"\n",
    "          batchCmd = f\"python {script} -samplefile {batchofn} -batchNum {batchNums} -pickelfile {geneConfigPickleFile}\"\n",
    "          jobName = f\"{geneConfigs.project}_{geneConfigs.gene}_batch_{batchNums}\"\n",
    "          fqExtractionBatchCmdsDict[jobName] = batchCmd\n",
    "          batchNums += 1\n",
    "      print(f\"Created {batches} batches from {totalSamples} samples\")\n",
    "      fastqSubmissionJobDict = ngsUtils.submitJobs(fqExtractionBatchCmdsDict, queue='compbio', memory='8000', wdir=geneConfigs.WDIR)\n",
    "      print(f\"Submiited {len(fqExtractionBatchCmdsDict)} jobs for extraction of FASTQ reads\")\n",
    "      fastqJobStatus = ngsUtils.aa08_job_manager_succeeded(\n",
    "            fastqSubmissionJobDict, only_check_finish=False, initial_sleep_sec=10, wait_sec=5, outpath=geneConfigs.WDIR\n",
    "      )\n",
    "      if fastqJobStatus[0]:\n",
    "            print(f\"Successfully completed {len(fqExtractionBatchCmdsDict)} jobs for extraction of FASTQ reads\")\n",
    "      else:\n",
    "            print(f\"Failure {len(fqExtractionBatchCmdsDict)} jobs for extraction of FASTQ reads\")\n",
    "      return fastqJobStatus"
   ]
  },
  {
   "cell_type": "code",
   "execution_count": 23,
   "metadata": {},
   "outputs": [],
   "source": [
    "def processFastqExtractionBatch(batchDf: pd.DataFrame, batchNum: int, geneConfigs: configUtils.GeneConfig) -> dict:\n",
    "    for index, row in batchDf.iterrows():\n",
    "        sampleName = row['SID']\n",
    "        bam = row['BAM']\n",
    "        suffix = f\"prebatch_{batchNum}\"\n",
    "        fastqfiles = extractGeneReadsFromBAM(bam, sampleName, geneConfigs.WDIR, geneConfigs, suffix=suffix)\n",
    "    r1Pattern = f'\"{geneConfigs.project}_{geneConfigs.gene}*{suffix}.gene.*.R1.fastq.gz\"'\n",
    "    r2Pattern = f'\"{geneConfigs.project}_{geneConfigs.gene}*{suffix}.gene.*.R2.fastq.gz\"'\n",
    "    batchFq1 = os.path.join(geneConfigs.WDIR, f\"{geneConfigs.project}_{geneConfigs.gene}_batch_{batchNum}.R1.fastq.gz\")\n",
    "    batchFq2 = os.path.join(geneConfigs.WDIR, f\"{geneConfigs.project}_{geneConfigs.gene}_batch_{batchNum}.R2.fastq.gz\")\n",
    "    return concatFastqBatches(geneConfigs.WDIR, r1Pattern, r2Pattern, batchFq1, batchFq2)"
   ]
  },
  {
   "cell_type": "code",
   "execution_count": 24,
   "metadata": {},
   "outputs": [],
   "source": [
    "def saveGeneConfig(configObject, fname):\n",
    "    with open(fname, 'wb') as handle:\n",
    "        pickle.dump(configObject, handle, protocol=pickle.HIGHEST_PROTOCOL)\n",
    "    return fname\n",
    "\n",
    "def loadConfig(pickleFile):\n",
    "    with open(pickleFile, 'rb') as handle:\n",
    "        configObject = pickle.load(handle)\n",
    "    return configObject"
   ]
  },
  {
   "cell_type": "markdown",
   "metadata": {},
   "source": [
    "## Define global and gene specific configurations"
   ]
  },
  {
   "cell_type": "markdown",
   "metadata": {},
   "source": [
    "#### Configuration"
   ]
  },
  {
   "cell_type": "code",
   "execution_count": 131,
   "metadata": {},
   "outputs": [],
   "source": [
    "projectid = \"TARGETAML\"\n",
    "gene = \"NRAS\"\n",
    "batches = 2\n",
    "configFile = \"/research_jude/rgs01_jude/groups/xmagrp/projects/AMLRelapse/xmagrp/CohortTracker/dev/rnaseq/config.ini\"\n",
    "sampleFile = \"/research_jude/rgs01_jude/groups/xmagrp/projects/AMLRelapse/xmagrp/CohortTracker/dev/rnaseq/data/samples.tsv\"\n",
    "BWAReadsPerBatch = 10000\n",
    "splitFqThreads = 1\n",
    "mappingGenome = 'hg38'"
   ]
  },
  {
   "cell_type": "code",
   "execution_count": 132,
   "metadata": {},
   "outputs": [
    {
     "name": "stderr",
     "output_type": "stream",
     "text": [
      "[bwa_index] Pack FASTA... 0.00 sec\n",
      "[bwa_index] Construct BWT for the packed sequence...\n",
      "[bwa_index] 0.00 seconds elapse.\n",
      "[bwa_index] Update BWT... 0.00 sec\n",
      "[bwa_index] Pack forward-only FASTA... 0.00 sec\n",
      "[bwa_index] Construct SA from BWT and Occ... 0.00 sec\n",
      "[main] Version: 0.7.12-r1039\n",
      "[main] CMD: /research/groups/xmagrp/projects/SensitiveDetection/xmagrp/code/dipseek/apps/bwa index /research_jude/rgs01_jude/groups/xmagrp/projects/AMLRelapse/xmagrp/CohortTracker/dev/test/NRAS/NRAS_hg19_NM_002524.fa\n",
      "[main] Real time: 0.009 sec; CPU: 0.020 sec\n",
      "[bwa_index] Pack FASTA... 0.00 sec\n",
      "[bwa_index] Construct BWT for the packed sequence...\n",
      "[bwa_index] 0.00 seconds elapse.\n",
      "[bwa_index] Update BWT... 0.00 sec\n",
      "[bwa_index] Pack forward-only FASTA... 0.00 sec\n",
      "[bwa_index] Construct SA from BWT and Occ... 0.00 sec\n",
      "[main] Version: 0.7.12-r1039\n",
      "[main] CMD: /research/groups/xmagrp/projects/SensitiveDetection/xmagrp/code/dipseek/apps/bwa index /research_jude/rgs01_jude/groups/xmagrp/projects/AMLRelapse/xmagrp/CohortTracker/dev/test/NRAS/NRAS_hg19_SUPERRNA.fa\n",
      "[main] Real time: 0.009 sec; CPU: 0.019 sec\n",
      "[bwa_index] Pack FASTA... 0.00 sec\n",
      "[bwa_index] Construct BWT for the packed sequence...\n",
      "[bwa_index] 0.00 seconds elapse.\n",
      "[bwa_index] Update BWT... 0.00 sec\n",
      "[bwa_index] Pack forward-only FASTA... 0.00 sec\n",
      "[bwa_index] Construct SA from BWT and Occ... 0.00 sec\n",
      "[main] Version: 0.7.12-r1039\n",
      "[main] CMD: /research/groups/xmagrp/projects/SensitiveDetection/xmagrp/code/dipseek/apps/bwa index /research_jude/rgs01_jude/groups/xmagrp/projects/AMLRelapse/xmagrp/CohortTracker/dev/test/NRAS/NRAS_hg19_SUPERDNA.fa\n",
      "[main] Real time: 0.061 sec; CPU: 0.021 sec\n",
      "[bwa_index] Pack FASTA... 0.00 sec\n",
      "[bwa_index] Construct BWT for the packed sequence...\n",
      "[bwa_index] 0.00 seconds elapse.\n",
      "[bwa_index] Update BWT... 0.00 sec\n",
      "[bwa_index] Pack forward-only FASTA... 0.00 sec\n",
      "[bwa_index] Construct SA from BWT and Occ... 0.00 sec\n",
      "[main] Version: 0.7.12-r1039\n",
      "[main] CMD: /research/groups/xmagrp/projects/SensitiveDetection/xmagrp/code/dipseek/apps/bwa index /research_jude/rgs01_jude/groups/xmagrp/projects/AMLRelapse/xmagrp/CohortTracker/dev/test/NRAS/NRAS_hg38_NM_002524.fa\n",
      "[main] Real time: 0.010 sec; CPU: 0.021 sec\n",
      "[bwa_index] Pack FASTA... 0.00 sec\n",
      "[bwa_index] Construct BWT for the packed sequence...\n",
      "[bwa_index] 0.00 seconds elapse.\n",
      "[bwa_index] Update BWT... 0.00 sec\n",
      "[bwa_index] Pack forward-only FASTA... 0.00 sec\n",
      "[bwa_index] Construct SA from BWT and Occ... 0.00 sec\n",
      "[main] Version: 0.7.12-r1039\n",
      "[main] CMD: /research/groups/xmagrp/projects/SensitiveDetection/xmagrp/code/dipseek/apps/bwa index /research_jude/rgs01_jude/groups/xmagrp/projects/AMLRelapse/xmagrp/CohortTracker/dev/test/NRAS/NRAS_hg38_SUPERRNA.fa\n",
      "[main] Real time: 0.009 sec; CPU: 0.019 sec\n",
      "[bwa_index] Pack FASTA... 0.00 sec\n",
      "[bwa_index] Construct BWT for the packed sequence...\n",
      "[bwa_index] 0.00 seconds elapse.\n",
      "[bwa_index] Update BWT... 0.00 sec\n",
      "[bwa_index] Pack forward-only FASTA... 0.00 sec\n",
      "[bwa_index] Construct SA from BWT and Occ... 0.00 sec\n",
      "[main] Version: 0.7.12-r1039\n",
      "[main] CMD: /research/groups/xmagrp/projects/SensitiveDetection/xmagrp/code/dipseek/apps/bwa index /research_jude/rgs01_jude/groups/xmagrp/projects/AMLRelapse/xmagrp/CohortTracker/dev/test/NRAS/NRAS_hg38_SUPERDNA.fa\n",
      "[main] Real time: 0.013 sec; CPU: 0.021 sec\n"
     ]
    }
   ],
   "source": [
    "geneConfigs = configUtils.GeneConfig(configFile=configFile, gene=gene, projectID=projectid)\n",
    "#pickleFname = f\"{geneConfigs.WDIR}/{geneConfigs.project}_{geneConfigs.gene}.pickle\""
   ]
  },
  {
   "cell_type": "code",
   "execution_count": 130,
   "metadata": {},
   "outputs": [
    {
     "data": {
      "text/plain": [
       "'/research_jude/rgs01_jude/groups/xmagrp/projects/AMLRelapse/xmagrp/CohortTracker/dev/test/NRAS/TARGETAML_NRAS.pickle'"
      ]
     },
     "execution_count": 130,
     "metadata": {},
     "output_type": "execute_result"
    }
   ],
   "source": [
    "geneConfigs.configPickle"
   ]
  },
  {
   "cell_type": "code",
   "execution_count": 129,
   "metadata": {},
   "outputs": [
    {
     "data": {
      "text/plain": [
       "'1'"
      ]
     },
     "execution_count": 129,
     "metadata": {},
     "output_type": "execute_result"
    }
   ],
   "source": [
    "geneConfigs.confDict['PARAMETERS']['splitfqthreads']"
   ]
  },
  {
   "cell_type": "code",
   "execution_count": 133,
   "metadata": {},
   "outputs": [
    {
     "data": {
      "text/plain": [
       "'10000'"
      ]
     },
     "execution_count": 133,
     "metadata": {},
     "output_type": "execute_result"
    }
   ],
   "source": [
    "geneConfigs.confDict['PARAMETERS']['readsbatchsize']"
   ]
  },
  {
   "cell_type": "code",
   "execution_count": 27,
   "metadata": {},
   "outputs": [
    {
     "data": {
      "text/plain": [
       "['/research_jude/rgs01_jude/groups/xmagrp/projects/AMLRelapse/xmagrp/CohortTracker/dev/test/NRAS/NRAS_hg19_NM_002524_features.tsv']"
      ]
     },
     "execution_count": 27,
     "metadata": {},
     "output_type": "execute_result"
    }
   ],
   "source": [
    "geneConfigs.confDict['hg19']['txnFeatures']"
   ]
  },
  {
   "cell_type": "code",
   "execution_count": 156,
   "metadata": {},
   "outputs": [
    {
     "data": {
      "text/plain": [
       "('hg38', '5')"
      ]
     },
     "execution_count": 156,
     "metadata": {},
     "output_type": "execute_result"
    }
   ],
   "source": [
    "geneConfigs.confDict['PARAMETERS']['mapgenome'], geneConfigs.confDict['PARAMETERS']['trimlen']"
   ]
  },
  {
   "cell_type": "code",
   "execution_count": 46,
   "metadata": {},
   "outputs": [
    {
     "data": {
      "text/plain": [
       "'/research_jude/rgs01_jude/groups/xmagrp/projects/AMLRelapse/xmagrp/CohortTracker/dev/test/NRAS/TARGETAML_NRAS.pickle'"
      ]
     },
     "execution_count": 46,
     "metadata": {},
     "output_type": "execute_result"
    }
   ],
   "source": [
    "geneConfigs.configPickle"
   ]
  },
  {
   "cell_type": "code",
   "execution_count": 47,
   "metadata": {},
   "outputs": [],
   "source": [
    "pickleFile = geneConfigs.configPickle"
   ]
  },
  {
   "cell_type": "code",
   "execution_count": 122,
   "metadata": {},
   "outputs": [],
   "source": [
    "sampleDf = prepareSampleNameMap(sampleFile, geneConfigs.WDIR, geneConfigs.project)"
   ]
  },
  {
   "cell_type": "code",
   "execution_count": 32,
   "metadata": {},
   "outputs": [
    {
     "data": {
      "text/plain": [
       "['NM_002524']"
      ]
     },
     "execution_count": 32,
     "metadata": {},
     "output_type": "execute_result"
    }
   ],
   "source": [
    "geneConfigs.confDict['hg19']['Isoforms']"
   ]
  },
  {
   "cell_type": "code",
   "execution_count": 34,
   "metadata": {},
   "outputs": [
    {
     "data": {
      "text/plain": [
       "{'configFile': '/research_jude/rgs01_jude/groups/xmagrp/projects/AMLRelapse/xmagrp/CohortTracker/dev/rnaseq/config.ini',\n",
       " 'gene': 'NRAS',\n",
       " 'project': 'TARGETAML',\n",
       " 'confDict': {'hg19': {'bwaIndices': ['/research_jude/rgs01_jude/groups/xmagrp/projects/AMLRelapse/xmagrp/CohortTracker/dev/test/NRAS/NRAS_hg19_NM_002524.fa',\n",
       "    '/research_jude/rgs01_jude/groups/xmagrp/projects/AMLRelapse/xmagrp/CohortTracker/dev/test/NRAS/NRAS_hg19_SUPERRNA.fa',\n",
       "    '/research_jude/rgs01_jude/groups/xmagrp/projects/AMLRelapse/xmagrp/CohortTracker/dev/test/NRAS/NRAS_hg19_SUPERDNA.fa'],\n",
       "   'isoforms':        bin       nmID chrom strand        txS        txE       cdsS   \n",
       "   3121  1464  NM_002524  chr1      -  115247089  115259392  115251155  \\\n",
       "   \n",
       "              cdsE  exonN                                              exonS   \n",
       "   3121  115258781      7  115247089,115250774,115251151,115252189,115256...  \\\n",
       "   \n",
       "         ... gName  cdsStartStat cdsEndStat         exonFrames isInjected isPAR   \n",
       "   3121  ...  NRAS          cmpl       cmpl  -1,-1,0,2,0,0,-1,          N     N  \\\n",
       "   \n",
       "        Symbol isDefault Comment txn_in_Another  \n",
       "   3121   NRAS       Yes     NaN            Yes  \n",
       "   \n",
       "   [1 rows x 22 columns],\n",
       "   'GeneSpace': <dogma.dna.define.GeneSpace at 0x1555313fd4f0>,\n",
       "   'isoformindex':     Symbol gName DefaultIsoforms OtherIsoforms  #Isoforms isPAR   \n",
       "   598   NRAS  NRAS       NM_002524           NaN          1    No  \\\n",
       "   \n",
       "                   bedGeneString              bedCdsString   \n",
       "   598  chr1:115247089-115259392  chr1:115251155-115258781  \\\n",
       "   \n",
       "       Preferred_default_isoform Preferred_other_isoforms  \n",
       "   598                 NM_002524                      NaN  ,\n",
       "   'GeneRegions': ['chr1:115247089-115259392'],\n",
       "   'CdsRegions': ['chr1:115251155-115258781'],\n",
       "   'DefaultIsoform': 'NM_002524',\n",
       "   'OtherIsoforms': False,\n",
       "   'Isoforms': ['NM_002524'],\n",
       "   'fasta': '/research_jude/rgs01_jude/groups/xmagrp/projects/SensitiveDetection/xmagrp/Yanling/reference/hg19.fa',\n",
       "   'NM_002524': '/research_jude/rgs01_jude/groups/xmagrp/projects/AMLRelapse/xmagrp/CohortTracker/dev/test/NRAS/NRAS_hg19_NM_002524.fa',\n",
       "   'SUPERRNA': '/research_jude/rgs01_jude/groups/xmagrp/projects/AMLRelapse/xmagrp/CohortTracker/dev/test/NRAS/NRAS_hg19_SUPERRNA.fa',\n",
       "   'SUPERDNA': '/research_jude/rgs01_jude/groups/xmagrp/projects/AMLRelapse/xmagrp/CohortTracker/dev/test/NRAS/NRAS_hg19_SUPERDNA.fa'},\n",
       "  'Gene': 'NRAS',\n",
       "  'hg38': {'bwaIndices': ['/research_jude/rgs01_jude/groups/xmagrp/projects/AMLRelapse/xmagrp/CohortTracker/dev/test/NRAS/NRAS_hg38_NM_002524.fa',\n",
       "    '/research_jude/rgs01_jude/groups/xmagrp/projects/AMLRelapse/xmagrp/CohortTracker/dev/test/NRAS/NRAS_hg38_SUPERRNA.fa',\n",
       "    '/research_jude/rgs01_jude/groups/xmagrp/projects/AMLRelapse/xmagrp/CohortTracker/dev/test/NRAS/NRAS_hg38_SUPERDNA.fa'],\n",
       "   'isoforms':        bin       nmID chrom strand        txS        txE       cdsS   \n",
       "   3252  1460  NM_002524  chr1      -  114704468  114716771  114708534  \\\n",
       "   \n",
       "              cdsE  exonN                                              exonS   \n",
       "   3252  114716160      7  114704468,114708153,114708530,114709568,114713...  \\\n",
       "   \n",
       "         ... gName  cdsStartStat cdsEndStat         exonFrames isInjected isPAR   \n",
       "   3252  ...  NRAS          cmpl       cmpl  -1,-1,0,2,0,0,-1,          N     N  \\\n",
       "   \n",
       "        Symbol isDefault Comment txn_in_Another  \n",
       "   3252   NRAS       Yes     NaN            Yes  \n",
       "   \n",
       "   [1 rows x 22 columns],\n",
       "   'GeneSpace': <dogma.dna.define.GeneSpace at 0x1554a4054880>,\n",
       "   'isoformindex':     Symbol gName DefaultIsoforms OtherIsoforms  #Isoforms isPAR   \n",
       "   600   NRAS  NRAS       NM_002524           NaN          1    No  \\\n",
       "   \n",
       "                   bedGeneString              bedCdsString   \n",
       "   600  chr1:114704468-114716771  chr1:114708534-114716160  \\\n",
       "   \n",
       "       Preferred_default_isoform Preferred_other_isoforms  \n",
       "   600                 NM_002524                      NaN  ,\n",
       "   'GeneRegions': ['chr1:114704468-114716771'],\n",
       "   'CdsRegions': ['chr1:114708534-114716160'],\n",
       "   'DefaultIsoform': 'NM_002524',\n",
       "   'OtherIsoforms': False,\n",
       "   'Isoforms': ['NM_002524'],\n",
       "   'fasta': '/research_jude/rgs01_jude/groups/xmagrp/projects/SensitiveDetection/xmagrp/Yanling/reference/hg38.fa',\n",
       "   'NM_002524': '/research_jude/rgs01_jude/groups/xmagrp/projects/AMLRelapse/xmagrp/CohortTracker/dev/test/NRAS/NRAS_hg38_NM_002524.fa',\n",
       "   'SUPERRNA': '/research_jude/rgs01_jude/groups/xmagrp/projects/AMLRelapse/xmagrp/CohortTracker/dev/test/NRAS/NRAS_hg38_SUPERRNA.fa',\n",
       "   'SUPERDNA': '/research_jude/rgs01_jude/groups/xmagrp/projects/AMLRelapse/xmagrp/CohortTracker/dev/test/NRAS/NRAS_hg38_SUPERDNA.fa'},\n",
       "  'APPS': {'bwa': '/research/groups/xmagrp/projects/SensitiveDetection/xmagrp/code/dipseek/apps/bwa',\n",
       "   'sambamba': '/research/groups/xmagrp/projects/SensitiveDetection/xmagrp/code/dipseek/apps/sambamba',\n",
       "   'samtools': '/research/groups/xmagrp/projects/SensitiveDetection/xmagrp/code/dipseek/apps/samtools',\n",
       "   'sequencerr': '/research/groups/xmagrp/projects/SensitiveDetection/xmagrp/code/dipseek/apps/sequencerr_2.09',\n",
       "   'bedtools': '/research/groups/xmagrp/projects/SensitiveDetection/xmagrp/code/dipseek/apps/'},\n",
       "  'STORAGE': {'workdir': '/research_jude/rgs01_jude/groups/xmagrp/projects/AMLRelapse/xmagrp/CohortTracker/dev/test/'}},\n",
       " 'hg19': {'bwaIndices': ['/research_jude/rgs01_jude/groups/xmagrp/projects/AMLRelapse/xmagrp/CohortTracker/dev/test/NRAS/NRAS_hg19_NM_002524.fa',\n",
       "   '/research_jude/rgs01_jude/groups/xmagrp/projects/AMLRelapse/xmagrp/CohortTracker/dev/test/NRAS/NRAS_hg19_SUPERRNA.fa',\n",
       "   '/research_jude/rgs01_jude/groups/xmagrp/projects/AMLRelapse/xmagrp/CohortTracker/dev/test/NRAS/NRAS_hg19_SUPERDNA.fa'],\n",
       "  'isoforms':        bin       nmID chrom strand        txS        txE       cdsS   \n",
       "  3121  1464  NM_002524  chr1      -  115247089  115259392  115251155  \\\n",
       "  \n",
       "             cdsE  exonN                                              exonS   \n",
       "  3121  115258781      7  115247089,115250774,115251151,115252189,115256...  \\\n",
       "  \n",
       "        ... gName  cdsStartStat cdsEndStat         exonFrames isInjected isPAR   \n",
       "  3121  ...  NRAS          cmpl       cmpl  -1,-1,0,2,0,0,-1,          N     N  \\\n",
       "  \n",
       "       Symbol isDefault Comment txn_in_Another  \n",
       "  3121   NRAS       Yes     NaN            Yes  \n",
       "  \n",
       "  [1 rows x 22 columns],\n",
       "  'GeneSpace': <dogma.dna.define.GeneSpace at 0x1555313fd4f0>,\n",
       "  'isoformindex':     Symbol gName DefaultIsoforms OtherIsoforms  #Isoforms isPAR   \n",
       "  598   NRAS  NRAS       NM_002524           NaN          1    No  \\\n",
       "  \n",
       "                  bedGeneString              bedCdsString   \n",
       "  598  chr1:115247089-115259392  chr1:115251155-115258781  \\\n",
       "  \n",
       "      Preferred_default_isoform Preferred_other_isoforms  \n",
       "  598                 NM_002524                      NaN  ,\n",
       "  'GeneRegions': ['chr1:115247089-115259392'],\n",
       "  'CdsRegions': ['chr1:115251155-115258781'],\n",
       "  'DefaultIsoform': 'NM_002524',\n",
       "  'OtherIsoforms': False,\n",
       "  'Isoforms': ['NM_002524'],\n",
       "  'fasta': '/research_jude/rgs01_jude/groups/xmagrp/projects/SensitiveDetection/xmagrp/Yanling/reference/hg19.fa',\n",
       "  'NM_002524': '/research_jude/rgs01_jude/groups/xmagrp/projects/AMLRelapse/xmagrp/CohortTracker/dev/test/NRAS/NRAS_hg19_NM_002524.fa',\n",
       "  'SUPERRNA': '/research_jude/rgs01_jude/groups/xmagrp/projects/AMLRelapse/xmagrp/CohortTracker/dev/test/NRAS/NRAS_hg19_SUPERRNA.fa',\n",
       "  'SUPERDNA': '/research_jude/rgs01_jude/groups/xmagrp/projects/AMLRelapse/xmagrp/CohortTracker/dev/test/NRAS/NRAS_hg19_SUPERDNA.fa'},\n",
       " 'hg38': {'bwaIndices': ['/research_jude/rgs01_jude/groups/xmagrp/projects/AMLRelapse/xmagrp/CohortTracker/dev/test/NRAS/NRAS_hg38_NM_002524.fa',\n",
       "   '/research_jude/rgs01_jude/groups/xmagrp/projects/AMLRelapse/xmagrp/CohortTracker/dev/test/NRAS/NRAS_hg38_SUPERRNA.fa',\n",
       "   '/research_jude/rgs01_jude/groups/xmagrp/projects/AMLRelapse/xmagrp/CohortTracker/dev/test/NRAS/NRAS_hg38_SUPERDNA.fa'],\n",
       "  'isoforms':        bin       nmID chrom strand        txS        txE       cdsS   \n",
       "  3252  1460  NM_002524  chr1      -  114704468  114716771  114708534  \\\n",
       "  \n",
       "             cdsE  exonN                                              exonS   \n",
       "  3252  114716160      7  114704468,114708153,114708530,114709568,114713...  \\\n",
       "  \n",
       "        ... gName  cdsStartStat cdsEndStat         exonFrames isInjected isPAR   \n",
       "  3252  ...  NRAS          cmpl       cmpl  -1,-1,0,2,0,0,-1,          N     N  \\\n",
       "  \n",
       "       Symbol isDefault Comment txn_in_Another  \n",
       "  3252   NRAS       Yes     NaN            Yes  \n",
       "  \n",
       "  [1 rows x 22 columns],\n",
       "  'GeneSpace': <dogma.dna.define.GeneSpace at 0x1554a4054880>,\n",
       "  'isoformindex':     Symbol gName DefaultIsoforms OtherIsoforms  #Isoforms isPAR   \n",
       "  600   NRAS  NRAS       NM_002524           NaN          1    No  \\\n",
       "  \n",
       "                  bedGeneString              bedCdsString   \n",
       "  600  chr1:114704468-114716771  chr1:114708534-114716160  \\\n",
       "  \n",
       "      Preferred_default_isoform Preferred_other_isoforms  \n",
       "  600                 NM_002524                      NaN  ,\n",
       "  'GeneRegions': ['chr1:114704468-114716771'],\n",
       "  'CdsRegions': ['chr1:114708534-114716160'],\n",
       "  'DefaultIsoform': 'NM_002524',\n",
       "  'OtherIsoforms': False,\n",
       "  'Isoforms': ['NM_002524'],\n",
       "  'fasta': '/research_jude/rgs01_jude/groups/xmagrp/projects/SensitiveDetection/xmagrp/Yanling/reference/hg38.fa',\n",
       "  'NM_002524': '/research_jude/rgs01_jude/groups/xmagrp/projects/AMLRelapse/xmagrp/CohortTracker/dev/test/NRAS/NRAS_hg38_NM_002524.fa',\n",
       "  'SUPERRNA': '/research_jude/rgs01_jude/groups/xmagrp/projects/AMLRelapse/xmagrp/CohortTracker/dev/test/NRAS/NRAS_hg38_SUPERRNA.fa',\n",
       "  'SUPERDNA': '/research_jude/rgs01_jude/groups/xmagrp/projects/AMLRelapse/xmagrp/CohortTracker/dev/test/NRAS/NRAS_hg38_SUPERDNA.fa'},\n",
       " 'apps': {'bwa': '/research/groups/xmagrp/projects/SensitiveDetection/xmagrp/code/dipseek/apps/bwa',\n",
       "  'sambamba': '/research/groups/xmagrp/projects/SensitiveDetection/xmagrp/code/dipseek/apps/sambamba',\n",
       "  'samtools': '/research/groups/xmagrp/projects/SensitiveDetection/xmagrp/code/dipseek/apps/samtools',\n",
       "  'sequencerr': '/research/groups/xmagrp/projects/SensitiveDetection/xmagrp/code/dipseek/apps/sequencerr_2.09',\n",
       "  'bedtools': '/research/groups/xmagrp/projects/SensitiveDetection/xmagrp/code/dipseek/apps/'},\n",
       " 'WDIR': '/research_jude/rgs01_jude/groups/xmagrp/projects/AMLRelapse/xmagrp/CohortTracker/dev/test/NRAS'}"
      ]
     },
     "execution_count": 34,
     "metadata": {},
     "output_type": "execute_result"
    }
   ],
   "source": [
    "vars(geneConfigs)"
   ]
  },
  {
   "cell_type": "code",
   "execution_count": 28,
   "metadata": {},
   "outputs": [
    {
     "data": {
      "text/plain": [
       "'/research/groups/xmagrp/projects/SensitiveDetection/xmagrp/code/dipseek/apps/seqkit'"
      ]
     },
     "execution_count": 28,
     "metadata": {},
     "output_type": "execute_result"
    }
   ],
   "source": [
    "geneConfigs.apps['seqkit']"
   ]
  },
  {
   "cell_type": "code",
   "execution_count": 27,
   "metadata": {},
   "outputs": [
    {
     "data": {
      "text/plain": [
       "['/research_jude/rgs01_jude/groups/xmagrp/projects/AMLRelapse/xmagrp/CohortTracker/dev/test/NRAS/NRAS_hg19_NM_002524.fa',\n",
       " '/research_jude/rgs01_jude/groups/xmagrp/projects/AMLRelapse/xmagrp/CohortTracker/dev/test/NRAS/NRAS_hg19_SUPERRNA.fa',\n",
       " '/research_jude/rgs01_jude/groups/xmagrp/projects/AMLRelapse/xmagrp/CohortTracker/dev/test/NRAS/NRAS_hg19_SUPERDNA.fa']"
      ]
     },
     "execution_count": 27,
     "metadata": {},
     "output_type": "execute_result"
    }
   ],
   "source": [
    "geneConfigs.confDict['hg19']['bwaIndices']"
   ]
  },
  {
   "cell_type": "code",
   "execution_count": 32,
   "metadata": {},
   "outputs": [
    {
     "data": {
      "text/plain": [
       "{'mapq': '55', 'mapgenome': 'hg38'}"
      ]
     },
     "execution_count": 32,
     "metadata": {},
     "output_type": "execute_result"
    }
   ],
   "source": [
    "geneConfigs.confDict['PARAMETERS']"
   ]
  },
  {
   "cell_type": "markdown",
   "metadata": {},
   "source": [
    "### Extract FASTQ reads in batches "
   ]
  },
  {
   "cell_type": "code",
   "execution_count": 123,
   "metadata": {},
   "outputs": [
    {
     "data": {
      "text/html": [
       "<div>\n",
       "<style scoped>\n",
       "    .dataframe tbody tr th:only-of-type {\n",
       "        vertical-align: middle;\n",
       "    }\n",
       "\n",
       "    .dataframe tbody tr th {\n",
       "        vertical-align: top;\n",
       "    }\n",
       "\n",
       "    .dataframe thead th {\n",
       "        text-align: right;\n",
       "    }\n",
       "</style>\n",
       "<table border=\"1\" class=\"dataframe\">\n",
       "  <thead>\n",
       "    <tr style=\"text-align: right;\">\n",
       "      <th></th>\n",
       "      <th>Sample</th>\n",
       "      <th>BAM</th>\n",
       "      <th>SID</th>\n",
       "    </tr>\n",
       "  </thead>\n",
       "  <tbody>\n",
       "    <tr>\n",
       "      <th>0</th>\n",
       "      <td>817151_TTAGGC_L001_concat</td>\n",
       "      <td>/research/groups/xmagrp/projects/AMLRelapse/co...</td>\n",
       "      <td>S1</td>\n",
       "    </tr>\n",
       "    <tr>\n",
       "      <th>1</th>\n",
       "      <td>835165_ACTTGA_L001_concat</td>\n",
       "      <td>/research/groups/xmagrp/projects/AMLRelapse/co...</td>\n",
       "      <td>S2</td>\n",
       "    </tr>\n",
       "    <tr>\n",
       "      <th>2</th>\n",
       "      <td>BM3897-09A-01R_withJunctionsOnGenome_dupsFlagged</td>\n",
       "      <td>/research/groups/xmagrp/projects/AMLRelapse/co...</td>\n",
       "      <td>S3</td>\n",
       "    </tr>\n",
       "    <tr>\n",
       "      <th>3</th>\n",
       "      <td>BM3969-09A-01R_withJunctionsOnGenome_dupsFlagged</td>\n",
       "      <td>/research/groups/xmagrp/projects/AMLRelapse/co...</td>\n",
       "      <td>S4</td>\n",
       "    </tr>\n",
       "    <tr>\n",
       "      <th>4</th>\n",
       "      <td>BM4203-09A-01R_withJunctionsOnGenome_dupsFlagged</td>\n",
       "      <td>/research/groups/xmagrp/projects/AMLRelapse/co...</td>\n",
       "      <td>S5</td>\n",
       "    </tr>\n",
       "    <tr>\n",
       "      <th>5</th>\n",
       "      <td>BM4404-09A-01R_withJunctionsOnGenome_dupsFlagged</td>\n",
       "      <td>/research/groups/xmagrp/projects/AMLRelapse/co...</td>\n",
       "      <td>S6</td>\n",
       "    </tr>\n",
       "  </tbody>\n",
       "</table>\n",
       "</div>"
      ],
      "text/plain": [
       "                                             Sample   \n",
       "0                         817151_TTAGGC_L001_concat  \\\n",
       "1                         835165_ACTTGA_L001_concat   \n",
       "2  BM3897-09A-01R_withJunctionsOnGenome_dupsFlagged   \n",
       "3  BM3969-09A-01R_withJunctionsOnGenome_dupsFlagged   \n",
       "4  BM4203-09A-01R_withJunctionsOnGenome_dupsFlagged   \n",
       "5  BM4404-09A-01R_withJunctionsOnGenome_dupsFlagged   \n",
       "\n",
       "                                                 BAM SID  \n",
       "0  /research/groups/xmagrp/projects/AMLRelapse/co...  S1  \n",
       "1  /research/groups/xmagrp/projects/AMLRelapse/co...  S2  \n",
       "2  /research/groups/xmagrp/projects/AMLRelapse/co...  S3  \n",
       "3  /research/groups/xmagrp/projects/AMLRelapse/co...  S4  \n",
       "4  /research/groups/xmagrp/projects/AMLRelapse/co...  S5  \n",
       "5  /research/groups/xmagrp/projects/AMLRelapse/co...  S6  "
      ]
     },
     "execution_count": 123,
     "metadata": {},
     "output_type": "execute_result"
    }
   ],
   "source": [
    "sampleDf.head(6)"
   ]
  },
  {
   "cell_type": "code",
   "execution_count": 125,
   "metadata": {},
   "outputs": [
    {
     "data": {
      "text/plain": [
       "['/research/groups/xmagrp/projects/AMLRelapse/common/Meshinchi/TARGET_AML/bam/817151_TTAGGC_L001_concat.bam',\n",
       " '/research/groups/xmagrp/projects/AMLRelapse/common/Meshinchi/TARGET_AML/bam/835165_ACTTGA_L001_concat.bam',\n",
       " '/research/groups/xmagrp/projects/AMLRelapse/common/Meshinchi/TARGET_AML/bam/BM3897-09A-01R_withJunctionsOnGenome_dupsFlagged.bam',\n",
       " '/research/groups/xmagrp/projects/AMLRelapse/common/Meshinchi/TARGET_AML/bam/BM3969-09A-01R_withJunctionsOnGenome_dupsFlagged.bam',\n",
       " '/research/groups/xmagrp/projects/AMLRelapse/common/Meshinchi/TARGET_AML/bam/BM4203-09A-01R_withJunctionsOnGenome_dupsFlagged.bam']"
      ]
     },
     "execution_count": 125,
     "metadata": {},
     "output_type": "execute_result"
    }
   ],
   "source": [
    "list(sampleDf['BAM'].head())"
   ]
  },
  {
   "cell_type": "code",
   "execution_count": 32,
   "metadata": {},
   "outputs": [
    {
     "name": "stdout",
     "output_type": "stream",
     "text": [
      "Created 2 batches from 6 samples\n",
      "Job <227807466> is submitted to queue <compbio>.\n",
      "Job <227807469> is submitted to queue <compbio>.\n",
      "Submiited 2 jobs for extraction of FASTQ reads\n",
      "job checking round: 1; finish: 0/2\n",
      "job checking round: 2; finish: 0/2\n",
      "job checking round: 3; finish: 2/2\n",
      "Successfully completed 2 jobs for extraction of FASTQ reads\n"
     ]
    }
   ],
   "source": [
    "fastqExtractionJobStatus = extractFastqsFromSampleBatches(\n",
    "      sampleDf=sampleDf.head(6),\n",
    "      geneConfigs=geneConfigs,\n",
    "      batches=batches,\n",
    "      geneConfigPickleFile=pickleFile\n",
    ")"
   ]
  },
  {
   "cell_type": "markdown",
   "metadata": {},
   "source": [
    "### Concat FASTQs from sample batches"
   ]
  },
  {
   "cell_type": "code",
   "execution_count": 33,
   "metadata": {},
   "outputs": [],
   "source": [
    "catFastqs = concatFastqBatches(\n",
    "    outdir=geneConfigs.WDIR,\n",
    "    r1Pattern=f'\"{geneConfigs.project}_{geneConfigs.gene}_batch_*.R1.fastq.gz\"',\n",
    "    r2Pattern=f'\"{geneConfigs.project}_{geneConfigs.gene}_batch_*.R2.fastq.gz\"',\n",
    "    fq1=os.path.join(geneConfigs.WDIR, f\"{geneConfigs.project}_{geneConfigs.gene}_raw.R1.fastq.gz\"),\n",
    "    fq2=os.path.join(geneConfigs.WDIR, f\"{geneConfigs.project}_{geneConfigs.gene}_raw.R2.fastq.gz\")\n",
    ")"
   ]
  },
  {
   "cell_type": "code",
   "execution_count": 34,
   "metadata": {},
   "outputs": [
    {
     "data": {
      "text/plain": [
       "['/research_jude/rgs01_jude/groups/xmagrp/projects/AMLRelapse/xmagrp/CohortTracker/dev/test/NRAS/TARGETAML_NRAS_raw.R1.fastq.gz',\n",
       " '/research_jude/rgs01_jude/groups/xmagrp/projects/AMLRelapse/xmagrp/CohortTracker/dev/test/NRAS/TARGETAML_NRAS_raw.R2.fastq.gz']"
      ]
     },
     "execution_count": 34,
     "metadata": {},
     "output_type": "execute_result"
    }
   ],
   "source": [
    "catFastqs"
   ]
  },
  {
   "cell_type": "markdown",
   "metadata": {},
   "source": [
    "### Split FASTQs in set batch sizes"
   ]
  },
  {
   "cell_type": "code",
   "execution_count": 35,
   "metadata": {},
   "outputs": [
    {
     "name": "stdout",
     "output_type": "stream",
     "text": [
      "Job <227807593> is submitted to queue <compbio>.\n",
      "Submitted a job to split FASTQ file\n",
      "job checking round: 1; finish: 1/1\n",
      "Successfully completed job to split FASTQ file\n"
     ]
    }
   ],
   "source": [
    "splitFqJobName = f\"{geneConfigs.project}_{geneConfigs.gene}_SPLIT_FASTQ\"\n",
    "\n",
    "splitFq1, splitFq2 = splitFastq(\n",
    "    fq1=catFastqs[0], fq2=catFastqs[1],\n",
    "    batchSize=BWAReadsPerBatch, outdir=geneConfigs.WDIR, threads=splitFqThreads, jobName=splitFqJobName,\n",
    "    seqkit=geneConfigs.apps['seqkit']\n",
    ")"
   ]
  },
  {
   "cell_type": "markdown",
   "metadata": {},
   "source": [
    "### Extract all readnames per batch"
   ]
  },
  {
   "cell_type": "code",
   "execution_count": 36,
   "metadata": {},
   "outputs": [
    {
     "name": "stdout",
     "output_type": "stream",
     "text": [
      "Job <227807598> is submitted to queue <compbio>.\n",
      "Job <227807599> is submitted to queue <compbio>.\n",
      "Job <227807600> is submitted to queue <compbio>.\n",
      "Submitted 3 jobs to Extract readnames from the FASTQ batches\n",
      "\n",
      "job checking round: 1; finish: 3/3\n",
      "Completed 3 jobs to Extract readnames from the FASTQ batches\n"
     ]
    }
   ],
   "source": [
    "readNameFiles, batchIDs = extractReadNamesFromFASTQ(splitFq1, geneConfigs)"
   ]
  },
  {
   "cell_type": "code",
   "execution_count": 37,
   "metadata": {},
   "outputs": [
    {
     "data": {
      "text/plain": [
       "['part_001', 'part_002', 'part_003']"
      ]
     },
     "execution_count": 37,
     "metadata": {},
     "output_type": "execute_result"
    }
   ],
   "source": [
    "batchIDs"
   ]
  },
  {
   "cell_type": "code",
   "execution_count": 38,
   "metadata": {},
   "outputs": [
    {
     "data": {
      "text/plain": [
       "['/research_jude/rgs01_jude/groups/xmagrp/projects/AMLRelapse/xmagrp/CohortTracker/dev/test/NRAS/TARGETAML_NRAS_part_001_readnames',\n",
       " '/research_jude/rgs01_jude/groups/xmagrp/projects/AMLRelapse/xmagrp/CohortTracker/dev/test/NRAS/TARGETAML_NRAS_part_002_readnames',\n",
       " '/research_jude/rgs01_jude/groups/xmagrp/projects/AMLRelapse/xmagrp/CohortTracker/dev/test/NRAS/TARGETAML_NRAS_part_003_readnames']"
      ]
     },
     "execution_count": 38,
     "metadata": {},
     "output_type": "execute_result"
    }
   ],
   "source": [
    "readNameFiles"
   ]
  },
  {
   "cell_type": "markdown",
   "metadata": {},
   "source": [
    "### Align each batch of FASTQ in priority order of the isoforms and super-RNA and -DNA of the gene"
   ]
  },
  {
   "cell_type": "code",
   "execution_count": 39,
   "metadata": {},
   "outputs": [
    {
     "data": {
      "text/plain": [
       "['/research_jude/rgs01_jude/groups/xmagrp/projects/AMLRelapse/xmagrp/CohortTracker/dev/test/NRAS/NRAS_hg38_NM_002524.fa',\n",
       " '/research_jude/rgs01_jude/groups/xmagrp/projects/AMLRelapse/xmagrp/CohortTracker/dev/test/NRAS/NRAS_hg38_SUPERRNA.fa',\n",
       " '/research_jude/rgs01_jude/groups/xmagrp/projects/AMLRelapse/xmagrp/CohortTracker/dev/test/NRAS/NRAS_hg38_SUPERDNA.fa']"
      ]
     },
     "execution_count": 39,
     "metadata": {},
     "output_type": "execute_result"
    }
   ],
   "source": [
    "geneConfigs.confDict['hg38']['bwaIndices']"
   ]
  },
  {
   "cell_type": "code",
   "execution_count": 111,
   "metadata": {},
   "outputs": [
    {
     "name": "stdout",
     "output_type": "stream",
     "text": [
      "Job <227820844> is submitted to queue <compbio>.\n",
      "Job <227820845> is submitted to queue <compbio>.\n",
      "Job <227820846> is submitted to queue <compbio>.\n",
      "Submitted 3 jobs to Map FASTQ Batches in order of isoforms to subset perfectly matched reads for counting\n",
      "\n",
      "job checking round: 1; finish: 0/3\n",
      "job checking round: 2; finish: 0/3\n",
      "job checking round: 3; finish: 0/3\n",
      "job checking round: 4; finish: 0/3\n",
      "job checking round: 5; finish: 0/3\n",
      "job checking round: 6; finish: 0/3\n",
      "job checking round: 7; finish: 0/3\n",
      "job checking round: 8; finish: 0/3\n",
      "job checking round: 9; finish: 0/3\n",
      "job checking round: 10; finish: 0/3\n",
      "job checking round: 11; finish: 0/3\n",
      "job checking round: 12; finish: 0/3\n",
      "job checking round: 13; finish: 0/3\n",
      "job checking round: 14; finish: 0/3\n",
      "job checking round: 15; finish: 3/3\n",
      "Completed 3 jobs to Map FASTQ Batches in order of isoforms to subset perfectly matched reads for counting\n"
     ]
    }
   ],
   "source": [
    "batchJobStatus, completeBams, matchedBams = batchWisePerfectMatchedBAMs(splitFq1=splitFq1, splitFq2=splitFq2, geneConfigs=geneConfigs)"
   ]
  },
  {
   "cell_type": "code",
   "execution_count": 141,
   "metadata": {},
   "outputs": [
    {
     "data": {
      "text/plain": [
       "{'NM_002524': ['/research_jude/rgs01_jude/groups/xmagrp/projects/AMLRelapse/xmagrp/CohortTracker/dev/test/NRAS/TARGETAML_NRAS_NM_002524_part_001_MATCHEDREADS_0.bam',\n",
       "  '/research_jude/rgs01_jude/groups/xmagrp/projects/AMLRelapse/xmagrp/CohortTracker/dev/test/NRAS/TARGETAML_NRAS_NM_002524_part_002_MATCHEDREADS_0.bam',\n",
       "  '/research_jude/rgs01_jude/groups/xmagrp/projects/AMLRelapse/xmagrp/CohortTracker/dev/test/NRAS/TARGETAML_NRAS_NM_002524_part_003_MATCHEDREADS_0.bam'],\n",
       " 'SUPERRNA': ['/research_jude/rgs01_jude/groups/xmagrp/projects/AMLRelapse/xmagrp/CohortTracker/dev/test/NRAS/TARGETAML_NRAS_SUPERRNA_part_001_MATCHEDREADS_1.bam',\n",
       "  '/research_jude/rgs01_jude/groups/xmagrp/projects/AMLRelapse/xmagrp/CohortTracker/dev/test/NRAS/TARGETAML_NRAS_SUPERRNA_part_002_MATCHEDREADS_1.bam',\n",
       "  '/research_jude/rgs01_jude/groups/xmagrp/projects/AMLRelapse/xmagrp/CohortTracker/dev/test/NRAS/TARGETAML_NRAS_SUPERRNA_part_003_MATCHEDREADS_1.bam'],\n",
       " 'SUPERDNA': ['/research_jude/rgs01_jude/groups/xmagrp/projects/AMLRelapse/xmagrp/CohortTracker/dev/test/NRAS/TARGETAML_NRAS_SUPERDNA_part_001_MATCHEDREADS_2.bam',\n",
       "  '/research_jude/rgs01_jude/groups/xmagrp/projects/AMLRelapse/xmagrp/CohortTracker/dev/test/NRAS/TARGETAML_NRAS_SUPERDNA_part_002_MATCHEDREADS_2.bam',\n",
       "  '/research_jude/rgs01_jude/groups/xmagrp/projects/AMLRelapse/xmagrp/CohortTracker/dev/test/NRAS/TARGETAML_NRAS_SUPERDNA_part_003_MATCHEDREADS_2.bam']}"
      ]
     },
     "execution_count": 141,
     "metadata": {},
     "output_type": "execute_result"
    }
   ],
   "source": [
    "matchedBams"
   ]
  },
  {
   "cell_type": "code",
   "execution_count": 42,
   "metadata": {},
   "outputs": [
    {
     "data": {
      "text/plain": [
       "{'NM_002524': ['/research_jude/rgs01_jude/groups/xmagrp/projects/AMLRelapse/xmagrp/CohortTracker/dev/test/NRAS/TARGETAML_NRAS_NM_002524_part_001.bam',\n",
       "  '/research_jude/rgs01_jude/groups/xmagrp/projects/AMLRelapse/xmagrp/CohortTracker/dev/test/NRAS/TARGETAML_NRAS_NM_002524_part_002.bam',\n",
       "  '/research_jude/rgs01_jude/groups/xmagrp/projects/AMLRelapse/xmagrp/CohortTracker/dev/test/NRAS/TARGETAML_NRAS_NM_002524_part_003.bam'],\n",
       " 'SUPERRNA': ['/research_jude/rgs01_jude/groups/xmagrp/projects/AMLRelapse/xmagrp/CohortTracker/dev/test/NRAS/TARGETAML_NRAS_SUPERRNA_part_001.bam',\n",
       "  '/research_jude/rgs01_jude/groups/xmagrp/projects/AMLRelapse/xmagrp/CohortTracker/dev/test/NRAS/TARGETAML_NRAS_SUPERRNA_part_002.bam',\n",
       "  '/research_jude/rgs01_jude/groups/xmagrp/projects/AMLRelapse/xmagrp/CohortTracker/dev/test/NRAS/TARGETAML_NRAS_SUPERRNA_part_003.bam'],\n",
       " 'SUPERDNA': ['/research_jude/rgs01_jude/groups/xmagrp/projects/AMLRelapse/xmagrp/CohortTracker/dev/test/NRAS/TARGETAML_NRAS_SUPERDNA_part_001.bam',\n",
       "  '/research_jude/rgs01_jude/groups/xmagrp/projects/AMLRelapse/xmagrp/CohortTracker/dev/test/NRAS/TARGETAML_NRAS_SUPERDNA_part_002.bam',\n",
       "  '/research_jude/rgs01_jude/groups/xmagrp/projects/AMLRelapse/xmagrp/CohortTracker/dev/test/NRAS/TARGETAML_NRAS_SUPERDNA_part_003.bam']}"
      ]
     },
     "execution_count": 42,
     "metadata": {},
     "output_type": "execute_result"
    }
   ],
   "source": [
    "completeBams"
   ]
  },
  {
   "cell_type": "markdown",
   "metadata": {},
   "source": [
    "### Counting allles for SNV calling"
   ]
  },
  {
   "cell_type": "code",
   "execution_count": 50,
   "metadata": {},
   "outputs": [
    {
     "data": {
      "text/plain": [
       "'15'"
      ]
     },
     "execution_count": 50,
     "metadata": {},
     "output_type": "execute_result"
    }
   ],
   "source": [
    "geneConfigs.confDict['PARAMETERS']['mapq']"
   ]
  },
  {
   "cell_type": "code",
   "execution_count": 158,
   "metadata": {},
   "outputs": [
    {
     "name": "stdout",
     "output_type": "stream",
     "text": [
      "Job <227837866> is submitted to queue <compbio>.\n",
      "Job <227837867> is submitted to queue <compbio>.\n",
      "Job <227837869> is submitted to queue <compbio>.\n",
      "Job <227837870> is submitted to queue <compbio>.\n",
      "Job <227837872> is submitted to queue <compbio>.\n",
      "Job <227837874> is submitted to queue <compbio>.\n",
      "Job <227837875> is submitted to queue <compbio>.\n",
      "Job <227837877> is submitted to queue <compbio>.\n",
      "Job <227837878> is submitted to queue <compbio>.\n",
      "Submitted 9 jobs to Counting alleles in perfectly matched BAMs in batch-wise manner\n",
      "\n",
      "job checking round: 1; finish: 2/9\n",
      "job checking round: 2; finish: 5/9\n",
      "job checking round: 3; finish: 5/9\n",
      "job checking round: 4; finish: 7/9\n",
      "job checking round: 5; finish: 7/9\n",
      "job checking round: 6; finish: 7/9\n",
      "job checking round: 7; finish: 7/9\n",
      "job checking round: 8; finish: 7/9\n",
      "job checking round: 9; finish: 8/9\n",
      "job checking round: 10; finish: 8/9\n",
      "job checking round: 11; finish: 8/9\n",
      "job checking round: 12; finish: 9/9\n",
      "Completed 9 jobs to Counting alleles in perfectly matched BAMs in batch-wise manner\n"
     ]
    }
   ],
   "source": [
    "countJobStatus, countFiles, errFiles = alleleCountingForPerfectMatchedBAMs(matchedBams=matchedBams, geneConfigs=geneConfigs)"
   ]
  },
  {
   "cell_type": "code",
   "execution_count": 159,
   "metadata": {},
   "outputs": [
    {
     "data": {
      "text/plain": [
       "{'NM_002524': ['/research_jude/rgs01_jude/groups/xmagrp/projects/AMLRelapse/xmagrp/CohortTracker/dev/test/NRAS/TARGETAML_NRAS_NM_002524_part_001_MATCHEDREADS_0.count',\n",
       "  '/research_jude/rgs01_jude/groups/xmagrp/projects/AMLRelapse/xmagrp/CohortTracker/dev/test/NRAS/TARGETAML_NRAS_NM_002524_part_002_MATCHEDREADS_0.count',\n",
       "  '/research_jude/rgs01_jude/groups/xmagrp/projects/AMLRelapse/xmagrp/CohortTracker/dev/test/NRAS/TARGETAML_NRAS_NM_002524_part_003_MATCHEDREADS_0.count'],\n",
       " 'SUPERRNA': ['/research_jude/rgs01_jude/groups/xmagrp/projects/AMLRelapse/xmagrp/CohortTracker/dev/test/NRAS/TARGETAML_NRAS_SUPERRNA_part_001_MATCHEDREADS_1.count',\n",
       "  '/research_jude/rgs01_jude/groups/xmagrp/projects/AMLRelapse/xmagrp/CohortTracker/dev/test/NRAS/TARGETAML_NRAS_SUPERRNA_part_002_MATCHEDREADS_1.count',\n",
       "  '/research_jude/rgs01_jude/groups/xmagrp/projects/AMLRelapse/xmagrp/CohortTracker/dev/test/NRAS/TARGETAML_NRAS_SUPERRNA_part_003_MATCHEDREADS_1.count'],\n",
       " 'SUPERDNA': ['/research_jude/rgs01_jude/groups/xmagrp/projects/AMLRelapse/xmagrp/CohortTracker/dev/test/NRAS/TARGETAML_NRAS_SUPERDNA_part_001_MATCHEDREADS_2.count',\n",
       "  '/research_jude/rgs01_jude/groups/xmagrp/projects/AMLRelapse/xmagrp/CohortTracker/dev/test/NRAS/TARGETAML_NRAS_SUPERDNA_part_002_MATCHEDREADS_2.count',\n",
       "  '/research_jude/rgs01_jude/groups/xmagrp/projects/AMLRelapse/xmagrp/CohortTracker/dev/test/NRAS/TARGETAML_NRAS_SUPERDNA_part_003_MATCHEDREADS_2.count']}"
      ]
     },
     "execution_count": 159,
     "metadata": {},
     "output_type": "execute_result"
    }
   ],
   "source": [
    "countFiles"
   ]
  },
  {
   "cell_type": "markdown",
   "metadata": {},
   "source": [
    "#### Aggregate counts for isoform batches"
   ]
  },
  {
   "cell_type": "code",
   "execution_count": 114,
   "metadata": {},
   "outputs": [],
   "source": [
    "def groupbySumDfs(df1: pd.DataFrame, df2: pd.DataFrame):\n",
    "    if 'Sample' in list(df1.columns):\n",
    "        groupCols = ['Sample', 'Chr', 'Pos']\n",
    "    if 'Tile' in list(df1.columns):\n",
    "        groupCols = ['Tile']\n",
    "    if 'Junction' in list(df1.columns):\n",
    "        groupCols = ['Sample', 'Chr', 'Junction']\n",
    "    return pd.concat([df1, df2]).groupby(groupCols).agg('sum').reset_index()\n",
    "\n",
    "def aggregateCounts(files: list, groupCols: list = ['Sample', 'Chr', 'Pos'], qcut: int = 30):\n",
    "    from functools import reduce\n",
    "    dfs = [pd.read_csv(fname, sep=\"\\t\", low_memory=False) for fname in files]\n",
    "    bases = ['A', 'C', 'G', 'T']\n",
    "    if groupCols == ['Sample', 'Chr', 'Pos']:\n",
    "        retCols = groupCols + [f'{base}_Q_{qcut}' for base in bases] + [f'N_Q_{qcut}']\n",
    "        initDf = pd.DataFrame(columns=retCols)\n",
    "        dfs = [initDf] + dfs\n",
    "    elif groupCols == ['Tile']:\n",
    "        dimers = []\n",
    "        for base1 in bases:\n",
    "            for base2 in bases:\n",
    "                dimer = base1+base2\n",
    "                dimers.append(dimer)\n",
    "        retCols = ['Tile'] + dimers\n",
    "        initDf = pd.DataFrame(columns=retCols)\n",
    "        dfs = [initDf] + dfs\n",
    "    elif groupCols == ['Sample', 'Chr', 'Junction']:\n",
    "        retCols = groupCols + ['Count']\n",
    "        initDf = pd.DataFrame(columns=retCols)\n",
    "        dfs = [initDf] + dfs\n",
    "\n",
    "    return reduce(groupbySumDfs, dfs).sort_values(by=groupCols).reset_index(drop=True)\n",
    "\n",
    "def aggregateIsoformCounts(\n",
    "        countFilesDict: dict, geneConfigs: configUtils.GeneConfig, \n",
    "        groupCols: list = ['Sample', 'Chr', 'Pos']\n",
    "):\n",
    "    aggCountFilesDict = {}\n",
    "    if 'Sample' in groupCols:\n",
    "        extension = \".count\"\n",
    "    if 'Tile' in groupCols:\n",
    "        extension = \".count_err\"\n",
    "    for isoform in countFilesDict.keys():\n",
    "        isofn = os.path.join(\n",
    "            geneConfigs.WDIR, geneConfigs.project + '_' + geneConfigs.gene + '_' + isoform + extension\n",
    "        )\n",
    "        isoCountDf = aggregateCounts(files=countFilesDict[isoform], groupCols=groupCols)\n",
    "        isoCountDf.to_csv(isofn, sep=\"\\t\", index=False)\n",
    "        aggCountFilesDict[isoform] = isofn\n",
    "    return aggCountFilesDict"
   ]
  },
  {
   "cell_type": "code",
   "execution_count": 98,
   "metadata": {},
   "outputs": [
    {
     "data": {
      "text/plain": [
       "['/research_jude/rgs01_jude/groups/xmagrp/projects/AMLRelapse/xmagrp/CohortTracker/dev/test/NRAS/TARGETAML_NRAS_NM_002524_part_001_MATCHEDREADS_0.count',\n",
       " '/research_jude/rgs01_jude/groups/xmagrp/projects/AMLRelapse/xmagrp/CohortTracker/dev/test/NRAS/TARGETAML_NRAS_NM_002524_part_002_MATCHEDREADS_0.count',\n",
       " '/research_jude/rgs01_jude/groups/xmagrp/projects/AMLRelapse/xmagrp/CohortTracker/dev/test/NRAS/TARGETAML_NRAS_NM_002524_part_003_MATCHEDREADS_0.count']"
      ]
     },
     "execution_count": 98,
     "metadata": {},
     "output_type": "execute_result"
    }
   ],
   "source": [
    "countFiles['NM_002524']"
   ]
  },
  {
   "cell_type": "code",
   "execution_count": 160,
   "metadata": {},
   "outputs": [],
   "source": [
    "aggCountFilesDict = aggregateIsoformCounts(countFilesDict=countFiles, geneConfigs=geneConfigs)"
   ]
  },
  {
   "cell_type": "code",
   "execution_count": 161,
   "metadata": {},
   "outputs": [
    {
     "data": {
      "text/plain": [
       "{'NM_002524': '/research_jude/rgs01_jude/groups/xmagrp/projects/AMLRelapse/xmagrp/CohortTracker/dev/test/NRAS/TARGETAML_NRAS_NM_002524.count',\n",
       " 'SUPERRNA': '/research_jude/rgs01_jude/groups/xmagrp/projects/AMLRelapse/xmagrp/CohortTracker/dev/test/NRAS/TARGETAML_NRAS_SUPERRNA.count',\n",
       " 'SUPERDNA': '/research_jude/rgs01_jude/groups/xmagrp/projects/AMLRelapse/xmagrp/CohortTracker/dev/test/NRAS/TARGETAML_NRAS_SUPERDNA.count'}"
      ]
     },
     "execution_count": 161,
     "metadata": {},
     "output_type": "execute_result"
    }
   ],
   "source": [
    "aggCountFilesDict"
   ]
  },
  {
   "cell_type": "markdown",
   "metadata": {},
   "source": [
    "### Counting junctions of a given transcript"
   ]
  },
  {
   "cell_type": "code",
   "execution_count": 89,
   "metadata": {},
   "outputs": [
    {
     "data": {
      "text/plain": [
       "['/research_jude/rgs01_jude/groups/xmagrp/projects/AMLRelapse/xmagrp/CohortTracker/dev/test/NRAS/NRAS_hg38_NM_002524_junctions.tsv']"
      ]
     },
     "execution_count": 89,
     "metadata": {},
     "output_type": "execute_result"
    }
   ],
   "source": [
    "geneConfigs.confDict['hg38']['txnJunctions']"
   ]
  },
  {
   "cell_type": "code",
   "execution_count": 91,
   "metadata": {},
   "outputs": [],
   "source": [
    "matchedBams = {'NM_002524': ['/research_jude/rgs01_jude/groups/xmagrp/projects/AMLRelapse/xmagrp/CohortTracker/dev/test/NRAS/TARGETAML_NRAS_NM_002524_part_001_MATCHEDREADS_0.bam',\n",
    "  '/research_jude/rgs01_jude/groups/xmagrp/projects/AMLRelapse/xmagrp/CohortTracker/dev/test/NRAS/TARGETAML_NRAS_NM_002524_part_002_MATCHEDREADS_0.bam',\n",
    "  '/research_jude/rgs01_jude/groups/xmagrp/projects/AMLRelapse/xmagrp/CohortTracker/dev/test/NRAS/TARGETAML_NRAS_NM_002524_part_003_MATCHEDREADS_0.bam'],\n",
    " 'SUPERRNA': ['/research_jude/rgs01_jude/groups/xmagrp/projects/AMLRelapse/xmagrp/CohortTracker/dev/test/NRAS/TARGETAML_NRAS_SUPERRNA_part_001_MATCHEDREADS_1.bam',\n",
    "  '/research_jude/rgs01_jude/groups/xmagrp/projects/AMLRelapse/xmagrp/CohortTracker/dev/test/NRAS/TARGETAML_NRAS_SUPERRNA_part_002_MATCHEDREADS_1.bam',\n",
    "  '/research_jude/rgs01_jude/groups/xmagrp/projects/AMLRelapse/xmagrp/CohortTracker/dev/test/NRAS/TARGETAML_NRAS_SUPERRNA_part_003_MATCHEDREADS_1.bam'],\n",
    " 'SUPERDNA': ['/research_jude/rgs01_jude/groups/xmagrp/projects/AMLRelapse/xmagrp/CohortTracker/dev/test/NRAS/TARGETAML_NRAS_SUPERDNA_part_001_MATCHEDREADS_2.bam',\n",
    "  '/research_jude/rgs01_jude/groups/xmagrp/projects/AMLRelapse/xmagrp/CohortTracker/dev/test/NRAS/TARGETAML_NRAS_SUPERDNA_part_002_MATCHEDREADS_2.bam',\n",
    "  '/research_jude/rgs01_jude/groups/xmagrp/projects/AMLRelapse/xmagrp/CohortTracker/dev/test/NRAS/TARGETAML_NRAS_SUPERDNA_part_003_MATCHEDREADS_2.bam']}"
   ]
  },
  {
   "cell_type": "code",
   "execution_count": 92,
   "metadata": {},
   "outputs": [
    {
     "data": {
      "text/plain": [
       "{'NM_002524': ['/research_jude/rgs01_jude/groups/xmagrp/projects/AMLRelapse/xmagrp/CohortTracker/dev/test/NRAS/TARGETAML_NRAS_NM_002524_part_001_MATCHEDREADS_0.bam',\n",
       "  '/research_jude/rgs01_jude/groups/xmagrp/projects/AMLRelapse/xmagrp/CohortTracker/dev/test/NRAS/TARGETAML_NRAS_NM_002524_part_002_MATCHEDREADS_0.bam',\n",
       "  '/research_jude/rgs01_jude/groups/xmagrp/projects/AMLRelapse/xmagrp/CohortTracker/dev/test/NRAS/TARGETAML_NRAS_NM_002524_part_003_MATCHEDREADS_0.bam'],\n",
       " 'SUPERRNA': ['/research_jude/rgs01_jude/groups/xmagrp/projects/AMLRelapse/xmagrp/CohortTracker/dev/test/NRAS/TARGETAML_NRAS_SUPERRNA_part_001_MATCHEDREADS_1.bam',\n",
       "  '/research_jude/rgs01_jude/groups/xmagrp/projects/AMLRelapse/xmagrp/CohortTracker/dev/test/NRAS/TARGETAML_NRAS_SUPERRNA_part_002_MATCHEDREADS_1.bam',\n",
       "  '/research_jude/rgs01_jude/groups/xmagrp/projects/AMLRelapse/xmagrp/CohortTracker/dev/test/NRAS/TARGETAML_NRAS_SUPERRNA_part_003_MATCHEDREADS_1.bam'],\n",
       " 'SUPERDNA': ['/research_jude/rgs01_jude/groups/xmagrp/projects/AMLRelapse/xmagrp/CohortTracker/dev/test/NRAS/TARGETAML_NRAS_SUPERDNA_part_001_MATCHEDREADS_2.bam',\n",
       "  '/research_jude/rgs01_jude/groups/xmagrp/projects/AMLRelapse/xmagrp/CohortTracker/dev/test/NRAS/TARGETAML_NRAS_SUPERDNA_part_002_MATCHEDREADS_2.bam',\n",
       "  '/research_jude/rgs01_jude/groups/xmagrp/projects/AMLRelapse/xmagrp/CohortTracker/dev/test/NRAS/TARGETAML_NRAS_SUPERDNA_part_003_MATCHEDREADS_2.bam']}"
      ]
     },
     "execution_count": 92,
     "metadata": {},
     "output_type": "execute_result"
    }
   ],
   "source": [
    "matchedBams"
   ]
  },
  {
   "cell_type": "code",
   "execution_count": 95,
   "metadata": {},
   "outputs": [],
   "source": [
    "targetGenome = geneConfigs.confDict['PARAMETERS']['mapgenome']"
   ]
  },
  {
   "cell_type": "code",
   "execution_count": 99,
   "metadata": {},
   "outputs": [],
   "source": [
    "isoforms = geneConfigs.confDict[targetGenome]['Isoforms']"
   ]
  },
  {
   "cell_type": "code",
   "execution_count": 100,
   "metadata": {},
   "outputs": [
    {
     "data": {
      "text/plain": [
       "['/research_jude/rgs01_jude/groups/xmagrp/projects/AMLRelapse/xmagrp/CohortTracker/dev/test/NRAS/NRAS_hg38_NM_002524_junctions.tsv']"
      ]
     },
     "execution_count": 100,
     "metadata": {},
     "output_type": "execute_result"
    }
   ],
   "source": [
    "geneConfigs.confDict[targetGenome]['txnJunctions']"
   ]
  },
  {
   "cell_type": "code",
   "execution_count": 117,
   "metadata": {},
   "outputs": [],
   "source": [
    "def countJunctionsOfTranscripts(\n",
    "        matchedBamsDict: dict, geneConfigs: configUtils.GeneConfig\n",
    "):\n",
    "    targetGenome = geneConfigs.confDict['PARAMETERS']['mapgenome']\n",
    "    isoforms = geneConfigs.confDict[targetGenome]['Isoforms']\n",
    "    junctionsJobDict = {}\n",
    "    for isoform in isoforms:\n",
    "        bams = matchedBamsDict[isoform]\n",
    "        junctionfile = None\n",
    "        script = \"/research_jude/rgs01_jude/groups/xmagrp/projects/AMLRelapse/xmagrp/CohortTracker/dev/rnaseq/rnaseq/junctionCounter.py\"\n",
    "        for jnfn in geneConfigs.confDict[targetGenome]['txnJunctions']:\n",
    "            if isoform in os.path.basename(jnfn):\n",
    "                junctionfile = jnfn\n",
    "        for bam in bams:\n",
    "            jobName = os.path.basename(bam).replace('.bam', '') + '_junctions.count'\n",
    "            ofn = os.path.join(\n",
    "                geneConfigs.WDIR,\n",
    "                jobName\n",
    "            )\n",
    "            junctionsJobDict[jobName] = f\"python {script} -bam {bam} -junctionfile {junctionfile} -ofn {ofn}\"\n",
    "    \n",
    "    junctionCountJobStatus = ngsUtils.submitAndMonitorJobs(\n",
    "        jobDict=junctionsJobDict, wdir=geneConfigs.WDIR, \n",
    "        jobDescription=\"Counting junctions in perfectly matched BAMs in batch-wise manner\"\n",
    "    )\n",
    "\n",
    "    jofn = os.path.join(geneConfigs.WDIR, f\"{geneConfigs.project}_{geneConfigs.gene}_{targetGenome}_junction.count\")\n",
    "    if junctionCountJobStatus[0]:\n",
    "        junctionCountFiles = [os.path.join(geneConfigs.WDIR, fileName) for fileName in junctionsJobDict.keys()]\n",
    "        junctionCountDf = aggregateCounts(files=junctionCountFiles, groupCols=['Sample', 'Chr', 'Junction'])\n",
    "    else:\n",
    "        junctionCountDf = pd.DataFrame(columns=['Sample', 'Chr', 'Junction', 'Count'])\n",
    "    junctionCountDf.to_csv(jofn, sep=\"\\t\", index=False)\n",
    "    return junctionCountJobStatus, jofn\n"
   ]
  },
  {
   "cell_type": "code",
   "execution_count": 119,
   "metadata": {},
   "outputs": [
    {
     "name": "stdout",
     "output_type": "stream",
     "text": [
      "Job <228346254> is submitted to queue <compbio>.\n",
      "Job <228346255> is submitted to queue <compbio>.\n",
      "Job <228346256> is submitted to queue <compbio>.\n",
      "Submitted 3 jobs to Counting junctions in perfectly matched BAMs in batch-wise manner\n",
      "\n",
      "job checking round: 1; finish: 3/3\n",
      "Completed 3 jobs to Counting junctions in perfectly matched BAMs in batch-wise manner\n"
     ]
    }
   ],
   "source": [
    "junctionCountJobStatus, jofn = countJunctionsOfTranscripts(matchedBamsDict=matchedBams, geneConfigs=geneConfigs)"
   ]
  },
  {
   "cell_type": "code",
   "execution_count": 120,
   "metadata": {},
   "outputs": [
    {
     "data": {
      "text/plain": [
       "'/research_jude/rgs01_jude/groups/xmagrp/projects/AMLRelapse/xmagrp/CohortTracker/dev/test/NRAS/TARGETAML_NRAS_hg38_junction.count'"
      ]
     },
     "execution_count": 120,
     "metadata": {},
     "output_type": "execute_result"
    }
   ],
   "source": [
    "jofn"
   ]
  },
  {
   "cell_type": "code",
   "execution_count": 105,
   "metadata": {},
   "outputs": [],
   "source": [
    "junctionsJobDict = {}\n",
    "for isoform in isoforms:\n",
    "    bams = matchedBams[isoform]\n",
    "    junctionfile = None\n",
    "    script = \"/research_jude/rgs01_jude/groups/xmagrp/projects/AMLRelapse/xmagrp/CohortTracker/dev/rnaseq/rnaseq/junctionCounter.py\"\n",
    "    for jnfn in geneConfigs.confDict[targetGenome]['txnJunctions']:\n",
    "        if isoform in os.path.basename(jnfn):\n",
    "            junctionfile = jnfn\n",
    "    for bam in bams:\n",
    "        jobName = os.path.basename(bam).replace('.bam', '') + '_junctions.count'\n",
    "        ofn = os.path.join(\n",
    "            geneConfigs.WDIR,\n",
    "            os.path.basename(bam).replace('.bam', '') + '_junctions.count'\n",
    "        )\n",
    "\n",
    "        junctionsJobDict[jobName] = f\"python {script} -bam {bam} -junctionfile {junctionfile} -ofn {ofn}\""
   ]
  },
  {
   "cell_type": "code",
   "execution_count": 106,
   "metadata": {},
   "outputs": [
    {
     "data": {
      "text/plain": [
       "{'TARGETAML_NRAS_NM_002524_part_001_MATCHEDREADS_0_junctions.count': 'python /research_jude/rgs01_jude/groups/xmagrp/projects/AMLRelapse/xmagrp/CohortTracker/dev/rnaseq/rnaseq/junctionCounter.py -bam /research_jude/rgs01_jude/groups/xmagrp/projects/AMLRelapse/xmagrp/CohortTracker/dev/test/NRAS/TARGETAML_NRAS_NM_002524_part_001_MATCHEDREADS_0.bam -junctionfile /research_jude/rgs01_jude/groups/xmagrp/projects/AMLRelapse/xmagrp/CohortTracker/dev/test/NRAS/NRAS_hg38_NM_002524_junctions.tsv -ofn /research_jude/rgs01_jude/groups/xmagrp/projects/AMLRelapse/xmagrp/CohortTracker/dev/test/NRAS/TARGETAML_NRAS_NM_002524_part_001_MATCHEDREADS_0_junctions.count',\n",
       " 'TARGETAML_NRAS_NM_002524_part_002_MATCHEDREADS_0_junctions.count': 'python /research_jude/rgs01_jude/groups/xmagrp/projects/AMLRelapse/xmagrp/CohortTracker/dev/rnaseq/rnaseq/junctionCounter.py -bam /research_jude/rgs01_jude/groups/xmagrp/projects/AMLRelapse/xmagrp/CohortTracker/dev/test/NRAS/TARGETAML_NRAS_NM_002524_part_002_MATCHEDREADS_0.bam -junctionfile /research_jude/rgs01_jude/groups/xmagrp/projects/AMLRelapse/xmagrp/CohortTracker/dev/test/NRAS/NRAS_hg38_NM_002524_junctions.tsv -ofn /research_jude/rgs01_jude/groups/xmagrp/projects/AMLRelapse/xmagrp/CohortTracker/dev/test/NRAS/TARGETAML_NRAS_NM_002524_part_002_MATCHEDREADS_0_junctions.count',\n",
       " 'TARGETAML_NRAS_NM_002524_part_003_MATCHEDREADS_0_junctions.count': 'python /research_jude/rgs01_jude/groups/xmagrp/projects/AMLRelapse/xmagrp/CohortTracker/dev/rnaseq/rnaseq/junctionCounter.py -bam /research_jude/rgs01_jude/groups/xmagrp/projects/AMLRelapse/xmagrp/CohortTracker/dev/test/NRAS/TARGETAML_NRAS_NM_002524_part_003_MATCHEDREADS_0.bam -junctionfile /research_jude/rgs01_jude/groups/xmagrp/projects/AMLRelapse/xmagrp/CohortTracker/dev/test/NRAS/NRAS_hg38_NM_002524_junctions.tsv -ofn /research_jude/rgs01_jude/groups/xmagrp/projects/AMLRelapse/xmagrp/CohortTracker/dev/test/NRAS/TARGETAML_NRAS_NM_002524_part_003_MATCHEDREADS_0_junctions.count'}"
      ]
     },
     "execution_count": 106,
     "metadata": {},
     "output_type": "execute_result"
    }
   ],
   "source": [
    "junctionsJobDict"
   ]
  },
  {
   "cell_type": "code",
   "execution_count": null,
   "metadata": {},
   "outputs": [],
   "source": []
  },
  {
   "cell_type": "markdown",
   "metadata": {},
   "source": [
    "### Dropped steps"
   ]
  },
  {
   "cell_type": "markdown",
   "metadata": {},
   "source": [
    "#### Align each batch of FASTQ against the isoforms and super-DNA and -RNA of the gene"
   ]
  },
  {
   "cell_type": "code",
   "execution_count": 25,
   "metadata": {},
   "outputs": [],
   "source": [
    "bwaIndices = [geneConfigs.confDict[mappingGenome][isoform] for isoform in geneConfigs.confDict[mappingGenome]['Isoforms'] + ['SUPERRNA', 'SUPERDNA']]"
   ]
  },
  {
   "cell_type": "code",
   "execution_count": 128,
   "metadata": {},
   "outputs": [
    {
     "data": {
      "text/plain": [
       "['/research_jude/rgs01_jude/groups/xmagrp/projects/AMLRelapse/xmagrp/CohortTracker/dev/test/NRAS/NRAS_hg38_NM_002524.fa',\n",
       " '/research_jude/rgs01_jude/groups/xmagrp/projects/AMLRelapse/xmagrp/CohortTracker/dev/test/NRAS/NRAS_hg38_SUPERRNA.fa',\n",
       " '/research_jude/rgs01_jude/groups/xmagrp/projects/AMLRelapse/xmagrp/CohortTracker/dev/test/NRAS/NRAS_hg38_SUPERDNA.fa']"
      ]
     },
     "execution_count": 128,
     "metadata": {},
     "output_type": "execute_result"
    }
   ],
   "source": [
    "bwaIndices"
   ]
  },
  {
   "cell_type": "code",
   "execution_count": 26,
   "metadata": {},
   "outputs": [
    {
     "name": "stdout",
     "output_type": "stream",
     "text": [
      "Job <225436046> is submitted to queue <rhel8_compbio>.\n",
      "Job <225436047> is submitted to queue <rhel8_compbio>.\n",
      "Job <225436048> is submitted to queue <rhel8_compbio>.\n"
     ]
    },
    {
     "name": "stdout",
     "output_type": "stream",
     "text": [
      "Job <225436049> is submitted to queue <rhel8_compbio>.\n",
      "Job <225436050> is submitted to queue <rhel8_compbio>.\n",
      "Job <225436051> is submitted to queue <rhel8_compbio>.\n",
      "Job <225436052> is submitted to queue <rhel8_compbio>.\n",
      "Job <225436053> is submitted to queue <rhel8_compbio>.\n",
      "Job <225436054> is submitted to queue <rhel8_compbio>.\n",
      "job checking round: 1; finish: 1/9\n",
      "job checking round: 2; finish: 1/9\n",
      "job checking round: 3; finish: 1/9\n",
      "job checking round: 4; finish: 1/9\n",
      "job checking round: 5; finish: 2/9\n",
      "job checking round: 6; finish: 3/9\n",
      "job checking round: 7; finish: 3/9\n",
      "job checking round: 8; finish: 4/9\n",
      "job checking round: 9; finish: 7/9\n",
      "job checking round: 10; finish: 8/9\n",
      "job checking round: 11; finish: 9/9\n",
      "Submiited 9 jobs for mapping raw batches of reads\n",
      "Successfully completed 9 jobs for mapping raw batches of reads\n"
     ]
    }
   ],
   "source": [
    "mapJobStatus = mapFastqReads(\n",
    "    bwaIndices=bwaIndices, fq1=splitFq1, fq2=splitFq2, outdir=geneConfigs.WDIR\n",
    ")"
   ]
  },
  {
   "cell_type": "code",
   "execution_count": 27,
   "metadata": {},
   "outputs": [
    {
     "data": {
      "text/plain": [
       "[True,\n",
       " {'TARGETAML_NRAS_raw.part_003_isoform_SUPERDNA': 1,\n",
       "  'TARGETAML_NRAS_raw.part_003_isoform_SUPERRNA': 1,\n",
       "  'TARGETAML_NRAS_raw.part_003_isoform_NM_002524': 1,\n",
       "  'TARGETAML_NRAS_raw.part_002_isoform_SUPERDNA': 1,\n",
       "  'TARGETAML_NRAS_raw.part_001_isoform_SUPERDNA': 1,\n",
       "  'TARGETAML_NRAS_raw.part_002_isoform_NM_002524': 1,\n",
       "  'TARGETAML_NRAS_raw.part_002_isoform_SUPERRNA': 1,\n",
       "  'TARGETAML_NRAS_raw.part_001_isoform_SUPERRNA': 1,\n",
       "  'TARGETAML_NRAS_raw.part_001_isoform_NM_002524': 1}]"
      ]
     },
     "execution_count": 27,
     "metadata": {},
     "output_type": "execute_result"
    }
   ],
   "source": [
    "mapJobStatus"
   ]
  },
  {
   "cell_type": "markdown",
   "metadata": {},
   "source": [
    "#### Merge BAMs of all isoforms for each batch"
   ]
  },
  {
   "cell_type": "code",
   "execution_count": 130,
   "metadata": {},
   "outputs": [
    {
     "data": {
      "text/plain": [
       "['part_001', 'part_002', 'part_003']"
      ]
     },
     "execution_count": 130,
     "metadata": {},
     "output_type": "execute_result"
    }
   ],
   "source": [
    "fqBatchesIds"
   ]
  },
  {
   "cell_type": "code",
   "execution_count": 51,
   "metadata": {},
   "outputs": [],
   "source": [
    "fqBatchesIds = [os.path.basename(fqbatch).split(\".\")[-3] for fqbatch in splitFq1]\n",
    "bamBatchesDict = {}\n",
    "for batch in fqBatchesIds:\n",
    "    pattern = f'{geneConfigs.WDIR}/{geneConfigs.project}_{geneConfigs.gene}_raw.{batch}_isoform_*.bam'\n",
    "    bamfiles = glob(pattern)\n",
    "    bamBatchesDict[batch] = sorted(bamfiles)"
   ]
  },
  {
   "cell_type": "code",
   "execution_count": 68,
   "metadata": {},
   "outputs": [
    {
     "name": "stdout",
     "output_type": "stream",
     "text": [
      "Job <225518516> is submitted to queue <rhel8_compbio>.\n",
      "Job <225518517> is submitted to queue <rhel8_compbio>.\n",
      "Job <225518518> is submitted to queue <rhel8_compbio>.\n",
      "Submitted 3 jobs to merge isoforms specific BAMs per batch\n",
      "Job <225518519> is submitted to queue <rhel8_compbio>.\n",
      "Job <225518520> is submitted to queue <rhel8_compbio>.\n",
      "Job <225518521> is submitted to queue <rhel8_compbio>.\n",
      "Submitted 3 jobs to extract readnames per batch\n",
      "job checking round: 1; finish: 3/3\n",
      "Successfully completed 3 jobs to merge isoforms specific BAMs per batch\n"
     ]
    }
   ],
   "source": [
    "mergedBams, readNamesJobDict = mergeBatchBamFiles(bamBatchesDict, geneConfigs)"
   ]
  },
  {
   "cell_type": "code",
   "execution_count": 111,
   "metadata": {},
   "outputs": [
    {
     "data": {
      "text/plain": [
       "{'part_001': ['/research_jude/rgs01_jude/groups/xmagrp/projects/AMLRelapse/xmagrp/CohortTracker/dev/test/NRAS/TARGETAML_NRAS_raw.part_001_isoform_NM_002524.bam',\n",
       "  '/research_jude/rgs01_jude/groups/xmagrp/projects/AMLRelapse/xmagrp/CohortTracker/dev/test/NRAS/TARGETAML_NRAS_raw.part_001_isoform_SUPERDNA.bam',\n",
       "  '/research_jude/rgs01_jude/groups/xmagrp/projects/AMLRelapse/xmagrp/CohortTracker/dev/test/NRAS/TARGETAML_NRAS_raw.part_001_isoform_SUPERRNA.bam'],\n",
       " 'part_002': ['/research_jude/rgs01_jude/groups/xmagrp/projects/AMLRelapse/xmagrp/CohortTracker/dev/test/NRAS/TARGETAML_NRAS_raw.part_002_isoform_NM_002524.bam',\n",
       "  '/research_jude/rgs01_jude/groups/xmagrp/projects/AMLRelapse/xmagrp/CohortTracker/dev/test/NRAS/TARGETAML_NRAS_raw.part_002_isoform_SUPERDNA.bam',\n",
       "  '/research_jude/rgs01_jude/groups/xmagrp/projects/AMLRelapse/xmagrp/CohortTracker/dev/test/NRAS/TARGETAML_NRAS_raw.part_002_isoform_SUPERRNA.bam'],\n",
       " 'part_003': ['/research_jude/rgs01_jude/groups/xmagrp/projects/AMLRelapse/xmagrp/CohortTracker/dev/test/NRAS/TARGETAML_NRAS_raw.part_003_isoform_NM_002524.bam',\n",
       "  '/research_jude/rgs01_jude/groups/xmagrp/projects/AMLRelapse/xmagrp/CohortTracker/dev/test/NRAS/TARGETAML_NRAS_raw.part_003_isoform_SUPERDNA.bam',\n",
       "  '/research_jude/rgs01_jude/groups/xmagrp/projects/AMLRelapse/xmagrp/CohortTracker/dev/test/NRAS/TARGETAML_NRAS_raw.part_003_isoform_SUPERRNA.bam']}"
      ]
     },
     "execution_count": 111,
     "metadata": {},
     "output_type": "execute_result"
    }
   ],
   "source": [
    "bamBatchesDict"
   ]
  },
  {
   "cell_type": "code",
   "execution_count": 69,
   "metadata": {},
   "outputs": [
    {
     "data": {
      "text/plain": [
       "['/research_jude/rgs01_jude/groups/xmagrp/projects/AMLRelapse/xmagrp/CohortTracker/dev/test/NRAS/TARGETAML_NRAS_merged_part_001.bam',\n",
       " '/research_jude/rgs01_jude/groups/xmagrp/projects/AMLRelapse/xmagrp/CohortTracker/dev/test/NRAS/TARGETAML_NRAS_merged_part_002.bam',\n",
       " '/research_jude/rgs01_jude/groups/xmagrp/projects/AMLRelapse/xmagrp/CohortTracker/dev/test/NRAS/TARGETAML_NRAS_merged_part_003.bam']"
      ]
     },
     "execution_count": 69,
     "metadata": {},
     "output_type": "execute_result"
    }
   ],
   "source": [
    "mergedBams"
   ]
  },
  {
   "cell_type": "code",
   "execution_count": 70,
   "metadata": {},
   "outputs": [
    {
     "data": {
      "text/plain": [
       "{'TARGETAML_NRAS_part_001_readnames': '\"/research/rgs01/applications/hpcf/authorized_apps/rhel7_apps/seqkit/vendor/2.1.0/seqkit fx2tab -n /research_jude/rgs01_jude/groups/xmagrp/projects/AMLRelapse/xmagrp/CohortTracker/dev/test/NRAS/TARGETAML_NRAS_raw.R1.part_001.fastq.gz > /research_jude/rgs01_jude/groups/xmagrp/projects/AMLRelapse/xmagrp/CohortTracker/dev/test/NRAS/TARGETAML_NRAS_part_001_readnames\"',\n",
       " 'TARGETAML_NRAS_part_002_readnames': '\"/research/rgs01/applications/hpcf/authorized_apps/rhel7_apps/seqkit/vendor/2.1.0/seqkit fx2tab -n /research_jude/rgs01_jude/groups/xmagrp/projects/AMLRelapse/xmagrp/CohortTracker/dev/test/NRAS/TARGETAML_NRAS_raw.R1.part_002.fastq.gz > /research_jude/rgs01_jude/groups/xmagrp/projects/AMLRelapse/xmagrp/CohortTracker/dev/test/NRAS/TARGETAML_NRAS_part_002_readnames\"',\n",
       " 'TARGETAML_NRAS_part_003_readnames': '\"/research/rgs01/applications/hpcf/authorized_apps/rhel7_apps/seqkit/vendor/2.1.0/seqkit fx2tab -n /research_jude/rgs01_jude/groups/xmagrp/projects/AMLRelapse/xmagrp/CohortTracker/dev/test/NRAS/TARGETAML_NRAS_raw.R1.part_003.fastq.gz > /research_jude/rgs01_jude/groups/xmagrp/projects/AMLRelapse/xmagrp/CohortTracker/dev/test/NRAS/TARGETAML_NRAS_part_003_readnames\"'}"
      ]
     },
     "execution_count": 70,
     "metadata": {},
     "output_type": "execute_result"
    }
   ],
   "source": [
    "readNamesJobStatus = "
   ]
  },
  {
   "cell_type": "markdown",
   "metadata": {},
   "source": [
    "#### Obtain unique FASTQ read IDs per batch"
   ]
  },
  {
   "cell_type": "code",
   "execution_count": 71,
   "metadata": {},
   "outputs": [
    {
     "name": "stdout",
     "output_type": "stream",
     "text": [
      "job checking round: 1; finish: 3/3\n"
     ]
    }
   ],
   "source": [
    "readNamesJobStatus = ngsUtils.aa08_job_manager_succeeded(\n",
    "    readNamesJobDict, only_check_finish=False, initial_sleep_sec=10, wait_sec=5, outpath=geneConfigs.WDIR\n",
    ")"
   ]
  },
  {
   "cell_type": "code",
   "execution_count": 72,
   "metadata": {},
   "outputs": [
    {
     "data": {
      "text/plain": [
       "[True,\n",
       " {'TARGETAML_NRAS_part_001_readnames': 1,\n",
       "  'TARGETAML_NRAS_part_002_readnames': 1,\n",
       "  'TARGETAML_NRAS_part_003_readnames': 1}]"
      ]
     },
     "execution_count": 72,
     "metadata": {},
     "output_type": "execute_result"
    }
   ],
   "source": [
    "readNamesJobStatus"
   ]
  },
  {
   "cell_type": "markdown",
   "metadata": {},
   "source": [
    "#### Read classification per batch"
   ]
  },
  {
   "cell_type": "code",
   "execution_count": 131,
   "metadata": {},
   "outputs": [
    {
     "data": {
      "text/plain": [
       "['TARGETAML_NRAS_part_001_readnames',\n",
       " 'TARGETAML_NRAS_part_002_readnames',\n",
       " 'TARGETAML_NRAS_part_003_readnames']"
      ]
     },
     "execution_count": 131,
     "metadata": {},
     "output_type": "execute_result"
    }
   ],
   "source": [
    "list(readNamesJobStatus[1].keys())"
   ]
  },
  {
   "cell_type": "code",
   "execution_count": 132,
   "metadata": {},
   "outputs": [],
   "source": [
    "readNamesBatch = os.path.join(geneConfigs.WDIR, 'TARGETAML_NRAS_part_001_readnames')"
   ]
  },
  {
   "cell_type": "code",
   "execution_count": 133,
   "metadata": {},
   "outputs": [
    {
     "data": {
      "text/plain": [
       "'/research_jude/rgs01_jude/groups/xmagrp/projects/AMLRelapse/xmagrp/CohortTracker/dev/test/NRAS/TARGETAML_NRAS_part_001_readnames'"
      ]
     },
     "execution_count": 133,
     "metadata": {},
     "output_type": "execute_result"
    }
   ],
   "source": [
    "readNamesBatch"
   ]
  },
  {
   "cell_type": "code",
   "execution_count": 134,
   "metadata": {},
   "outputs": [],
   "source": [
    "batchBam = \"/research_jude/rgs01_jude/groups/xmagrp/projects/AMLRelapse/xmagrp/CohortTracker/dev/test/NRAS/TARGETAML_NRAS_merged_part_001.bam\""
   ]
  },
  {
   "cell_type": "code",
   "execution_count": 135,
   "metadata": {},
   "outputs": [],
   "source": [
    "readnamesdf = pd.read_csv(readNamesBatch, sep=\"\\t\", header=None, names=[\"ReadID\"])"
   ]
  },
  {
   "cell_type": "code",
   "execution_count": 136,
   "metadata": {},
   "outputs": [
    {
     "data": {
      "text/html": [
       "<div>\n",
       "<style scoped>\n",
       "    .dataframe tbody tr th:only-of-type {\n",
       "        vertical-align: middle;\n",
       "    }\n",
       "\n",
       "    .dataframe tbody tr th {\n",
       "        vertical-align: top;\n",
       "    }\n",
       "\n",
       "    .dataframe thead th {\n",
       "        text-align: right;\n",
       "    }\n",
       "</style>\n",
       "<table border=\"1\" class=\"dataframe\">\n",
       "  <thead>\n",
       "    <tr style=\"text-align: right;\">\n",
       "      <th></th>\n",
       "      <th>ReadID</th>\n",
       "    </tr>\n",
       "  </thead>\n",
       "  <tbody>\n",
       "    <tr>\n",
       "      <th>0</th>\n",
       "      <td>HISEQ:1036:HHGJTBCX3:1:1101:3095:19694:S1</td>\n",
       "    </tr>\n",
       "    <tr>\n",
       "      <th>1</th>\n",
       "      <td>HISEQ:1036:HHGJTBCX3:1:1101:3362:57492:S1</td>\n",
       "    </tr>\n",
       "    <tr>\n",
       "      <th>2</th>\n",
       "      <td>HISEQ:1036:HHGJTBCX3:1:1101:3646:37354:S1</td>\n",
       "    </tr>\n",
       "    <tr>\n",
       "      <th>3</th>\n",
       "      <td>HISEQ:1036:HHGJTBCX3:1:1101:3962:8993:S1</td>\n",
       "    </tr>\n",
       "    <tr>\n",
       "      <th>4</th>\n",
       "      <td>HISEQ:1036:HHGJTBCX3:1:1101:4199:21460:S1</td>\n",
       "    </tr>\n",
       "    <tr>\n",
       "      <th>...</th>\n",
       "      <td>...</td>\n",
       "    </tr>\n",
       "    <tr>\n",
       "      <th>9995</th>\n",
       "      <td>HS25_215:5:2205:2963:17455:S3</td>\n",
       "    </tr>\n",
       "    <tr>\n",
       "      <th>9996</th>\n",
       "      <td>HS25_215:5:2205:3024:20345:S3</td>\n",
       "    </tr>\n",
       "    <tr>\n",
       "      <th>9997</th>\n",
       "      <td>HS25_215:5:2205:3506:8214:S3</td>\n",
       "    </tr>\n",
       "    <tr>\n",
       "      <th>9998</th>\n",
       "      <td>HS25_215:5:2205:3826:83639:S3</td>\n",
       "    </tr>\n",
       "    <tr>\n",
       "      <th>9999</th>\n",
       "      <td>HS25_215:5:2205:3867:32126:S3</td>\n",
       "    </tr>\n",
       "  </tbody>\n",
       "</table>\n",
       "<p>10000 rows × 1 columns</p>\n",
       "</div>"
      ],
      "text/plain": [
       "                                         ReadID\n",
       "0     HISEQ:1036:HHGJTBCX3:1:1101:3095:19694:S1\n",
       "1     HISEQ:1036:HHGJTBCX3:1:1101:3362:57492:S1\n",
       "2     HISEQ:1036:HHGJTBCX3:1:1101:3646:37354:S1\n",
       "3      HISEQ:1036:HHGJTBCX3:1:1101:3962:8993:S1\n",
       "4     HISEQ:1036:HHGJTBCX3:1:1101:4199:21460:S1\n",
       "...                                         ...\n",
       "9995              HS25_215:5:2205:2963:17455:S3\n",
       "9996              HS25_215:5:2205:3024:20345:S3\n",
       "9997               HS25_215:5:2205:3506:8214:S3\n",
       "9998              HS25_215:5:2205:3826:83639:S3\n",
       "9999              HS25_215:5:2205:3867:32126:S3\n",
       "\n",
       "[10000 rows x 1 columns]"
      ]
     },
     "execution_count": 136,
     "metadata": {},
     "output_type": "execute_result"
    }
   ],
   "source": [
    "readnamesdf"
   ]
  },
  {
   "cell_type": "code",
   "execution_count": 137,
   "metadata": {},
   "outputs": [],
   "source": [
    "readid = \"HISEQ:1036:HHGJTBCX3:1:1101:3095:19694:S1\""
   ]
  },
  {
   "cell_type": "code",
   "execution_count": 138,
   "metadata": {},
   "outputs": [],
   "source": [
    "cmd = f\"{geneConfigs.apps['sambamba']} view -F \\\" read_name == '{readid}' \\\" {batchBam}\""
   ]
  },
  {
   "cell_type": "code",
   "execution_count": 139,
   "metadata": {},
   "outputs": [
    {
     "name": "stdout",
     "output_type": "stream",
     "text": [
      "HISEQ:1036:HHGJTBCX3:1:1101:3095:19694:S1\t99\tNRAS_hg38_NM_002524\t758\t60\t50M\t=\t849\t141\tCTGGTCCTGACTTCCCTGGAGGAGAAGTATTCCTGTTGCTGTCTTCAGTC\tGGGGGGGIIIIIIIIIIIIGIIGGGIIIIIIIIIIIIIIIIIIIIIIIII\tXT:A:U\tNM:i:0\tSM:i:37\tAM:i:37\tX0:i:1\tX1:i:0\tXM:i:0\tXO:i:0\tXG:i:0\tMD:Z:50\n",
      "HISEQ:1036:HHGJTBCX3:1:1101:3095:19694:S1\t147\tNRAS_hg38_NM_002524\t849\t60\t50M\t=\t758\t-141\tTAGTACAATAATCTCTATTTGAGAAGTTCTCAGAATAACTACCTCCTCAC\tIIIIIGIIIIGIIGIIIIIIGIIIIIIIIIIIIIIIIIIIIIIIIGGGGG\tXT:A:U\tNM:i:0\tSM:i:37\tAM:i:37\tX0:i:1\tX1:i:0\tXM:i:0\tXO:i:0\tXG:i:0\tMD:Z:50\n",
      "HISEQ:1036:HHGJTBCX3:1:1101:3095:19694:S1\t99\tNRAS_hg38_SUPERDNA\t8735\t60\t50M\tNRAS_hg38_NM_002524\t8826\t141\tCTGGTCCTGACTTCCCTGGAGGAGAAGTATTCCTGTTGCTGTCTTCAGTC\tGGGGGGGIIIIIIIIIIIIGIIGGGIIIIIIIIIIIIIIIIIIIIIIIII\tXT:A:U\tNM:i:0\tSM:i:37\tAM:i:37\tX0:i:1\tX1:i:0\tXM:i:0\tXO:i:0\tXG:i:0\tMD:Z:50\n",
      "HISEQ:1036:HHGJTBCX3:1:1101:3095:19694:S1\t147\tNRAS_hg38_SUPERDNA\t8826\t60\t50M\tNRAS_hg38_NM_002524\t8735\t-141\tTAGTACAATAATCTCTATTTGAGAAGTTCTCAGAATAACTACCTCCTCAC\tIIIIIGIIIIGIIGIIIIIIGIIIIIIIIIIIIIIIIIIIIIIIIGGGGG\tXT:A:U\tNM:i:0\tSM:i:37\tAM:i:37\tX0:i:1\tX1:i:0\tXM:i:0\tXO:i:0\tXG:i:0\tMD:Z:50\n",
      "HISEQ:1036:HHGJTBCX3:1:1101:3095:19694:S1\t99\tNRAS_hg38_SUPERRNA\t758\t60\t50M\tNRAS_hg38_NM_002524\t849\t141\tCTGGTCCTGACTTCCCTGGAGGAGAAGTATTCCTGTTGCTGTCTTCAGTC\tGGGGGGGIIIIIIIIIIIIGIIGGGIIIIIIIIIIIIIIIIIIIIIIIII\tXT:A:U\tNM:i:0\tSM:i:37\tAM:i:37\tX0:i:1\tX1:i:0\tXM:i:0\tXO:i:0\tXG:i:0\tMD:Z:50\n",
      "HISEQ:1036:HHGJTBCX3:1:1101:3095:19694:S1\t147\tNRAS_hg38_SUPERRNA\t849\t60\t50M\tNRAS_hg38_NM_002524\t758\t-141\tTAGTACAATAATCTCTATTTGAGAAGTTCTCAGAATAACTACCTCCTCAC\tIIIIIGIIIIGIIGIIIIIIGIIIIIIIIIIIIIIIIIIIIIIIIGGGGG\tXT:A:U\tNM:i:0\tSM:i:37\tAM:i:37\tX0:i:1\tX1:i:0\tXM:i:0\tXO:i:0\tXG:i:0\tMD:Z:50\n"
     ]
    },
    {
     "data": {
      "text/plain": [
       "0"
      ]
     },
     "execution_count": 139,
     "metadata": {},
     "output_type": "execute_result"
    }
   ],
   "source": [
    "os.system(cmd)"
   ]
  },
  {
   "cell_type": "code",
   "execution_count": 140,
   "metadata": {},
   "outputs": [],
   "source": [
    "p = subprocess.run([cmd], capture_output=True, text=True, shell=True)"
   ]
  },
  {
   "cell_type": "code",
   "execution_count": 141,
   "metadata": {},
   "outputs": [
    {
     "data": {
      "text/html": [
       "<div>\n",
       "<style scoped>\n",
       "    .dataframe tbody tr th:only-of-type {\n",
       "        vertical-align: middle;\n",
       "    }\n",
       "\n",
       "    .dataframe tbody tr th {\n",
       "        vertical-align: top;\n",
       "    }\n",
       "\n",
       "    .dataframe thead th {\n",
       "        text-align: right;\n",
       "    }\n",
       "</style>\n",
       "<table border=\"1\" class=\"dataframe\">\n",
       "  <thead>\n",
       "    <tr style=\"text-align: right;\">\n",
       "      <th></th>\n",
       "      <th>0</th>\n",
       "      <th>1</th>\n",
       "      <th>2</th>\n",
       "      <th>3</th>\n",
       "      <th>4</th>\n",
       "      <th>5</th>\n",
       "      <th>6</th>\n",
       "      <th>7</th>\n",
       "      <th>8</th>\n",
       "      <th>9</th>\n",
       "      <th>...</th>\n",
       "      <th>11</th>\n",
       "      <th>12</th>\n",
       "      <th>13</th>\n",
       "      <th>14</th>\n",
       "      <th>15</th>\n",
       "      <th>16</th>\n",
       "      <th>17</th>\n",
       "      <th>18</th>\n",
       "      <th>19</th>\n",
       "      <th>20</th>\n",
       "    </tr>\n",
       "  </thead>\n",
       "  <tbody>\n",
       "    <tr>\n",
       "      <th>0</th>\n",
       "      <td>HISEQ:1036:HHGJTBCX3:1:1101:3095:19694:S1</td>\n",
       "      <td>99</td>\n",
       "      <td>NRAS_hg38_NM_002524</td>\n",
       "      <td>758</td>\n",
       "      <td>60</td>\n",
       "      <td>50M</td>\n",
       "      <td>=</td>\n",
       "      <td>849</td>\n",
       "      <td>141</td>\n",
       "      <td>CTGGTCCTGACTTCCCTGGAGGAGAAGTATTCCTGTTGCTGTCTTC...</td>\n",
       "      <td>...</td>\n",
       "      <td>XT:A:U</td>\n",
       "      <td>NM:i:0</td>\n",
       "      <td>SM:i:37</td>\n",
       "      <td>AM:i:37</td>\n",
       "      <td>X0:i:1</td>\n",
       "      <td>X1:i:0</td>\n",
       "      <td>XM:i:0</td>\n",
       "      <td>XO:i:0</td>\n",
       "      <td>XG:i:0</td>\n",
       "      <td>MD:Z:50</td>\n",
       "    </tr>\n",
       "    <tr>\n",
       "      <th>1</th>\n",
       "      <td>HISEQ:1036:HHGJTBCX3:1:1101:3095:19694:S1</td>\n",
       "      <td>147</td>\n",
       "      <td>NRAS_hg38_NM_002524</td>\n",
       "      <td>849</td>\n",
       "      <td>60</td>\n",
       "      <td>50M</td>\n",
       "      <td>=</td>\n",
       "      <td>758</td>\n",
       "      <td>-141</td>\n",
       "      <td>TAGTACAATAATCTCTATTTGAGAAGTTCTCAGAATAACTACCTCC...</td>\n",
       "      <td>...</td>\n",
       "      <td>XT:A:U</td>\n",
       "      <td>NM:i:0</td>\n",
       "      <td>SM:i:37</td>\n",
       "      <td>AM:i:37</td>\n",
       "      <td>X0:i:1</td>\n",
       "      <td>X1:i:0</td>\n",
       "      <td>XM:i:0</td>\n",
       "      <td>XO:i:0</td>\n",
       "      <td>XG:i:0</td>\n",
       "      <td>MD:Z:50</td>\n",
       "    </tr>\n",
       "    <tr>\n",
       "      <th>2</th>\n",
       "      <td>HISEQ:1036:HHGJTBCX3:1:1101:3095:19694:S1</td>\n",
       "      <td>99</td>\n",
       "      <td>NRAS_hg38_SUPERDNA</td>\n",
       "      <td>8735</td>\n",
       "      <td>60</td>\n",
       "      <td>50M</td>\n",
       "      <td>NRAS_hg38_NM_002524</td>\n",
       "      <td>8826</td>\n",
       "      <td>141</td>\n",
       "      <td>CTGGTCCTGACTTCCCTGGAGGAGAAGTATTCCTGTTGCTGTCTTC...</td>\n",
       "      <td>...</td>\n",
       "      <td>XT:A:U</td>\n",
       "      <td>NM:i:0</td>\n",
       "      <td>SM:i:37</td>\n",
       "      <td>AM:i:37</td>\n",
       "      <td>X0:i:1</td>\n",
       "      <td>X1:i:0</td>\n",
       "      <td>XM:i:0</td>\n",
       "      <td>XO:i:0</td>\n",
       "      <td>XG:i:0</td>\n",
       "      <td>MD:Z:50</td>\n",
       "    </tr>\n",
       "    <tr>\n",
       "      <th>3</th>\n",
       "      <td>HISEQ:1036:HHGJTBCX3:1:1101:3095:19694:S1</td>\n",
       "      <td>147</td>\n",
       "      <td>NRAS_hg38_SUPERDNA</td>\n",
       "      <td>8826</td>\n",
       "      <td>60</td>\n",
       "      <td>50M</td>\n",
       "      <td>NRAS_hg38_NM_002524</td>\n",
       "      <td>8735</td>\n",
       "      <td>-141</td>\n",
       "      <td>TAGTACAATAATCTCTATTTGAGAAGTTCTCAGAATAACTACCTCC...</td>\n",
       "      <td>...</td>\n",
       "      <td>XT:A:U</td>\n",
       "      <td>NM:i:0</td>\n",
       "      <td>SM:i:37</td>\n",
       "      <td>AM:i:37</td>\n",
       "      <td>X0:i:1</td>\n",
       "      <td>X1:i:0</td>\n",
       "      <td>XM:i:0</td>\n",
       "      <td>XO:i:0</td>\n",
       "      <td>XG:i:0</td>\n",
       "      <td>MD:Z:50</td>\n",
       "    </tr>\n",
       "    <tr>\n",
       "      <th>4</th>\n",
       "      <td>HISEQ:1036:HHGJTBCX3:1:1101:3095:19694:S1</td>\n",
       "      <td>99</td>\n",
       "      <td>NRAS_hg38_SUPERRNA</td>\n",
       "      <td>758</td>\n",
       "      <td>60</td>\n",
       "      <td>50M</td>\n",
       "      <td>NRAS_hg38_NM_002524</td>\n",
       "      <td>849</td>\n",
       "      <td>141</td>\n",
       "      <td>CTGGTCCTGACTTCCCTGGAGGAGAAGTATTCCTGTTGCTGTCTTC...</td>\n",
       "      <td>...</td>\n",
       "      <td>XT:A:U</td>\n",
       "      <td>NM:i:0</td>\n",
       "      <td>SM:i:37</td>\n",
       "      <td>AM:i:37</td>\n",
       "      <td>X0:i:1</td>\n",
       "      <td>X1:i:0</td>\n",
       "      <td>XM:i:0</td>\n",
       "      <td>XO:i:0</td>\n",
       "      <td>XG:i:0</td>\n",
       "      <td>MD:Z:50</td>\n",
       "    </tr>\n",
       "    <tr>\n",
       "      <th>5</th>\n",
       "      <td>HISEQ:1036:HHGJTBCX3:1:1101:3095:19694:S1</td>\n",
       "      <td>147</td>\n",
       "      <td>NRAS_hg38_SUPERRNA</td>\n",
       "      <td>849</td>\n",
       "      <td>60</td>\n",
       "      <td>50M</td>\n",
       "      <td>NRAS_hg38_NM_002524</td>\n",
       "      <td>758</td>\n",
       "      <td>-141</td>\n",
       "      <td>TAGTACAATAATCTCTATTTGAGAAGTTCTCAGAATAACTACCTCC...</td>\n",
       "      <td>...</td>\n",
       "      <td>XT:A:U</td>\n",
       "      <td>NM:i:0</td>\n",
       "      <td>SM:i:37</td>\n",
       "      <td>AM:i:37</td>\n",
       "      <td>X0:i:1</td>\n",
       "      <td>X1:i:0</td>\n",
       "      <td>XM:i:0</td>\n",
       "      <td>XO:i:0</td>\n",
       "      <td>XG:i:0</td>\n",
       "      <td>MD:Z:50</td>\n",
       "    </tr>\n",
       "  </tbody>\n",
       "</table>\n",
       "<p>6 rows × 21 columns</p>\n",
       "</div>"
      ],
      "text/plain": [
       "                                          0    1                    2     3    \n",
       "0  HISEQ:1036:HHGJTBCX3:1:1101:3095:19694:S1   99  NRAS_hg38_NM_002524   758  \\\n",
       "1  HISEQ:1036:HHGJTBCX3:1:1101:3095:19694:S1  147  NRAS_hg38_NM_002524   849   \n",
       "2  HISEQ:1036:HHGJTBCX3:1:1101:3095:19694:S1   99   NRAS_hg38_SUPERDNA  8735   \n",
       "3  HISEQ:1036:HHGJTBCX3:1:1101:3095:19694:S1  147   NRAS_hg38_SUPERDNA  8826   \n",
       "4  HISEQ:1036:HHGJTBCX3:1:1101:3095:19694:S1   99   NRAS_hg38_SUPERRNA   758   \n",
       "5  HISEQ:1036:HHGJTBCX3:1:1101:3095:19694:S1  147   NRAS_hg38_SUPERRNA   849   \n",
       "\n",
       "   4    5                    6     7     8    \n",
       "0  60  50M                    =   849   141  \\\n",
       "1  60  50M                    =   758  -141   \n",
       "2  60  50M  NRAS_hg38_NM_002524  8826   141   \n",
       "3  60  50M  NRAS_hg38_NM_002524  8735  -141   \n",
       "4  60  50M  NRAS_hg38_NM_002524   849   141   \n",
       "5  60  50M  NRAS_hg38_NM_002524   758  -141   \n",
       "\n",
       "                                                  9   ...      11      12   \n",
       "0  CTGGTCCTGACTTCCCTGGAGGAGAAGTATTCCTGTTGCTGTCTTC...  ...  XT:A:U  NM:i:0  \\\n",
       "1  TAGTACAATAATCTCTATTTGAGAAGTTCTCAGAATAACTACCTCC...  ...  XT:A:U  NM:i:0   \n",
       "2  CTGGTCCTGACTTCCCTGGAGGAGAAGTATTCCTGTTGCTGTCTTC...  ...  XT:A:U  NM:i:0   \n",
       "3  TAGTACAATAATCTCTATTTGAGAAGTTCTCAGAATAACTACCTCC...  ...  XT:A:U  NM:i:0   \n",
       "4  CTGGTCCTGACTTCCCTGGAGGAGAAGTATTCCTGTTGCTGTCTTC...  ...  XT:A:U  NM:i:0   \n",
       "5  TAGTACAATAATCTCTATTTGAGAAGTTCTCAGAATAACTACCTCC...  ...  XT:A:U  NM:i:0   \n",
       "\n",
       "        13       14      15      16      17      18      19       20  \n",
       "0  SM:i:37  AM:i:37  X0:i:1  X1:i:0  XM:i:0  XO:i:0  XG:i:0  MD:Z:50  \n",
       "1  SM:i:37  AM:i:37  X0:i:1  X1:i:0  XM:i:0  XO:i:0  XG:i:0  MD:Z:50  \n",
       "2  SM:i:37  AM:i:37  X0:i:1  X1:i:0  XM:i:0  XO:i:0  XG:i:0  MD:Z:50  \n",
       "3  SM:i:37  AM:i:37  X0:i:1  X1:i:0  XM:i:0  XO:i:0  XG:i:0  MD:Z:50  \n",
       "4  SM:i:37  AM:i:37  X0:i:1  X1:i:0  XM:i:0  XO:i:0  XG:i:0  MD:Z:50  \n",
       "5  SM:i:37  AM:i:37  X0:i:1  X1:i:0  XM:i:0  XO:i:0  XG:i:0  MD:Z:50  \n",
       "\n",
       "[6 rows x 21 columns]"
      ]
     },
     "execution_count": 141,
     "metadata": {},
     "output_type": "execute_result"
    }
   ],
   "source": [
    "pd.DataFrame([ record.split(\"\\t\") for record in p.stdout.split(\"\\n\")[:-1]])"
   ]
  },
  {
   "cell_type": "code",
   "execution_count": 142,
   "metadata": {},
   "outputs": [
    {
     "data": {
      "text/plain": [
       "0"
      ]
     },
     "execution_count": 142,
     "metadata": {},
     "output_type": "execute_result"
    }
   ],
   "source": [
    "p.returncode"
   ]
  },
  {
   "cell_type": "code",
   "execution_count": 143,
   "metadata": {},
   "outputs": [
    {
     "data": {
      "text/plain": [
       "0"
      ]
     },
     "execution_count": 143,
     "metadata": {},
     "output_type": "execute_result"
    }
   ],
   "source": [
    "p = subprocess.run([cmd], capture_output=True, text=True, shell=True)\n",
    "pd.DataFrame([ record.split(\"\\t\") for record in p.stdout.split(\"\\n\")[:-1]])\n",
    "p.returncode"
   ]
  },
  {
   "cell_type": "code",
   "execution_count": 144,
   "metadata": {},
   "outputs": [
    {
     "data": {
      "text/html": [
       "<div>\n",
       "<style scoped>\n",
       "    .dataframe tbody tr th:only-of-type {\n",
       "        vertical-align: middle;\n",
       "    }\n",
       "\n",
       "    .dataframe tbody tr th {\n",
       "        vertical-align: top;\n",
       "    }\n",
       "\n",
       "    .dataframe thead th {\n",
       "        text-align: right;\n",
       "    }\n",
       "</style>\n",
       "<table border=\"1\" class=\"dataframe\">\n",
       "  <thead>\n",
       "    <tr style=\"text-align: right;\">\n",
       "      <th></th>\n",
       "      <th>qname</th>\n",
       "      <th>flag</th>\n",
       "      <th>rname</th>\n",
       "      <th>pos</th>\n",
       "      <th>mapq</th>\n",
       "      <th>cigar</th>\n",
       "      <th>rnext</th>\n",
       "      <th>pnext</th>\n",
       "      <th>tlen</th>\n",
       "      <th>seq</th>\n",
       "      <th>qual</th>\n",
       "    </tr>\n",
       "  </thead>\n",
       "  <tbody>\n",
       "    <tr>\n",
       "      <th>0</th>\n",
       "      <td>HISEQ:1036:HHGJTBCX3:1:1101:3095:19694:S1</td>\n",
       "      <td>99</td>\n",
       "      <td>NRAS_hg38_NM_002524</td>\n",
       "      <td>758</td>\n",
       "      <td>60</td>\n",
       "      <td>50M</td>\n",
       "      <td>=</td>\n",
       "      <td>849</td>\n",
       "      <td>141</td>\n",
       "      <td>CTGGTCCTGACTTCCCTGGAGGAGAAGTATTCCTGTTGCTGTCTTC...</td>\n",
       "      <td>GGGGGGGIIIIIIIIIIIIGIIGGGIIIIIIIIIIIIIIIIIIIII...</td>\n",
       "    </tr>\n",
       "    <tr>\n",
       "      <th>1</th>\n",
       "      <td>HISEQ:1036:HHGJTBCX3:1:1101:3095:19694:S1</td>\n",
       "      <td>147</td>\n",
       "      <td>NRAS_hg38_NM_002524</td>\n",
       "      <td>849</td>\n",
       "      <td>60</td>\n",
       "      <td>50M</td>\n",
       "      <td>=</td>\n",
       "      <td>758</td>\n",
       "      <td>-141</td>\n",
       "      <td>TAGTACAATAATCTCTATTTGAGAAGTTCTCAGAATAACTACCTCC...</td>\n",
       "      <td>IIIIIGIIIIGIIGIIIIIIGIIIIIIIIIIIIIIIIIIIIIIIIG...</td>\n",
       "    </tr>\n",
       "    <tr>\n",
       "      <th>2</th>\n",
       "      <td>HISEQ:1036:HHGJTBCX3:1:1101:3095:19694:S1</td>\n",
       "      <td>99</td>\n",
       "      <td>NRAS_hg38_SUPERDNA</td>\n",
       "      <td>8735</td>\n",
       "      <td>60</td>\n",
       "      <td>50M</td>\n",
       "      <td>NRAS_hg38_NM_002524</td>\n",
       "      <td>8826</td>\n",
       "      <td>141</td>\n",
       "      <td>CTGGTCCTGACTTCCCTGGAGGAGAAGTATTCCTGTTGCTGTCTTC...</td>\n",
       "      <td>GGGGGGGIIIIIIIIIIIIGIIGGGIIIIIIIIIIIIIIIIIIIII...</td>\n",
       "    </tr>\n",
       "    <tr>\n",
       "      <th>3</th>\n",
       "      <td>HISEQ:1036:HHGJTBCX3:1:1101:3095:19694:S1</td>\n",
       "      <td>147</td>\n",
       "      <td>NRAS_hg38_SUPERDNA</td>\n",
       "      <td>8826</td>\n",
       "      <td>60</td>\n",
       "      <td>50M</td>\n",
       "      <td>NRAS_hg38_NM_002524</td>\n",
       "      <td>8735</td>\n",
       "      <td>-141</td>\n",
       "      <td>TAGTACAATAATCTCTATTTGAGAAGTTCTCAGAATAACTACCTCC...</td>\n",
       "      <td>IIIIIGIIIIGIIGIIIIIIGIIIIIIIIIIIIIIIIIIIIIIIIG...</td>\n",
       "    </tr>\n",
       "    <tr>\n",
       "      <th>4</th>\n",
       "      <td>HISEQ:1036:HHGJTBCX3:1:1101:3095:19694:S1</td>\n",
       "      <td>99</td>\n",
       "      <td>NRAS_hg38_SUPERRNA</td>\n",
       "      <td>758</td>\n",
       "      <td>60</td>\n",
       "      <td>50M</td>\n",
       "      <td>NRAS_hg38_NM_002524</td>\n",
       "      <td>849</td>\n",
       "      <td>141</td>\n",
       "      <td>CTGGTCCTGACTTCCCTGGAGGAGAAGTATTCCTGTTGCTGTCTTC...</td>\n",
       "      <td>GGGGGGGIIIIIIIIIIIIGIIGGGIIIIIIIIIIIIIIIIIIIII...</td>\n",
       "    </tr>\n",
       "    <tr>\n",
       "      <th>5</th>\n",
       "      <td>HISEQ:1036:HHGJTBCX3:1:1101:3095:19694:S1</td>\n",
       "      <td>147</td>\n",
       "      <td>NRAS_hg38_SUPERRNA</td>\n",
       "      <td>849</td>\n",
       "      <td>60</td>\n",
       "      <td>50M</td>\n",
       "      <td>NRAS_hg38_NM_002524</td>\n",
       "      <td>758</td>\n",
       "      <td>-141</td>\n",
       "      <td>TAGTACAATAATCTCTATTTGAGAAGTTCTCAGAATAACTACCTCC...</td>\n",
       "      <td>IIIIIGIIIIGIIGIIIIIIGIIIIIIIIIIIIIIIIIIIIIIIIG...</td>\n",
       "    </tr>\n",
       "  </tbody>\n",
       "</table>\n",
       "</div>"
      ],
      "text/plain": [
       "                                       qname flag                rname   pos   \n",
       "0  HISEQ:1036:HHGJTBCX3:1:1101:3095:19694:S1   99  NRAS_hg38_NM_002524   758  \\\n",
       "1  HISEQ:1036:HHGJTBCX3:1:1101:3095:19694:S1  147  NRAS_hg38_NM_002524   849   \n",
       "2  HISEQ:1036:HHGJTBCX3:1:1101:3095:19694:S1   99   NRAS_hg38_SUPERDNA  8735   \n",
       "3  HISEQ:1036:HHGJTBCX3:1:1101:3095:19694:S1  147   NRAS_hg38_SUPERDNA  8826   \n",
       "4  HISEQ:1036:HHGJTBCX3:1:1101:3095:19694:S1   99   NRAS_hg38_SUPERRNA   758   \n",
       "5  HISEQ:1036:HHGJTBCX3:1:1101:3095:19694:S1  147   NRAS_hg38_SUPERRNA   849   \n",
       "\n",
       "  mapq cigar                rnext pnext  tlen   \n",
       "0   60   50M                    =   849   141  \\\n",
       "1   60   50M                    =   758  -141   \n",
       "2   60   50M  NRAS_hg38_NM_002524  8826   141   \n",
       "3   60   50M  NRAS_hg38_NM_002524  8735  -141   \n",
       "4   60   50M  NRAS_hg38_NM_002524   849   141   \n",
       "5   60   50M  NRAS_hg38_NM_002524   758  -141   \n",
       "\n",
       "                                                 seq   \n",
       "0  CTGGTCCTGACTTCCCTGGAGGAGAAGTATTCCTGTTGCTGTCTTC...  \\\n",
       "1  TAGTACAATAATCTCTATTTGAGAAGTTCTCAGAATAACTACCTCC...   \n",
       "2  CTGGTCCTGACTTCCCTGGAGGAGAAGTATTCCTGTTGCTGTCTTC...   \n",
       "3  TAGTACAATAATCTCTATTTGAGAAGTTCTCAGAATAACTACCTCC...   \n",
       "4  CTGGTCCTGACTTCCCTGGAGGAGAAGTATTCCTGTTGCTGTCTTC...   \n",
       "5  TAGTACAATAATCTCTATTTGAGAAGTTCTCAGAATAACTACCTCC...   \n",
       "\n",
       "                                                qual  \n",
       "0  GGGGGGGIIIIIIIIIIIIGIIGGGIIIIIIIIIIIIIIIIIIIII...  \n",
       "1  IIIIIGIIIIGIIGIIIIIIGIIIIIIIIIIIIIIIIIIIIIIIIG...  \n",
       "2  GGGGGGGIIIIIIIIIIIIGIIGGGIIIIIIIIIIIIIIIIIIIII...  \n",
       "3  IIIIIGIIIIGIIGIIIIIIGIIIIIIIIIIIIIIIIIIIIIIIIG...  \n",
       "4  GGGGGGGIIIIIIIIIIIIGIIGGGIIIIIIIIIIIIIIIIIIIII...  \n",
       "5  IIIIIGIIIIGIIGIIIIIIGIIIIIIIIIIIIIIIIIIIIIIIIG...  "
      ]
     },
     "execution_count": 144,
     "metadata": {},
     "output_type": "execute_result"
    }
   ],
   "source": [
    "extractReadnameRecordFromBAM(readname=readid, bam=batchBam, sambambaPath=geneConfigs.apps['sambamba'])"
   ]
  },
  {
   "cell_type": "code",
   "execution_count": 145,
   "metadata": {},
   "outputs": [
    {
     "data": {
      "text/html": [
       "<div>\n",
       "<style scoped>\n",
       "    .dataframe tbody tr th:only-of-type {\n",
       "        vertical-align: middle;\n",
       "    }\n",
       "\n",
       "    .dataframe tbody tr th {\n",
       "        vertical-align: top;\n",
       "    }\n",
       "\n",
       "    .dataframe thead th {\n",
       "        text-align: right;\n",
       "    }\n",
       "</style>\n",
       "<table border=\"1\" class=\"dataframe\">\n",
       "  <thead>\n",
       "    <tr style=\"text-align: right;\">\n",
       "      <th></th>\n",
       "      <th>qname</th>\n",
       "      <th>flag</th>\n",
       "      <th>rname</th>\n",
       "      <th>pos</th>\n",
       "      <th>mapq</th>\n",
       "      <th>cigar</th>\n",
       "      <th>rnext</th>\n",
       "      <th>pnext</th>\n",
       "      <th>tlen</th>\n",
       "      <th>seq</th>\n",
       "      <th>qual</th>\n",
       "    </tr>\n",
       "  </thead>\n",
       "  <tbody>\n",
       "    <tr>\n",
       "      <th>0</th>\n",
       "      <td>HS25_215:5:2205:2963:17455:S3</td>\n",
       "      <td>163</td>\n",
       "      <td>NRAS_hg38_NM_002524</td>\n",
       "      <td>1109</td>\n",
       "      <td>60</td>\n",
       "      <td>75M</td>\n",
       "      <td>=</td>\n",
       "      <td>1250</td>\n",
       "      <td>216</td>\n",
       "      <td>TTCTTTTTACTGTTGAACTTAGAACTATGCTAATTTTTGGAGAAAT...</td>\n",
       "      <td>BCBBCGGGGGGGGGGGGGGGGGGGGGGGGGGGGGGGGGGGGGGGFG...</td>\n",
       "    </tr>\n",
       "    <tr>\n",
       "      <th>1</th>\n",
       "      <td>HS25_215:5:2205:2963:17455:S3</td>\n",
       "      <td>83</td>\n",
       "      <td>NRAS_hg38_NM_002524</td>\n",
       "      <td>1250</td>\n",
       "      <td>60</td>\n",
       "      <td>75M</td>\n",
       "      <td>=</td>\n",
       "      <td>1109</td>\n",
       "      <td>-216</td>\n",
       "      <td>TAGATTCATAAATACAAAAATGAATACTGAATTTTGAGTCTATCCT...</td>\n",
       "      <td>GGGGGGFGGGGGGGGGGGGGGGGGGGGGGGGGGGGGGGGGGGGGGG...</td>\n",
       "    </tr>\n",
       "    <tr>\n",
       "      <th>2</th>\n",
       "      <td>HS25_215:5:2205:2963:17455:S3</td>\n",
       "      <td>163</td>\n",
       "      <td>NRAS_hg38_SUPERDNA</td>\n",
       "      <td>9086</td>\n",
       "      <td>60</td>\n",
       "      <td>75M</td>\n",
       "      <td>NRAS_hg38_NM_002524</td>\n",
       "      <td>9227</td>\n",
       "      <td>216</td>\n",
       "      <td>TTCTTTTTACTGTTGAACTTAGAACTATGCTAATTTTTGGAGAAAT...</td>\n",
       "      <td>BCBBCGGGGGGGGGGGGGGGGGGGGGGGGGGGGGGGGGGGGGGGFG...</td>\n",
       "    </tr>\n",
       "    <tr>\n",
       "      <th>3</th>\n",
       "      <td>HS25_215:5:2205:2963:17455:S3</td>\n",
       "      <td>83</td>\n",
       "      <td>NRAS_hg38_SUPERDNA</td>\n",
       "      <td>9227</td>\n",
       "      <td>60</td>\n",
       "      <td>75M</td>\n",
       "      <td>NRAS_hg38_NM_002524</td>\n",
       "      <td>9086</td>\n",
       "      <td>-216</td>\n",
       "      <td>TAGATTCATAAATACAAAAATGAATACTGAATTTTGAGTCTATCCT...</td>\n",
       "      <td>GGGGGGFGGGGGGGGGGGGGGGGGGGGGGGGGGGGGGGGGGGGGGG...</td>\n",
       "    </tr>\n",
       "    <tr>\n",
       "      <th>4</th>\n",
       "      <td>HS25_215:5:2205:2963:17455:S3</td>\n",
       "      <td>163</td>\n",
       "      <td>NRAS_hg38_SUPERRNA</td>\n",
       "      <td>1109</td>\n",
       "      <td>60</td>\n",
       "      <td>75M</td>\n",
       "      <td>NRAS_hg38_NM_002524</td>\n",
       "      <td>1250</td>\n",
       "      <td>216</td>\n",
       "      <td>TTCTTTTTACTGTTGAACTTAGAACTATGCTAATTTTTGGAGAAAT...</td>\n",
       "      <td>BCBBCGGGGGGGGGGGGGGGGGGGGGGGGGGGGGGGGGGGGGGGFG...</td>\n",
       "    </tr>\n",
       "    <tr>\n",
       "      <th>5</th>\n",
       "      <td>HS25_215:5:2205:2963:17455:S3</td>\n",
       "      <td>83</td>\n",
       "      <td>NRAS_hg38_SUPERRNA</td>\n",
       "      <td>1250</td>\n",
       "      <td>60</td>\n",
       "      <td>75M</td>\n",
       "      <td>NRAS_hg38_NM_002524</td>\n",
       "      <td>1109</td>\n",
       "      <td>-216</td>\n",
       "      <td>TAGATTCATAAATACAAAAATGAATACTGAATTTTGAGTCTATCCT...</td>\n",
       "      <td>GGGGGGFGGGGGGGGGGGGGGGGGGGGGGGGGGGGGGGGGGGGGGG...</td>\n",
       "    </tr>\n",
       "  </tbody>\n",
       "</table>\n",
       "</div>"
      ],
      "text/plain": [
       "                           qname flag                rname   pos mapq cigar   \n",
       "0  HS25_215:5:2205:2963:17455:S3  163  NRAS_hg38_NM_002524  1109   60   75M  \\\n",
       "1  HS25_215:5:2205:2963:17455:S3   83  NRAS_hg38_NM_002524  1250   60   75M   \n",
       "2  HS25_215:5:2205:2963:17455:S3  163   NRAS_hg38_SUPERDNA  9086   60   75M   \n",
       "3  HS25_215:5:2205:2963:17455:S3   83   NRAS_hg38_SUPERDNA  9227   60   75M   \n",
       "4  HS25_215:5:2205:2963:17455:S3  163   NRAS_hg38_SUPERRNA  1109   60   75M   \n",
       "5  HS25_215:5:2205:2963:17455:S3   83   NRAS_hg38_SUPERRNA  1250   60   75M   \n",
       "\n",
       "                 rnext pnext  tlen   \n",
       "0                    =  1250   216  \\\n",
       "1                    =  1109  -216   \n",
       "2  NRAS_hg38_NM_002524  9227   216   \n",
       "3  NRAS_hg38_NM_002524  9086  -216   \n",
       "4  NRAS_hg38_NM_002524  1250   216   \n",
       "5  NRAS_hg38_NM_002524  1109  -216   \n",
       "\n",
       "                                                 seq   \n",
       "0  TTCTTTTTACTGTTGAACTTAGAACTATGCTAATTTTTGGAGAAAT...  \\\n",
       "1  TAGATTCATAAATACAAAAATGAATACTGAATTTTGAGTCTATCCT...   \n",
       "2  TTCTTTTTACTGTTGAACTTAGAACTATGCTAATTTTTGGAGAAAT...   \n",
       "3  TAGATTCATAAATACAAAAATGAATACTGAATTTTGAGTCTATCCT...   \n",
       "4  TTCTTTTTACTGTTGAACTTAGAACTATGCTAATTTTTGGAGAAAT...   \n",
       "5  TAGATTCATAAATACAAAAATGAATACTGAATTTTGAGTCTATCCT...   \n",
       "\n",
       "                                                qual  \n",
       "0  BCBBCGGGGGGGGGGGGGGGGGGGGGGGGGGGGGGGGGGGGGGGFG...  \n",
       "1  GGGGGGFGGGGGGGGGGGGGGGGGGGGGGGGGGGGGGGGGGGGGGG...  \n",
       "2  BCBBCGGGGGGGGGGGGGGGGGGGGGGGGGGGGGGGGGGGGGGGFG...  \n",
       "3  GGGGGGFGGGGGGGGGGGGGGGGGGGGGGGGGGGGGGGGGGGGGGG...  \n",
       "4  BCBBCGGGGGGGGGGGGGGGGGGGGGGGGGGGGGGGGGGGGGGGFG...  \n",
       "5  GGGGGGFGGGGGGGGGGGGGGGGGGGGGGGGGGGGGGGGGGGGGGG...  "
      ]
     },
     "execution_count": 145,
     "metadata": {},
     "output_type": "execute_result"
    }
   ],
   "source": [
    "extractReadnameRecordFromBAM(readname=\"HS25_215:5:2205:2963:17455:S3\", bam=batchBam, sambambaPath=geneConfigs.apps['sambamba'])"
   ]
  },
  {
   "cell_type": "code",
   "execution_count": 146,
   "metadata": {},
   "outputs": [
    {
     "data": {
      "text/html": [
       "<div>\n",
       "<style scoped>\n",
       "    .dataframe tbody tr th:only-of-type {\n",
       "        vertical-align: middle;\n",
       "    }\n",
       "\n",
       "    .dataframe tbody tr th {\n",
       "        vertical-align: top;\n",
       "    }\n",
       "\n",
       "    .dataframe thead th {\n",
       "        text-align: right;\n",
       "    }\n",
       "</style>\n",
       "<table border=\"1\" class=\"dataframe\">\n",
       "  <thead>\n",
       "    <tr style=\"text-align: right;\">\n",
       "      <th></th>\n",
       "      <th>qname</th>\n",
       "      <th>flag</th>\n",
       "      <th>rname</th>\n",
       "      <th>pos</th>\n",
       "      <th>mapq</th>\n",
       "      <th>cigar</th>\n",
       "      <th>rnext</th>\n",
       "      <th>pnext</th>\n",
       "      <th>tlen</th>\n",
       "      <th>seq</th>\n",
       "      <th>qual</th>\n",
       "    </tr>\n",
       "  </thead>\n",
       "  <tbody>\n",
       "    <tr>\n",
       "      <th>0</th>\n",
       "      <td>HS25_215:5:2205:2963:17455:S3</td>\n",
       "      <td>163</td>\n",
       "      <td>NRAS_hg38_NM_002524</td>\n",
       "      <td>1109</td>\n",
       "      <td>60</td>\n",
       "      <td>75M</td>\n",
       "      <td>=</td>\n",
       "      <td>1250</td>\n",
       "      <td>216</td>\n",
       "      <td>TTCTTTTTACTGTTGAACTTAGAACTATGCTAATTTTTGGAGAAAT...</td>\n",
       "      <td>BCBBCGGGGGGGGGGGGGGGGGGGGGGGGGGGGGGGGGGGGGGGFG...</td>\n",
       "    </tr>\n",
       "    <tr>\n",
       "      <th>1</th>\n",
       "      <td>HS25_215:5:2205:2963:17455:S3</td>\n",
       "      <td>83</td>\n",
       "      <td>NRAS_hg38_NM_002524</td>\n",
       "      <td>1250</td>\n",
       "      <td>60</td>\n",
       "      <td>75M</td>\n",
       "      <td>=</td>\n",
       "      <td>1109</td>\n",
       "      <td>-216</td>\n",
       "      <td>TAGATTCATAAATACAAAAATGAATACTGAATTTTGAGTCTATCCT...</td>\n",
       "      <td>GGGGGGFGGGGGGGGGGGGGGGGGGGGGGGGGGGGGGGGGGGGGGG...</td>\n",
       "    </tr>\n",
       "    <tr>\n",
       "      <th>2</th>\n",
       "      <td>HS25_215:5:2205:2963:17455:S3</td>\n",
       "      <td>163</td>\n",
       "      <td>NRAS_hg38_SUPERDNA</td>\n",
       "      <td>9086</td>\n",
       "      <td>60</td>\n",
       "      <td>75M</td>\n",
       "      <td>=</td>\n",
       "      <td>9227</td>\n",
       "      <td>216</td>\n",
       "      <td>TTCTTTTTACTGTTGAACTTAGAACTATGCTAATTTTTGGAGAAAT...</td>\n",
       "      <td>BCBBCGGGGGGGGGGGGGGGGGGGGGGGGGGGGGGGGGGGGGGGFG...</td>\n",
       "    </tr>\n",
       "    <tr>\n",
       "      <th>3</th>\n",
       "      <td>HS25_215:5:2205:2963:17455:S3</td>\n",
       "      <td>83</td>\n",
       "      <td>NRAS_hg38_SUPERDNA</td>\n",
       "      <td>9227</td>\n",
       "      <td>60</td>\n",
       "      <td>75M</td>\n",
       "      <td>=</td>\n",
       "      <td>9086</td>\n",
       "      <td>-216</td>\n",
       "      <td>TAGATTCATAAATACAAAAATGAATACTGAATTTTGAGTCTATCCT...</td>\n",
       "      <td>GGGGGGFGGGGGGGGGGGGGGGGGGGGGGGGGGGGGGGGGGGGGGG...</td>\n",
       "    </tr>\n",
       "    <tr>\n",
       "      <th>4</th>\n",
       "      <td>HS25_215:5:2205:2963:17455:S3</td>\n",
       "      <td>163</td>\n",
       "      <td>NRAS_hg38_SUPERRNA</td>\n",
       "      <td>1109</td>\n",
       "      <td>60</td>\n",
       "      <td>75M</td>\n",
       "      <td>=</td>\n",
       "      <td>1250</td>\n",
       "      <td>216</td>\n",
       "      <td>TTCTTTTTACTGTTGAACTTAGAACTATGCTAATTTTTGGAGAAAT...</td>\n",
       "      <td>BCBBCGGGGGGGGGGGGGGGGGGGGGGGGGGGGGGGGGGGGGGGFG...</td>\n",
       "    </tr>\n",
       "    <tr>\n",
       "      <th>5</th>\n",
       "      <td>HS25_215:5:2205:2963:17455:S3</td>\n",
       "      <td>83</td>\n",
       "      <td>NRAS_hg38_SUPERRNA</td>\n",
       "      <td>1250</td>\n",
       "      <td>60</td>\n",
       "      <td>75M</td>\n",
       "      <td>=</td>\n",
       "      <td>1109</td>\n",
       "      <td>-216</td>\n",
       "      <td>TAGATTCATAAATACAAAAATGAATACTGAATTTTGAGTCTATCCT...</td>\n",
       "      <td>GGGGGGFGGGGGGGGGGGGGGGGGGGGGGGGGGGGGGGGGGGGGGG...</td>\n",
       "    </tr>\n",
       "  </tbody>\n",
       "</table>\n",
       "</div>"
      ],
      "text/plain": [
       "                           qname flag                rname   pos mapq cigar   \n",
       "0  HS25_215:5:2205:2963:17455:S3  163  NRAS_hg38_NM_002524  1109   60   75M  \\\n",
       "1  HS25_215:5:2205:2963:17455:S3   83  NRAS_hg38_NM_002524  1250   60   75M   \n",
       "2  HS25_215:5:2205:2963:17455:S3  163   NRAS_hg38_SUPERDNA  9086   60   75M   \n",
       "3  HS25_215:5:2205:2963:17455:S3   83   NRAS_hg38_SUPERDNA  9227   60   75M   \n",
       "4  HS25_215:5:2205:2963:17455:S3  163   NRAS_hg38_SUPERRNA  1109   60   75M   \n",
       "5  HS25_215:5:2205:2963:17455:S3   83   NRAS_hg38_SUPERRNA  1250   60   75M   \n",
       "\n",
       "  rnext pnext  tlen                                                seq   \n",
       "0     =  1250   216  TTCTTTTTACTGTTGAACTTAGAACTATGCTAATTTTTGGAGAAAT...  \\\n",
       "1     =  1109  -216  TAGATTCATAAATACAAAAATGAATACTGAATTTTGAGTCTATCCT...   \n",
       "2     =  9227   216  TTCTTTTTACTGTTGAACTTAGAACTATGCTAATTTTTGGAGAAAT...   \n",
       "3     =  9086  -216  TAGATTCATAAATACAAAAATGAATACTGAATTTTGAGTCTATCCT...   \n",
       "4     =  1250   216  TTCTTTTTACTGTTGAACTTAGAACTATGCTAATTTTTGGAGAAAT...   \n",
       "5     =  1109  -216  TAGATTCATAAATACAAAAATGAATACTGAATTTTGAGTCTATCCT...   \n",
       "\n",
       "                                                qual  \n",
       "0  BCBBCGGGGGGGGGGGGGGGGGGGGGGGGGGGGGGGGGGGGGGGFG...  \n",
       "1  GGGGGGFGGGGGGGGGGGGGGGGGGGGGGGGGGGGGGGGGGGGGGG...  \n",
       "2  BCBBCGGGGGGGGGGGGGGGGGGGGGGGGGGGGGGGGGGGGGGGFG...  \n",
       "3  GGGGGGFGGGGGGGGGGGGGGGGGGGGGGGGGGGGGGGGGGGGGGG...  \n",
       "4  BCBBCGGGGGGGGGGGGGGGGGGGGGGGGGGGGGGGGGGGGGGGFG...  \n",
       "5  GGGGGGFGGGGGGGGGGGGGGGGGGGGGGGGGGGGGGGGGGGGGGG...  "
      ]
     },
     "execution_count": 146,
     "metadata": {},
     "output_type": "execute_result"
    }
   ],
   "source": [
    "extractReadnameRecordFromIsoformBAMs(\"HS25_215:5:2205:2963:17455:S3\",  bamBatchesDict['part_001'], geneConfigs)"
   ]
  },
  {
   "cell_type": "code",
   "execution_count": 147,
   "metadata": {},
   "outputs": [
    {
     "data": {
      "text/plain": [
       "['/research_jude/rgs01_jude/groups/xmagrp/projects/AMLRelapse/xmagrp/CohortTracker/dev/test/NRAS/TARGETAML_NRAS_raw.part_001_isoform_NM_002524.bam',\n",
       " '/research_jude/rgs01_jude/groups/xmagrp/projects/AMLRelapse/xmagrp/CohortTracker/dev/test/NRAS/TARGETAML_NRAS_raw.part_001_isoform_SUPERDNA.bam',\n",
       " '/research_jude/rgs01_jude/groups/xmagrp/projects/AMLRelapse/xmagrp/CohortTracker/dev/test/NRAS/TARGETAML_NRAS_raw.part_001_isoform_SUPERRNA.bam']"
      ]
     },
     "execution_count": 147,
     "metadata": {},
     "output_type": "execute_result"
    }
   ],
   "source": [
    "bamBatchesDict['part_001']"
   ]
  },
  {
   "cell_type": "code",
   "execution_count": null,
   "metadata": {},
   "outputs": [],
   "source": []
  },
  {
   "cell_type": "markdown",
   "metadata": {},
   "source": [
    "#### Generate batches for parallel execution"
   ]
  },
  {
   "cell_type": "code",
   "execution_count": 148,
   "metadata": {},
   "outputs": [
    {
     "name": "stdout",
     "output_type": "stream",
     "text": [
      "6\n"
     ]
    }
   ],
   "source": [
    "tot = 0\n",
    "batchSizes = []\n",
    "batchDfs = []\n",
    "batchNums = 1\n",
    "batchFastqR1List = []\n",
    "batchFastqR2List = []\n",
    "batchfiles = []\n",
    "fqExtractionBatchCmdsDict = {}\n",
    "for batch in np.array_split(sampleDf.head(n=6), batches):\n",
    "    batchDfs.append(batch)\n",
    "    batchSize = batch.shape[0]\n",
    "    batchSizes.append(batchSize)\n",
    "    tot += batchSize\n",
    "    batchFq1 = os.path.join(geneConfigs.WDIR, f\"{geneConfigs.project}_{geneConfigs.gene}_batch_{batchNums}.R1.fastq.gz\")\n",
    "    batchFq2 = os.path.join(geneConfigs.WDIR, f\"{geneConfigs.project}_{geneConfigs.gene}_batch_{batchNums}.R2.fastq.gz\")\n",
    "    batchFastqR1List.append(batchFq1)\n",
    "    batchFastqR2List.append(batchFq2)\n",
    "    batchofn = os.path.join(geneConfigs.WDIR, f\"{geneConfigs.project}_fastqExtraction_{batchNums}.tsv\")\n",
    "    batch.to_csv(batchofn, sep=\"\\t\", index=False)                      \n",
    "    script = \"/research_jude/rgs01_jude/groups/xmagrp/projects/AMLRelapse/xmagrp/CohortTracker/dev/rnaseq/rnaseq/extractGeneFastqs.py\"\n",
    "    batchCmd = f\"python {script} -samplefile {batchofn} -batchNum {batchNums} -pickelfile {pickleFile}\"\n",
    "    jobName = f\"{geneConfigs.project}_{geneConfigs.gene}_batch_{batchNums}\"\n",
    "    fqExtractionBatchCmdsDict[jobName] = batchCmd\n",
    "    batchNums += 1\n",
    "print(tot)"
   ]
  },
  {
   "cell_type": "code",
   "execution_count": 149,
   "metadata": {},
   "outputs": [
    {
     "name": "stderr",
     "output_type": "stream",
     "text": [
      "MEMLIMIT value </research_jude/rgs01_jude/groups/xmagrp/projects/AMLRelapse/xmagrp/CohortTracker/dev/test/NRAS> is not valid. Limit must be a positive integer. You can use the following units for the limit: KB (or K), MB (or M), GB (or G), TB (or T), PB (or P), EB (or E), ZB (or Z). Job not submitted.\n",
      "MEMLIMIT value </research_jude/rgs01_jude/groups/xmagrp/projects/AMLRelapse/xmagrp/CohortTracker/dev/test/NRAS> is not valid. Limit must be a positive integer. You can use the following units for the limit: KB (or K), MB (or M), GB (or G), TB (or T), PB (or P), EB (or E), ZB (or Z). Job not submitted.\n"
     ]
    }
   ],
   "source": [
    "len(fqExtractionBatchCmdsDict)\n",
    "fastqSubmissionJobDict = submitJobs(fqExtractionBatchCmdsDict, 'compbio', '8000', geneConfigs.WDIR)"
   ]
  },
  {
   "cell_type": "code",
   "execution_count": 150,
   "metadata": {},
   "outputs": [
    {
     "name": "stdout",
     "output_type": "stream",
     "text": [
      "job checking round: 1; finish: 2/2\n"
     ]
    }
   ],
   "source": [
    "fastqJobStatus = ngsUtils.aa08_job_manager_succeeded(\n",
    "    fastqSubmissionJobDict, only_check_finish=False, initial_sleep_sec=10, wait_sec=5, outpath=geneConfigs.WDIR\n",
    ")"
   ]
  },
  {
   "cell_type": "code",
   "execution_count": 68,
   "metadata": {},
   "outputs": [
    {
     "data": {
      "text/plain": [
       "[True, {'TARGETAML_NRAS_batch_2': 1, 'TARGETAML_NRAS_batch_1': 1}]"
      ]
     },
     "execution_count": 68,
     "metadata": {},
     "output_type": "execute_result"
    }
   ],
   "source": [
    "fastqJobStatus"
   ]
  },
  {
   "cell_type": "markdown",
   "metadata": {},
   "source": [
    "## Test/Dev"
   ]
  },
  {
   "cell_type": "markdown",
   "metadata": {},
   "source": [
    "### Hints for extracting perfect matches and store rest of the read IDs\n",
    "\n",
    "- Extract reads with given mapping quality and complete match ^\\d+M$\n",
    "    - `sambamba view  -F \" mapping_quality >= 30 and cigar =~ /^\\d+M$/ \" TARGETAML_NRAS_raw.part_001_isoform_NM_002524.bam`\n",
    "- Extract rest of the reads IDs\n",
    "    - `sambamba view  -F \" not ( mapping_quality >= 30 and not ( unmapped ) and cigar =~ /^\\d+M$/ ) \" TARGETAML_NRAS_raw.part_001_isoform_NM_002524.bam | cut -f1 | sort | uniq`\n",
    "- Extract reads with either of the mate is not fully mapped \n",
    "    - `sambamba view  -F \" mapping_quality >= 30 and not ( unmapped ) and cigar =~ /^\\d+M$/ \" TARGETAML_NRAS_raw.part_001_isoform_NM_002524.bam | cut -f1 | sort | uniq -c | awk -F '[[:space:]]+' '{if ( $2 == 1 ) print $3}'`\n"
   ]
  },
  {
   "cell_type": "code",
   "execution_count": 372,
   "metadata": {},
   "outputs": [],
   "source": [
    "from liftover import get_lifter\n",
    "def getConverter(source: str = 'hg19', target: str = 'hg38', one_based: bool = True):\n",
    "    return get_lifter(source, target, one_based=one_based)\n",
    "\n",
    "\n",
    "def liftoverCoordinates(chrom: str, pos: int, converter:get_lifter):\n",
    "    pass"
   ]
  },
  {
   "cell_type": "code",
   "execution_count": null,
   "metadata": {},
   "outputs": [],
   "source": []
  },
  {
   "cell_type": "code",
   "execution_count": 30,
   "metadata": {},
   "outputs": [],
   "source": [
    "hg38fn = \"/research_jude/rgs01_jude/groups/xmagrp/projects/AMLRelapse/xmagrp/CohortTracker/dev/dogma/dev/hg38ProcessedCuratedRefSeq.tsv\"\n",
    "hg19fn = \"/research_jude/rgs01_jude/groups/xmagrp/projects/AMLRelapse/xmagrp/CohortTracker/dev/dogma/dev/hg19ProcessedCuratedRefSeq.tsv\"\n",
    "hg38Space = GeneSpace(refseqfile=hg38fn, genome='hg38')\n",
    "hg19Space = GeneSpace(refseqfile=hg19fn, genome='hg19')"
   ]
  },
  {
   "cell_type": "code",
   "execution_count": 31,
   "metadata": {},
   "outputs": [],
   "source": [
    "gata1 = hg38Space.transcriptStructure('NM_002049')"
   ]
  },
  {
   "cell_type": "code",
   "execution_count": 32,
   "metadata": {},
   "outputs": [],
   "source": [
    "nras = hg38Space.transcriptStructure('NM_002524')"
   ]
  },
  {
   "cell_type": "code",
   "execution_count": 33,
   "metadata": {},
   "outputs": [],
   "source": [
    "nrasLoci, nrasJunctions = Transcript.transcriptFeatures(nras)"
   ]
  },
  {
   "cell_type": "code",
   "execution_count": 34,
   "metadata": {},
   "outputs": [],
   "source": [
    "gata1Loci, gata1Junctions = Transcript.transcriptFeatures(gata1)"
   ]
  },
  {
   "cell_type": "code",
   "execution_count": 35,
   "metadata": {},
   "outputs": [
    {
     "data": {
      "text/html": [
       "<div>\n",
       "<style scoped>\n",
       "    .dataframe tbody tr th:only-of-type {\n",
       "        vertical-align: middle;\n",
       "    }\n",
       "\n",
       "    .dataframe tbody tr th {\n",
       "        vertical-align: top;\n",
       "    }\n",
       "\n",
       "    .dataframe thead th {\n",
       "        text-align: right;\n",
       "    }\n",
       "</style>\n",
       "<table border=\"1\" class=\"dataframe\">\n",
       "  <thead>\n",
       "    <tr style=\"text-align: right;\">\n",
       "      <th></th>\n",
       "      <th>Gene</th>\n",
       "      <th>Transcript</th>\n",
       "      <th>ExonPair</th>\n",
       "      <th>RNA_pos_A</th>\n",
       "      <th>RNA_pos_B</th>\n",
       "      <th>Chr</th>\n",
       "      <th>DNA_region_A</th>\n",
       "      <th>DNA_region_B</th>\n",
       "      <th>Genome</th>\n",
       "    </tr>\n",
       "  </thead>\n",
       "  <tbody>\n",
       "    <tr>\n",
       "      <th>0</th>\n",
       "      <td>GATA1</td>\n",
       "      <td>NM_002049</td>\n",
       "      <td>E1_E2</td>\n",
       "      <td>52</td>\n",
       "      <td>61</td>\n",
       "      <td>chrX</td>\n",
       "      <td>48786641-48786645</td>\n",
       "      <td>48791091-48791095</td>\n",
       "      <td>hg38</td>\n",
       "    </tr>\n",
       "    <tr>\n",
       "      <th>1</th>\n",
       "      <td>GATA1</td>\n",
       "      <td>NM_002049</td>\n",
       "      <td>E2_E3</td>\n",
       "      <td>291</td>\n",
       "      <td>300</td>\n",
       "      <td>chrX</td>\n",
       "      <td>48791325-48791329</td>\n",
       "      <td>48791844-48791848</td>\n",
       "      <td>hg38</td>\n",
       "    </tr>\n",
       "    <tr>\n",
       "      <th>2</th>\n",
       "      <td>GATA1</td>\n",
       "      <td>NM_002049</td>\n",
       "      <td>E3_E4</td>\n",
       "      <td>669</td>\n",
       "      <td>678</td>\n",
       "      <td>chrX</td>\n",
       "      <td>48792217-48792221</td>\n",
       "      <td>48792323-48792327</td>\n",
       "      <td>hg38</td>\n",
       "    </tr>\n",
       "    <tr>\n",
       "      <th>3</th>\n",
       "      <td>GATA1</td>\n",
       "      <td>NM_002049</td>\n",
       "      <td>E4_E5</td>\n",
       "      <td>815</td>\n",
       "      <td>824</td>\n",
       "      <td>chrX</td>\n",
       "      <td>48792464-48792468</td>\n",
       "      <td>48793172-48793176</td>\n",
       "      <td>hg38</td>\n",
       "    </tr>\n",
       "    <tr>\n",
       "      <th>4</th>\n",
       "      <td>GATA1</td>\n",
       "      <td>NM_002049</td>\n",
       "      <td>E5_E6</td>\n",
       "      <td>941</td>\n",
       "      <td>950</td>\n",
       "      <td>chrX</td>\n",
       "      <td>48793293-48793297</td>\n",
       "      <td>48793793-48793797</td>\n",
       "      <td>hg38</td>\n",
       "    </tr>\n",
       "  </tbody>\n",
       "</table>\n",
       "</div>"
      ],
      "text/plain": [
       "    Gene Transcript ExonPair  RNA_pos_A  RNA_pos_B   Chr       DNA_region_A   \n",
       "0  GATA1  NM_002049    E1_E2         52         61  chrX  48786641-48786645  \\\n",
       "1  GATA1  NM_002049    E2_E3        291        300  chrX  48791325-48791329   \n",
       "2  GATA1  NM_002049    E3_E4        669        678  chrX  48792217-48792221   \n",
       "3  GATA1  NM_002049    E4_E5        815        824  chrX  48792464-48792468   \n",
       "4  GATA1  NM_002049    E5_E6        941        950  chrX  48793293-48793297   \n",
       "\n",
       "        DNA_region_B Genome  \n",
       "0  48791091-48791095   hg38  \n",
       "1  48791844-48791848   hg38  \n",
       "2  48792323-48792327   hg38  \n",
       "3  48793172-48793176   hg38  \n",
       "4  48793793-48793797   hg38  "
      ]
     },
     "execution_count": 35,
     "metadata": {},
     "output_type": "execute_result"
    }
   ],
   "source": [
    "gata1Junctions"
   ]
  },
  {
   "cell_type": "code",
   "execution_count": 38,
   "metadata": {},
   "outputs": [
    {
     "name": "stdout",
     "output_type": "stream",
     "text": [
      "NM_002524 E1_E2 {110, 111, 112, 113, 114, 115, 116, 117, 118, 119} 10\n",
      "NM_002524 E2_E3 {238, 239, 240, 241, 242, 243, 244, 245, 246, 247} 10\n",
      "NM_002524 E3_E4 {417, 418, 419, 420, 421, 422, 423, 424, 425, 426} 10\n",
      "NM_002524 E4_E5 {577, 578, 579, 580, 581, 582, 583, 584, 585, 586} 10\n",
      "NM_002524 E5_E6 {704, 705, 706, 707, 708, 709, 710, 701, 702, 703} 10\n",
      "NM_002524 E6_E7 {740, 741, 742, 743, 744, 745, 746, 747, 748, 749} 10\n"
     ]
    }
   ],
   "source": [
    "for _, row in nrasJunctions.iterrows():\n",
    "    rnaPosList = set(range(row['RNA_pos_A'], row['RNA_pos_B'] + 1))\n",
    "    print(row['Transcript'], row['ExonPair'], rnaPosList, len(rnaPosList))"
   ]
  },
  {
   "cell_type": "code",
   "execution_count": 115,
   "metadata": {},
   "outputs": [
    {
     "data": {
      "text/html": [
       "<div>\n",
       "<style scoped>\n",
       "    .dataframe tbody tr th:only-of-type {\n",
       "        vertical-align: middle;\n",
       "    }\n",
       "\n",
       "    .dataframe tbody tr th {\n",
       "        vertical-align: top;\n",
       "    }\n",
       "\n",
       "    .dataframe thead th {\n",
       "        text-align: right;\n",
       "    }\n",
       "</style>\n",
       "<table border=\"1\" class=\"dataframe\">\n",
       "  <thead>\n",
       "    <tr style=\"text-align: right;\">\n",
       "      <th></th>\n",
       "      <th>Chr</th>\n",
       "      <th>Pos</th>\n",
       "      <th>Feature</th>\n",
       "      <th>FeatureNum</th>\n",
       "      <th>RNAPosForward</th>\n",
       "      <th>RNAPosReversed</th>\n",
       "      <th>Gene</th>\n",
       "      <th>Transcript</th>\n",
       "      <th>Strand</th>\n",
       "      <th>Genome</th>\n",
       "      <th>SeqForward</th>\n",
       "      <th>SeqComplement</th>\n",
       "      <th>Property</th>\n",
       "      <th>AAPos</th>\n",
       "      <th>indexPos</th>\n",
       "      <th>indexSeq</th>\n",
       "      <th>JunctionProperty</th>\n",
       "      <th>JunctionRegion</th>\n",
       "      <th>JunctionFeature</th>\n",
       "    </tr>\n",
       "  </thead>\n",
       "  <tbody>\n",
       "    <tr>\n",
       "      <th>0</th>\n",
       "      <td>chr1</td>\n",
       "      <td>114704469</td>\n",
       "      <td>E</td>\n",
       "      <td>E7</td>\n",
       "      <td>1</td>\n",
       "      <td>4326</td>\n",
       "      <td>NRAS</td>\n",
       "      <td>NM_002524</td>\n",
       "      <td>-</td>\n",
       "      <td>hg38</td>\n",
       "      <td>T</td>\n",
       "      <td>A</td>\n",
       "      <td>3UTR</td>\n",
       "      <td>-1.0</td>\n",
       "      <td>4326.0</td>\n",
       "      <td>A</td>\n",
       "      <td>NaN</td>\n",
       "      <td>NaN</td>\n",
       "      <td>NaN</td>\n",
       "    </tr>\n",
       "    <tr>\n",
       "      <th>1</th>\n",
       "      <td>chr1</td>\n",
       "      <td>114704470</td>\n",
       "      <td>E</td>\n",
       "      <td>E7</td>\n",
       "      <td>2</td>\n",
       "      <td>4325</td>\n",
       "      <td>NRAS</td>\n",
       "      <td>NM_002524</td>\n",
       "      <td>-</td>\n",
       "      <td>hg38</td>\n",
       "      <td>T</td>\n",
       "      <td>A</td>\n",
       "      <td>3UTR</td>\n",
       "      <td>-1.0</td>\n",
       "      <td>4325.0</td>\n",
       "      <td>A</td>\n",
       "      <td>NaN</td>\n",
       "      <td>NaN</td>\n",
       "      <td>NaN</td>\n",
       "    </tr>\n",
       "    <tr>\n",
       "      <th>2</th>\n",
       "      <td>chr1</td>\n",
       "      <td>114704471</td>\n",
       "      <td>E</td>\n",
       "      <td>E7</td>\n",
       "      <td>3</td>\n",
       "      <td>4324</td>\n",
       "      <td>NRAS</td>\n",
       "      <td>NM_002524</td>\n",
       "      <td>-</td>\n",
       "      <td>hg38</td>\n",
       "      <td>A</td>\n",
       "      <td>T</td>\n",
       "      <td>3UTR</td>\n",
       "      <td>-1.0</td>\n",
       "      <td>4324.0</td>\n",
       "      <td>T</td>\n",
       "      <td>NaN</td>\n",
       "      <td>NaN</td>\n",
       "      <td>NaN</td>\n",
       "    </tr>\n",
       "    <tr>\n",
       "      <th>3</th>\n",
       "      <td>chr1</td>\n",
       "      <td>114704472</td>\n",
       "      <td>E</td>\n",
       "      <td>E7</td>\n",
       "      <td>4</td>\n",
       "      <td>4323</td>\n",
       "      <td>NRAS</td>\n",
       "      <td>NM_002524</td>\n",
       "      <td>-</td>\n",
       "      <td>hg38</td>\n",
       "      <td>T</td>\n",
       "      <td>A</td>\n",
       "      <td>3UTR</td>\n",
       "      <td>-1.0</td>\n",
       "      <td>4323.0</td>\n",
       "      <td>A</td>\n",
       "      <td>NaN</td>\n",
       "      <td>NaN</td>\n",
       "      <td>NaN</td>\n",
       "    </tr>\n",
       "    <tr>\n",
       "      <th>4</th>\n",
       "      <td>chr1</td>\n",
       "      <td>114704473</td>\n",
       "      <td>E</td>\n",
       "      <td>E7</td>\n",
       "      <td>5</td>\n",
       "      <td>4322</td>\n",
       "      <td>NRAS</td>\n",
       "      <td>NM_002524</td>\n",
       "      <td>-</td>\n",
       "      <td>hg38</td>\n",
       "      <td>G</td>\n",
       "      <td>C</td>\n",
       "      <td>3UTR</td>\n",
       "      <td>-1.0</td>\n",
       "      <td>4322.0</td>\n",
       "      <td>C</td>\n",
       "      <td>NaN</td>\n",
       "      <td>NaN</td>\n",
       "      <td>NaN</td>\n",
       "    </tr>\n",
       "    <tr>\n",
       "      <th>...</th>\n",
       "      <td>...</td>\n",
       "      <td>...</td>\n",
       "      <td>...</td>\n",
       "      <td>...</td>\n",
       "      <td>...</td>\n",
       "      <td>...</td>\n",
       "      <td>...</td>\n",
       "      <td>...</td>\n",
       "      <td>...</td>\n",
       "      <td>...</td>\n",
       "      <td>...</td>\n",
       "      <td>...</td>\n",
       "      <td>...</td>\n",
       "      <td>...</td>\n",
       "      <td>...</td>\n",
       "      <td>...</td>\n",
       "      <td>...</td>\n",
       "      <td>...</td>\n",
       "      <td>...</td>\n",
       "    </tr>\n",
       "    <tr>\n",
       "      <th>12298</th>\n",
       "      <td>chr1</td>\n",
       "      <td>114716767</td>\n",
       "      <td>E</td>\n",
       "      <td>E1</td>\n",
       "      <td>4322</td>\n",
       "      <td>5</td>\n",
       "      <td>NRAS</td>\n",
       "      <td>NM_002524</td>\n",
       "      <td>-</td>\n",
       "      <td>hg38</td>\n",
       "      <td>G</td>\n",
       "      <td>C</td>\n",
       "      <td>5UTR</td>\n",
       "      <td>-1.0</td>\n",
       "      <td>5.0</td>\n",
       "      <td>C</td>\n",
       "      <td>NaN</td>\n",
       "      <td>NaN</td>\n",
       "      <td>NaN</td>\n",
       "    </tr>\n",
       "    <tr>\n",
       "      <th>12299</th>\n",
       "      <td>chr1</td>\n",
       "      <td>114716768</td>\n",
       "      <td>E</td>\n",
       "      <td>E1</td>\n",
       "      <td>4323</td>\n",
       "      <td>4</td>\n",
       "      <td>NRAS</td>\n",
       "      <td>NM_002524</td>\n",
       "      <td>-</td>\n",
       "      <td>hg38</td>\n",
       "      <td>C</td>\n",
       "      <td>G</td>\n",
       "      <td>5UTR</td>\n",
       "      <td>-1.0</td>\n",
       "      <td>4.0</td>\n",
       "      <td>G</td>\n",
       "      <td>NaN</td>\n",
       "      <td>NaN</td>\n",
       "      <td>NaN</td>\n",
       "    </tr>\n",
       "    <tr>\n",
       "      <th>12300</th>\n",
       "      <td>chr1</td>\n",
       "      <td>114716769</td>\n",
       "      <td>E</td>\n",
       "      <td>E1</td>\n",
       "      <td>4324</td>\n",
       "      <td>3</td>\n",
       "      <td>NRAS</td>\n",
       "      <td>NM_002524</td>\n",
       "      <td>-</td>\n",
       "      <td>hg38</td>\n",
       "      <td>C</td>\n",
       "      <td>G</td>\n",
       "      <td>5UTR</td>\n",
       "      <td>-1.0</td>\n",
       "      <td>3.0</td>\n",
       "      <td>G</td>\n",
       "      <td>NaN</td>\n",
       "      <td>NaN</td>\n",
       "      <td>NaN</td>\n",
       "    </tr>\n",
       "    <tr>\n",
       "      <th>12301</th>\n",
       "      <td>chr1</td>\n",
       "      <td>114716770</td>\n",
       "      <td>E</td>\n",
       "      <td>E1</td>\n",
       "      <td>4325</td>\n",
       "      <td>2</td>\n",
       "      <td>NRAS</td>\n",
       "      <td>NM_002524</td>\n",
       "      <td>-</td>\n",
       "      <td>hg38</td>\n",
       "      <td>C</td>\n",
       "      <td>G</td>\n",
       "      <td>5UTR</td>\n",
       "      <td>-1.0</td>\n",
       "      <td>2.0</td>\n",
       "      <td>G</td>\n",
       "      <td>NaN</td>\n",
       "      <td>NaN</td>\n",
       "      <td>NaN</td>\n",
       "    </tr>\n",
       "    <tr>\n",
       "      <th>12302</th>\n",
       "      <td>chr1</td>\n",
       "      <td>114716771</td>\n",
       "      <td>E</td>\n",
       "      <td>E1</td>\n",
       "      <td>4326</td>\n",
       "      <td>1</td>\n",
       "      <td>NRAS</td>\n",
       "      <td>NM_002524</td>\n",
       "      <td>-</td>\n",
       "      <td>hg38</td>\n",
       "      <td>C</td>\n",
       "      <td>G</td>\n",
       "      <td>5UTR</td>\n",
       "      <td>-1.0</td>\n",
       "      <td>1.0</td>\n",
       "      <td>G</td>\n",
       "      <td>NaN</td>\n",
       "      <td>NaN</td>\n",
       "      <td>NaN</td>\n",
       "    </tr>\n",
       "  </tbody>\n",
       "</table>\n",
       "<p>12303 rows × 19 columns</p>\n",
       "</div>"
      ],
      "text/plain": [
       "        Chr        Pos Feature FeatureNum  RNAPosForward  RNAPosReversed   \n",
       "0      chr1  114704469       E         E7              1            4326  \\\n",
       "1      chr1  114704470       E         E7              2            4325   \n",
       "2      chr1  114704471       E         E7              3            4324   \n",
       "3      chr1  114704472       E         E7              4            4323   \n",
       "4      chr1  114704473       E         E7              5            4322   \n",
       "...     ...        ...     ...        ...            ...             ...   \n",
       "12298  chr1  114716767       E         E1           4322               5   \n",
       "12299  chr1  114716768       E         E1           4323               4   \n",
       "12300  chr1  114716769       E         E1           4324               3   \n",
       "12301  chr1  114716770       E         E1           4325               2   \n",
       "12302  chr1  114716771       E         E1           4326               1   \n",
       "\n",
       "       Gene Transcript Strand Genome SeqForward SeqComplement Property  AAPos   \n",
       "0      NRAS  NM_002524      -   hg38          T             A     3UTR   -1.0  \\\n",
       "1      NRAS  NM_002524      -   hg38          T             A     3UTR   -1.0   \n",
       "2      NRAS  NM_002524      -   hg38          A             T     3UTR   -1.0   \n",
       "3      NRAS  NM_002524      -   hg38          T             A     3UTR   -1.0   \n",
       "4      NRAS  NM_002524      -   hg38          G             C     3UTR   -1.0   \n",
       "...     ...        ...    ...    ...        ...           ...      ...    ...   \n",
       "12298  NRAS  NM_002524      -   hg38          G             C     5UTR   -1.0   \n",
       "12299  NRAS  NM_002524      -   hg38          C             G     5UTR   -1.0   \n",
       "12300  NRAS  NM_002524      -   hg38          C             G     5UTR   -1.0   \n",
       "12301  NRAS  NM_002524      -   hg38          C             G     5UTR   -1.0   \n",
       "12302  NRAS  NM_002524      -   hg38          C             G     5UTR   -1.0   \n",
       "\n",
       "       indexPos indexSeq JunctionProperty JunctionRegion JunctionFeature  \n",
       "0        4326.0        A              NaN            NaN             NaN  \n",
       "1        4325.0        A              NaN            NaN             NaN  \n",
       "2        4324.0        T              NaN            NaN             NaN  \n",
       "3        4323.0        A              NaN            NaN             NaN  \n",
       "4        4322.0        C              NaN            NaN             NaN  \n",
       "...         ...      ...              ...            ...             ...  \n",
       "12298       5.0        C              NaN            NaN             NaN  \n",
       "12299       4.0        G              NaN            NaN             NaN  \n",
       "12300       3.0        G              NaN            NaN             NaN  \n",
       "12301       2.0        G              NaN            NaN             NaN  \n",
       "12302       1.0        G              NaN            NaN             NaN  \n",
       "\n",
       "[12303 rows x 19 columns]"
      ]
     },
     "execution_count": 115,
     "metadata": {},
     "output_type": "execute_result"
    }
   ],
   "source": [
    "nrasLoci"
   ]
  },
  {
   "cell_type": "code",
   "execution_count": 43,
   "metadata": {},
   "outputs": [],
   "source": [
    "junctionfile = \"/research_jude/rgs01_jude/groups/xmagrp/projects/AMLRelapse/xmagrp/CohortTracker/dev/test/NRAS/NRAS_hg38_NM_002524_junctions.tsv\"\n",
    "bamfile = \"/research_jude/rgs01_jude/groups/xmagrp/projects/AMLRelapse/xmagrp/CohortTracker/dev/test/NRAS/TARGETAML_NRAS_NM_002524_part_001_MATCHEDREADS_0.bam\""
   ]
  },
  {
   "cell_type": "code",
   "execution_count": 44,
   "metadata": {},
   "outputs": [],
   "source": [
    "junctionDf = pd.read_csv(junctionfile, sep=\"\\t\")"
   ]
  },
  {
   "cell_type": "code",
   "execution_count": 45,
   "metadata": {},
   "outputs": [
    {
     "data": {
      "text/html": [
       "<div>\n",
       "<style scoped>\n",
       "    .dataframe tbody tr th:only-of-type {\n",
       "        vertical-align: middle;\n",
       "    }\n",
       "\n",
       "    .dataframe tbody tr th {\n",
       "        vertical-align: top;\n",
       "    }\n",
       "\n",
       "    .dataframe thead th {\n",
       "        text-align: right;\n",
       "    }\n",
       "</style>\n",
       "<table border=\"1\" class=\"dataframe\">\n",
       "  <thead>\n",
       "    <tr style=\"text-align: right;\">\n",
       "      <th></th>\n",
       "      <th>Gene</th>\n",
       "      <th>Transcript</th>\n",
       "      <th>ExonPair</th>\n",
       "      <th>RNA_pos_A</th>\n",
       "      <th>RNA_pos_B</th>\n",
       "      <th>Chr</th>\n",
       "      <th>DNA_region_A</th>\n",
       "      <th>DNA_region_B</th>\n",
       "      <th>Genome</th>\n",
       "    </tr>\n",
       "  </thead>\n",
       "  <tbody>\n",
       "    <tr>\n",
       "      <th>0</th>\n",
       "      <td>NRAS</td>\n",
       "      <td>NM_002524</td>\n",
       "      <td>E1_E2</td>\n",
       "      <td>110</td>\n",
       "      <td>119</td>\n",
       "      <td>chr1</td>\n",
       "      <td>114716658-114716662</td>\n",
       "      <td>114716173-114716177</td>\n",
       "      <td>hg38</td>\n",
       "    </tr>\n",
       "    <tr>\n",
       "      <th>1</th>\n",
       "      <td>NRAS</td>\n",
       "      <td>NM_002524</td>\n",
       "      <td>E2_E3</td>\n",
       "      <td>238</td>\n",
       "      <td>247</td>\n",
       "      <td>chr1</td>\n",
       "      <td>114716050-114716054</td>\n",
       "      <td>114713974-114713978</td>\n",
       "      <td>hg38</td>\n",
       "    </tr>\n",
       "    <tr>\n",
       "      <th>2</th>\n",
       "      <td>NRAS</td>\n",
       "      <td>NM_002524</td>\n",
       "      <td>E3_E4</td>\n",
       "      <td>417</td>\n",
       "      <td>426</td>\n",
       "      <td>chr1</td>\n",
       "      <td>114713800-114713804</td>\n",
       "      <td>114709724-114709728</td>\n",
       "      <td>hg38</td>\n",
       "    </tr>\n",
       "    <tr>\n",
       "      <th>3</th>\n",
       "      <td>NRAS</td>\n",
       "      <td>NM_002524</td>\n",
       "      <td>E4_E5</td>\n",
       "      <td>577</td>\n",
       "      <td>586</td>\n",
       "      <td>chr1</td>\n",
       "      <td>114709569-114709573</td>\n",
       "      <td>114708650-114708654</td>\n",
       "      <td>hg38</td>\n",
       "    </tr>\n",
       "    <tr>\n",
       "      <th>4</th>\n",
       "      <td>NRAS</td>\n",
       "      <td>NM_002524</td>\n",
       "      <td>E5_E6</td>\n",
       "      <td>701</td>\n",
       "      <td>710</td>\n",
       "      <td>chr1</td>\n",
       "      <td>114708531-114708535</td>\n",
       "      <td>114708188-114708192</td>\n",
       "      <td>hg38</td>\n",
       "    </tr>\n",
       "    <tr>\n",
       "      <th>5</th>\n",
       "      <td>NRAS</td>\n",
       "      <td>NM_002524</td>\n",
       "      <td>E6_E7</td>\n",
       "      <td>740</td>\n",
       "      <td>749</td>\n",
       "      <td>chr1</td>\n",
       "      <td>114708154-114708158</td>\n",
       "      <td>114708046-114708050</td>\n",
       "      <td>hg38</td>\n",
       "    </tr>\n",
       "  </tbody>\n",
       "</table>\n",
       "</div>"
      ],
      "text/plain": [
       "   Gene Transcript ExonPair  RNA_pos_A  RNA_pos_B   Chr         DNA_region_A   \n",
       "0  NRAS  NM_002524    E1_E2        110        119  chr1  114716658-114716662  \\\n",
       "1  NRAS  NM_002524    E2_E3        238        247  chr1  114716050-114716054   \n",
       "2  NRAS  NM_002524    E3_E4        417        426  chr1  114713800-114713804   \n",
       "3  NRAS  NM_002524    E4_E5        577        586  chr1  114709569-114709573   \n",
       "4  NRAS  NM_002524    E5_E6        701        710  chr1  114708531-114708535   \n",
       "5  NRAS  NM_002524    E6_E7        740        749  chr1  114708154-114708158   \n",
       "\n",
       "          DNA_region_B Genome  \n",
       "0  114716173-114716177   hg38  \n",
       "1  114713974-114713978   hg38  \n",
       "2  114709724-114709728   hg38  \n",
       "3  114708650-114708654   hg38  \n",
       "4  114708188-114708192   hg38  \n",
       "5  114708046-114708050   hg38  "
      ]
     },
     "execution_count": 45,
     "metadata": {},
     "output_type": "execute_result"
    }
   ],
   "source": [
    "junctionDf"
   ]
  },
  {
   "cell_type": "code",
   "execution_count": 46,
   "metadata": {},
   "outputs": [],
   "source": [
    "bam = pysam.AlignmentFile(filename=bamfile, mode='rb')"
   ]
  },
  {
   "cell_type": "code",
   "execution_count": null,
   "metadata": {},
   "outputs": [],
   "source": []
  }
 ],
 "metadata": {
  "kernelspec": {
   "display_name": "dogma",
   "language": "python",
   "name": "python3"
  },
  "language_info": {
   "codemirror_mode": {
    "name": "ipython",
    "version": 3
   },
   "file_extension": ".py",
   "mimetype": "text/x-python",
   "name": "python",
   "nbconvert_exporter": "python",
   "pygments_lexer": "ipython3",
   "version": "3.9.18"
  }
 },
 "nbformat": 4,
 "nbformat_minor": 2
}
